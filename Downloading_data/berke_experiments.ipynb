{
 "cells": [
  {
   "cell_type": "markdown",
   "id": "60415153-eece-4e50-9281-8e8fc739a4d3",
   "metadata": {},
   "source": [
    "**Taking Data From Feature Store**"
   ]
  },
  {
   "cell_type": "code",
   "execution_count": null,
   "id": "89397759-9db0-4530-a03f-1651e62c79bc",
   "metadata": {},
   "outputs": [],
   "source": [
    "import os\n",
    "import pandas as pd\n",
    "from PIL import Image\n",
    "from torch.utils.data import Dataset, DataLoader\n",
    "from torchvision import transforms"
   ]
  },
  {
   "cell_type": "code",
   "execution_count": null,
   "id": "116e24ee-466e-4320-9721-7c46ca0b9195",
   "metadata": {},
   "outputs": [],
   "source": [
    "from sagemaker.feature_store.feature_group import FeatureGroup"
   ]
  },
  {
   "cell_type": "code",
   "execution_count": null,
   "id": "6a8b5e3b-9138-49e3-9a80-edcfe8d2b762",
   "metadata": {},
   "outputs": [],
   "source": [
    "import boto3\n",
    "\n",
    "sagemaker_client = boto3.client('sagemaker-runtime')\n",
    "\n",
    "def get_feature_store_data(feature_group_name):\n",
    "    # Here, we are assuming the feature group is already created and data is ingested\n",
    "    # This is a simplified example of how to get data from feature store\n",
    "    query = f'SELECT * FROM {feature_group_name}'\n",
    "    response = sagemaker_client.get_query_execution(queryString=query)\n",
    "    query_execution_id = response['QueryExecutionId']\n",
    "    \n",
    "    # Wait for the query to complete\n",
    "    response = sagemaker_client.get_query_results(QueryExecutionId=query_execution_id)\n",
    "    \n",
    "    return response['ResultSet']['Rows']\n",
    "\n",
    "feature_group_name = 'image-feature-group'\n",
    "rows = get_feature_store_data(feature_group_name)"
   ]
  },
  {
   "cell_type": "code",
   "execution_count": null,
   "id": "21c13541-001e-41c5-9508-f485b10ad069",
   "metadata": {},
   "outputs": [],
   "source": [
    "import os\n",
    "import requests\n",
    "\n",
    "s3_client = boto3.client('s3')\n",
    "\n",
    "def download_images(metadata, download_dir='images'):\n",
    "    if not os.path.exists(download_dir):\n",
    "        os.makedirs(download_dir)\n",
    "\n",
    "    for record in metadata:\n",
    "        image_location = record['image_location']\n",
    "        bucket, key = image_location.replace('s3://', '').split('/', 1)\n",
    "        local_path = os.path.join(download_dir, os.path.basename(key))\n",
    "        \n",
    "        s3_client.download_file(bucket, key, local_path)\n",
    "\n",
    "        record['local_path'] = local_path  # Add the local path to the record\n",
    "\n",
    "    return metadata\n",
    "\n",
    "metadata = [\n",
    "    {\n",
    "        'image_id': row[0]['Data'][0]['VarCharValue'],\n",
    "        'image_location': row[0]['Data'][1]['VarCharValue'],\n",
    "        'label': int(row[0]['Data'][2]['VarCharValue']),\n",
    "        'image_type': row[0]['Data'][3]['VarCharValue'],\n",
    "        'event_time': row[0]['Data'][4]['VarCharValue'],\n",
    "    } for row in rows\n",
    "]\n",
    "\n",
    "metadata = download_images(metadata)"
   ]
  },
  {
   "cell_type": "code",
   "execution_count": null,
   "id": "35995dd2-e1d9-457f-a4ae-eba9eef694e0",
   "metadata": {},
   "outputs": [],
   "source": [
    "from sklearn.model_selection import train_test_split\n",
    "\n",
    "# Split the metadata into train, validation, and test sets\n",
    "train_metadata, test_metadata = train_test_split(metadata, test_size=0.2, stratify=[m['label'] for m in metadata], random_state=42)\n",
    "train_metadata, val_metadata = train_test_split(train_metadata, test_size=0.25, stratify=[m['label'] for m in train_metadata], random_state=42)\n",
    "\n",
    "print(f\"Training samples: {len(train_metadata)}\")\n",
    "print(f\"Validation samples: {len(val_metadata)}\")\n",
    "print(f\"Test samples: {len(test_metadata)}\")"
   ]
  },
  {
   "cell_type": "code",
   "execution_count": null,
   "id": "bf38be27-e1ea-4df4-b4f7-5adcf09d79b4",
   "metadata": {},
   "outputs": [],
   "source": [
    "import torch\n",
    "from torch.utils.data import Dataset, DataLoader\n",
    "from torchvision import transforms\n",
    "from PIL import Image\n",
    "\n",
    "class FireDataset(Dataset):\n",
    "    def __init__(self, metadata, transform=None):\n",
    "        self.metadata = metadata\n",
    "        self.transform = transform\n",
    "\n",
    "    def __len__(self):\n",
    "        return len(self.metadata)\n",
    "\n",
    "    def __getitem__(self, idx):\n",
    "        img_path = self.metadata[idx]['local_path']\n",
    "        image = Image.open(img_path).convert('RGB')\n",
    "        label = self.metadata[idx]['label']\n",
    "        \n",
    "        if self.transform:\n",
    "            image = self.transform(image)\n",
    "\n",
    "        return image, label"
   ]
  },
  {
   "cell_type": "code",
   "execution_count": null,
   "id": "19d878c0-c2b0-4de6-9cd7-18da38d7ca66",
   "metadata": {},
   "outputs": [],
   "source": [
    "# Define transformations for training and validation/test datasets\n",
    "\n",
    "train_transform = transforms.Compose([\n",
    "    transforms.Resize((224, 224)),\n",
    "    transforms.RandomHorizontalFlip(),\n",
    "    transforms.ToTensor(),\n",
    "    transforms.Normalize(mean=[0.485, 0.456, 0.406], std=[0.229, 0.224, 0.225])\n",
    "])\n",
    "\n",
    "val_test_transform = transforms.Compose([\n",
    "    transforms.Resize((224, 224)),\n",
    "    transforms.ToTensor(),\n",
    "    transforms.Normalize(mean=[0.485, 0.456, 0.406], std=[0.229, 0.224, 0.225])\n",
    "])\n",
    "\n",
    "# Create datasets\n",
    "train_dataset = FireDataset(train_metadata, transform=train_transform)\n",
    "val_dataset = FireDataset(val_metadata, transform=val_test_transform)\n",
    "test_dataset = FireDataset(test_metadata, transform=val_test_transform)\n",
    "\n",
    "# Create dataloaders\n",
    "train_loader = DataLoader(train_dataset, batch_size=32, shuffle=True)\n",
    "val_loader = DataLoader(val_dataset, batch_size=32, shuffle=False)\n",
    "test_loader = DataLoader(test_dataset, batch_size=32, shuffle=False)"
   ]
  },
  {
   "cell_type": "markdown",
   "id": "f8015123-e92f-4e09-8b86-2a6c602a0e4b",
   "metadata": {},
   "source": [
    "**Experiments**"
   ]
  },
  {
   "cell_type": "code",
   "execution_count": null,
   "id": "42eb2a3e-f7fb-493a-8ea8-8c0062e374cc",
   "metadata": {},
   "outputs": [],
   "source": [
    "experiment_name = f\"first-experiment-resnet-{strftime('%d-%H-%M-%S', gmtime())}\""
   ]
  },
  {
   "cell_type": "code",
   "execution_count": null,
   "id": "199c6d1a-0703-4a4b-afa1-9125ccbc26b4",
   "metadata": {},
   "outputs": [],
   "source": []
  },
  {
   "cell_type": "code",
   "execution_count": null,
   "id": "920c230c-088a-4b59-9a89-5897e34684cc",
   "metadata": {},
   "outputs": [],
   "source": []
  },
  {
   "cell_type": "code",
   "execution_count": null,
   "id": "831ca1aa-a8bc-490b-8319-5d2088d9207a",
   "metadata": {},
   "outputs": [],
   "source": []
  },
  {
   "cell_type": "code",
   "execution_count": null,
   "id": "8d09bbeb-affe-4dbb-b43d-a5623853fb76",
   "metadata": {},
   "outputs": [],
   "source": []
  },
  {
   "cell_type": "code",
   "execution_count": null,
   "id": "0c763923-f22c-443f-b01c-a288173d63a6",
   "metadata": {},
   "outputs": [],
   "source": []
  },
  {
   "cell_type": "markdown",
   "id": "e9042a1a",
   "metadata": {},
   "source": [
    "**Taking Data From Feature Store**"
   ]
  },
  {
   "cell_type": "code",
   "execution_count": null,
   "id": "4b2c890f",
   "metadata": {},
   "outputs": [],
   "source": [
    "import os\n",
    "import pandas as pd\n",
    "from PIL import Image\n",
    "from torch.utils.data import Dataset, DataLoader\n",
    "from torchvision import transforms"
   ]
  },
  {
   "cell_type": "code",
   "execution_count": null,
   "id": "91c4660a",
   "metadata": {},
   "outputs": [],
   "source": [
    "from sagemaker.feature_store.feature_group import FeatureGroup"
   ]
  },
  {
   "cell_type": "code",
   "execution_count": null,
   "id": "b436166a",
   "metadata": {},
   "outputs": [],
   "source": [
    "import boto3\n",
    "\n",
    "sagemaker_client = boto3.client('sagemaker-runtime')\n",
    "\n",
    "def get_feature_store_data(feature_group_name):\n",
    "    # Here, we are assuming the feature group is already created and data is ingested\n",
    "    # This is a simplified example of how to get data from feature store\n",
    "    query = f'SELECT * FROM {feature_group_name}'\n",
    "    response = sagemaker_client.get_query_execution(queryString=query)\n",
    "    query_execution_id = response['QueryExecutionId']\n",
    "    \n",
    "    # Wait for the query to complete\n",
    "    response = sagemaker_client.get_query_results(QueryExecutionId=query_execution_id)\n",
    "    \n",
    "    return response['ResultSet']['Rows']\n",
    "\n",
    "feature_group_name = 'image-feature-group'\n",
    "rows = get_feature_store_data(feature_group_name)"
   ]
  },
  {
   "cell_type": "code",
   "execution_count": null,
   "id": "ff5c3a5c",
   "metadata": {},
   "outputs": [],
   "source": [
    "import os\n",
    "import requests\n",
    "\n",
    "s3_client = boto3.client('s3')\n",
    "\n",
    "def download_images(metadata, download_dir='images'):\n",
    "    if not os.path.exists(download_dir):\n",
    "        os.makedirs(download_dir)\n",
    "\n",
    "    for record in metadata:\n",
    "        image_location = record['image_location']\n",
    "        bucket, key = image_location.replace('s3://', '').split('/', 1)\n",
    "        local_path = os.path.join(download_dir, os.path.basename(key))\n",
    "        \n",
    "        s3_client.download_file(bucket, key, local_path)\n",
    "\n",
    "        record['local_path'] = local_path  # Add the local path to the record\n",
    "\n",
    "    return metadata\n",
    "\n",
    "metadata = [\n",
    "    {\n",
    "        'image_id': row[0]['Data'][0]['VarCharValue'],\n",
    "        'image_location': row[0]['Data'][1]['VarCharValue'],\n",
    "        'label': int(row[0]['Data'][2]['VarCharValue']),\n",
    "        'image_type': row[0]['Data'][3]['VarCharValue'],\n",
    "        'event_time': row[0]['Data'][4]['VarCharValue'],\n",
    "    } for row in rows\n",
    "]\n",
    "\n",
    "metadata = download_images(metadata)"
   ]
  },
  {
   "cell_type": "code",
   "execution_count": null,
   "id": "a57801d9",
   "metadata": {},
   "outputs": [],
   "source": [
    "from sklearn.model_selection import train_test_split\n",
    "\n",
    "# Split the metadata into train, validation, and test sets\n",
    "train_metadata, test_metadata = train_test_split(metadata, test_size=0.2, stratify=[m['label'] for m in metadata], random_state=42)\n",
    "train_metadata, val_metadata = train_test_split(train_metadata, test_size=0.25, stratify=[m['label'] for m in train_metadata], random_state=42)\n",
    "\n",
    "print(f\"Training samples: {len(train_metadata)}\")\n",
    "print(f\"Validation samples: {len(val_metadata)}\")\n",
    "print(f\"Test samples: {len(test_metadata)}\")"
   ]
  },
  {
   "cell_type": "code",
   "execution_count": null,
   "id": "106d9e05",
   "metadata": {},
   "outputs": [],
   "source": [
    "import torch\n",
    "from torch.utils.data import Dataset, DataLoader\n",
    "from torchvision import transforms\n",
    "from PIL import Image\n",
    "\n",
    "class FireDataset(Dataset):\n",
    "    def __init__(self, metadata, transform=None):\n",
    "        self.metadata = metadata\n",
    "        self.transform = transform\n",
    "\n",
    "    def __len__(self):\n",
    "        return len(self.metadata)\n",
    "\n",
    "    def __getitem__(self, idx):\n",
    "        img_path = self.metadata[idx]['local_path']\n",
    "        image = Image.open(img_path).convert('RGB')\n",
    "        label = self.metadata[idx]['label']\n",
    "        \n",
    "        if self.transform:\n",
    "            image = self.transform(image)\n",
    "\n",
    "        return image, label"
   ]
  },
  {
   "cell_type": "code",
   "execution_count": null,
   "id": "2727cf53",
   "metadata": {},
   "outputs": [],
   "source": [
    "# Define transformations for training and validation/test datasets\n",
    "\n",
    "train_transform = transforms.Compose([\n",
    "    transforms.Resize((224, 224)),\n",
    "    transforms.RandomHorizontalFlip(),\n",
    "    transforms.ToTensor(),\n",
    "    transforms.Normalize(mean=[0.485, 0.456, 0.406], std=[0.229, 0.224, 0.225])\n",
    "])\n",
    "\n",
    "val_test_transform = transforms.Compose([\n",
    "    transforms.Resize((224, 224)),\n",
    "    transforms.ToTensor(),\n",
    "    transforms.Normalize(mean=[0.485, 0.456, 0.406], std=[0.229, 0.224, 0.225])\n",
    "])\n",
    "\n",
    "# Create datasets\n",
    "train_dataset = FireDataset(train_metadata, transform=train_transform)\n",
    "val_dataset = FireDataset(val_metadata, transform=val_test_transform)\n",
    "test_dataset = FireDataset(test_metadata, transform=val_test_transform)\n",
    "\n",
    "# Create dataloaders\n",
    "train_loader = DataLoader(train_dataset, batch_size=32, shuffle=True)\n",
    "val_loader = DataLoader(val_dataset, batch_size=32, shuffle=False)\n",
    "test_loader = DataLoader(test_dataset, batch_size=32, shuffle=False)"
   ]
  },
  {
   "cell_type": "markdown",
   "id": "5d49ed70",
   "metadata": {},
   "source": [
    "**Experiments**"
   ]
  },
  {
   "cell_type": "code",
   "execution_count": null,
   "id": "0da2e616",
   "metadata": {},
   "outputs": [],
   "source": [
    "experiment_name = f\"first-experiment-resnet-{strftime('%d-%H-%M-%S', gmtime())}\""
   ]
  },
  {
   "cell_type": "code",
   "execution_count": null,
   "id": "768cfed2",
   "metadata": {},
   "outputs": [],
   "source": []
  },
  {
   "cell_type": "code",
   "execution_count": null,
   "id": "e1a5ffc9",
   "metadata": {},
   "outputs": [],
   "source": []
  },
  {
   "cell_type": "code",
   "execution_count": null,
   "id": "362e31f5",
   "metadata": {},
   "outputs": [],
   "source": []
  },
  {
   "cell_type": "code",
   "execution_count": null,
   "id": "6d983a2c",
   "metadata": {},
   "outputs": [],
   "source": []
  },
  {
   "cell_type": "code",
   "execution_count": null,
   "id": "f6fe852b",
   "metadata": {},
   "outputs": [],
   "source": []
  }
 ],
 "metadata": {
  "kernelspec": {
   "display_name": "Python 3 (ipykernel)",
   "language": "python",
   "name": "python3"
  },
  "language_info": {
   "codemirror_mode": {
    "name": "ipython",
    "version": 3
   },
   "file_extension": ".py",
   "mimetype": "text/x-python",
   "name": "python",
   "nbconvert_exporter": "python",
   "pygments_lexer": "ipython3",
   "version": "3.10.14"
  }
 },
 "nbformat": 4,
 "nbformat_minor": 5
}
