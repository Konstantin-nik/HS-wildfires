{
 "cells": [
  {
   "cell_type": "code",
   "execution_count": 6,
   "id": "c8342dd8-3112-4f98-b1da-2a6e46329080",
   "metadata": {},
   "outputs": [],
   "source": [
    "import sagemaker\n",
    "import boto3\n",
    "import json\n",
    "from PIL import Image\n",
    "\n",
    "from botocore.config import Config\n",
    "from torchvision import transforms\n",
    "from sagemaker.predictor import Predictor"
   ]
  },
  {
   "cell_type": "code",
   "execution_count": 7,
   "id": "782c4a01-038d-47a8-a226-d5c079f08051",
   "metadata": {},
   "outputs": [],
   "source": [
    "sagemaker_session = sagemaker.Session()\n",
    "role = sagemaker.get_execution_role()"
   ]
  },
  {
   "cell_type": "code",
   "execution_count": 8,
   "id": "aed0026e-48b2-4a2b-9b78-f02f7d5a09c3",
   "metadata": {},
   "outputs": [],
   "source": [
    "val_test_transform = transforms.Compose([\n",
    "    transforms.Resize((224, 224)),\n",
    "    transforms.ToTensor(),\n",
    "    transforms.Normalize(mean=[0.485, 0.456, 0.406], std=[0.229, 0.224, 0.225])\n",
    "])\n",
    "\n",
    "\n",
    "def preprocess_image(img_path, transform):\n",
    "    image = Image.open(img_path).convert('RGB')\n",
    "    image = transform(image)\n",
    "\n",
    "    image = image.unsqueeze(0)\n",
    "    return image\n",
    "\n",
    "\n",
    "image_path = 'file-003.webp'\n",
    "input_data = preprocess_image(image_path, val_test_transform)\n",
    "\n",
    "# Convert the tensor to a list and wrap it in a dictionary\n",
    "input_list = input_data.tolist()\n",
    "input_dict = {\"inputs\": input_list}\n",
    "\n",
    "# Serialize the dictionary to a JSON string\n",
    "input_json = json.dumps(input_dict)"
   ]
  },
  {
   "cell_type": "code",
   "execution_count": 9,
   "id": "e0f59f8d-ec10-4a5a-b98a-35aad3494ab9",
   "metadata": {},
   "outputs": [],
   "source": [
    "config = Config(\n",
    "    connect_timeout=500,\n",
    "    read_timeout=200\n",
    ")\n",
    "\n",
    "runtime_client = boto3.client(\"sagemaker-runtime\", config=config)\n",
    "\n",
    "endpoint_name = \"pytorch-inference-2024-06-21-22-50-29-291\"\n",
    "\n",
    "predictor = Predictor(\n",
    "    endpoint_name=endpoint_name,\n",
    "    sagemaker_session=sagemaker_session\n",
    ")"
   ]
  },
  {
   "cell_type": "code",
   "execution_count": 10,
   "id": "ef84f896-6a1e-40a4-9c7f-e0b34714fe2b",
   "metadata": {},
   "outputs": [
    {
     "name": "stdout",
     "output_type": "stream",
     "text": [
      "b'{\"outputs\": 1}'\n",
      "Success!!!!!\n"
     ]
    }
   ],
   "source": [
    "# Perform prediction\n",
    "prediction = predictor.predict(input_json, initial_args={'ContentType': 'application/json'})\n",
    "print(prediction)\n",
    "print(\"Success!!!!!\")"
   ]
  },
  {
   "cell_type": "code",
   "execution_count": null,
   "id": "c95b95dd-c109-4e58-8708-450ec3067a6c",
   "metadata": {},
   "outputs": [],
   "source": []
  }
 ],
 "metadata": {
  "kernelspec": {
   "display_name": "Python 3 (ipykernel)",
   "language": "python",
   "name": "python3"
  },
  "language_info": {
   "codemirror_mode": {
    "name": "ipython",
    "version": 3
   },
   "file_extension": ".py",
   "mimetype": "text/x-python",
   "name": "python",
   "nbconvert_exporter": "python",
   "pygments_lexer": "ipython3",
   "version": "3.10.14"
  }
 },
 "nbformat": 4,
 "nbformat_minor": 5
}
