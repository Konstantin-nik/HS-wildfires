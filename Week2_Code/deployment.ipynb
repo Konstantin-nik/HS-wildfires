{
 "cells": [
  {
   "cell_type": "code",
   "execution_count": 1,
   "id": "b794a98c-4c15-4c94-b216-2c015b19bfa8",
   "metadata": {},
   "outputs": [
    {
     "name": "stdout",
     "output_type": "stream",
     "text": [
      "sagemaker.config INFO - Not applying SDK defaults from location: /etc/xdg/sagemaker/config.yaml\n",
      "sagemaker.config INFO - Not applying SDK defaults from location: /home/sagemaker-user/.config/sagemaker/config.yaml\n"
     ]
    }
   ],
   "source": [
    "import sagemaker\n",
    "import boto3\n",
    "\n",
    "from sagemaker.pytorch import PyTorchModel"
   ]
  },
  {
   "cell_type": "code",
   "execution_count": 2,
   "id": "f5bf9617-48e1-4ad7-a463-585fee0ae30e",
   "metadata": {},
   "outputs": [],
   "source": [
    "sagemaker_session = sagemaker.Session()\n",
    "role = sagemaker.get_execution_role()\n",
    "BUCKET_NAME = \"wildfires\"\n",
    "model_filename = \"model_resnet18\"\n",
    "model_path = f\"models/{model_filename}.tar.gz\""
   ]
  },
  {
   "cell_type": "code",
   "execution_count": 3,
   "id": "d194a23b-308f-41f1-88e1-0c160d1602a1",
   "metadata": {},
   "outputs": [],
   "source": [
    "env = {\n",
    "    'MMS_DEFAULT_RESPONSE_TIMEOUT': '1000000'  # Set the timeout to 500 seconds or higher\n",
    "}\n",
    "\n",
    "model = PyTorchModel(\n",
    "    model_data=f\"s3://{BUCKET_NAME}/{model_path}\",\n",
    "    role=role,\n",
    "    framework_version='2.0.0',\n",
    "    py_version='py310',\n",
    "    entry_point='inference.py',\n",
    "    env=env\n",
    ")"
   ]
  },
  {
   "cell_type": "code",
   "execution_count": 4,
   "id": "e2923e3f-f8c0-4860-bd0b-81b1c94436cd",
   "metadata": {},
   "outputs": [
    {
     "name": "stdout",
     "output_type": "stream",
     "text": [
      "--------!"
     ]
    }
   ],
   "source": [
    "predictor = model.deploy(\n",
    "    initial_instance_count=1,\n",
    "    instance_type='ml.g5.xlarge',   # Example of a more powerful instance type\n",
    "    env=env\n",
    ")"
   ]
  }
 ],
 "metadata": {
  "kernelspec": {
   "display_name": "Python 3 (ipykernel)",
   "language": "python",
   "name": "python3"
  },
  "language_info": {
   "codemirror_mode": {
    "name": "ipython",
    "version": 3
   },
   "file_extension": ".py",
   "mimetype": "text/x-python",
   "name": "python",
   "nbconvert_exporter": "python",
   "pygments_lexer": "ipython3",
   "version": "3.10.14"
  }
 },
 "nbformat": 4,
 "nbformat_minor": 5
}
