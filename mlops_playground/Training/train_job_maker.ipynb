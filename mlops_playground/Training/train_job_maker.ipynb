{
 "cells": [
  {
   "cell_type": "code",
   "execution_count": 2,
   "id": "17329843-3feb-42c9-8c7a-1e8d06ddb909",
   "metadata": {},
   "outputs": [],
   "source": [
    "import boto3\n",
    "import mlflow\n",
    "\n",
    "s3 = boto3.client('s3')\n",
    "bucket = 'wildfires'\n",
    "prefix = 'sagemaker/fire-image-classification'\n",
    "\n",
    "# Create dummy files\n",
    "dummy_content = \"dummy file content\"\n",
    "s3.put_object(Bucket=bucket, Key=f'{prefix}/train/dummy.txt', Body=dummy_content)\n",
    "s3.put_object(Bucket=bucket, Key=f'{prefix}/test/dummy.txt', Body=dummy_content)\n",
    "\n",
    "# Experiments\n",
    "tracking_server_arn = 'arn:aws:sagemaker:eu-central-1:567821811420:mlflow-tracking-server/wildfire-mj'\n",
    "experiment_name = 'wildfire-resnet-job'"
   ]
  },
  {
   "cell_type": "code",
   "execution_count": 4,
   "id": "2a52e6dd-65f0-46dc-81d1-b3b27621daee",
   "metadata": {},
   "outputs": [],
   "source": [
    "import sagemaker\n",
    "import boto3\n",
    "from sagemaker.pytorch import PyTorch\n",
    "\n",
    "role = sagemaker.get_execution_role()\n",
    "bucket = 'wildfires'\n",
    "prefix = 'sagemaker/fire-image-classification'\n",
    "\n",
    "# Upload the training script to S3\n",
    "s3 = boto3.client('s3')\n",
    "s3.upload_file('../Training/train.py', bucket, f'{prefix}/train.py')\n",
    "\n",
    "estimator = PyTorch(\n",
    "    entry_point='train.py',\n",
    "    role=role,\n",
    "    framework_version='1.9.0',\n",
    "    py_version='py38',\n",
    "    instance_count=1,\n",
    "    instance_type='ml.p3.2xlarge',\n",
    "    hyperparameters={\n",
    "        'num-epochs': 10,\n",
    "        'batch-size': 32,\n",
    "        'learning-rate': 0.1\n",
    "    },\n",
    "    source_dir=f's3://{bucket}/{prefix}/'\n",
    ")\n",
    "\n",
    "# Define input data channels\n",
    "train_data = sagemaker.inputs.TrainingInput(s3_data=f's3://{bucket}/{prefix}/train', content_type='application/x-image')\n",
    "test_data = sagemaker.inputs.TrainingInput(s3_data=f's3://{bucket}/{prefix}/test', content_type='application/x-image')\n",
    "\n",
    "# Fit the estimator\n",
    "estimator.fit({'train': train_data, 'test': test_data})\n"
   ]
  },
  {
   "cell_type": "code",
   "execution_count": null,
   "id": "3062532c-eb94-4a0f-a0a1-ef9132d5ff68",
   "metadata": {},
   "outputs": [],
   "source": []
  }
 ],
 "metadata": {
  "kernelspec": {
   "display_name": "Python 3 (ipykernel)",
   "language": "python",
   "name": "python3"
  },
  "language_info": {
   "codemirror_mode": {
    "name": "ipython",
    "version": 3
   },
   "file_extension": ".py",
   "mimetype": "text/x-python",
   "name": "python",
   "nbconvert_exporter": "python",
   "pygments_lexer": "ipython3",
   "version": "3.10.14"
  }
 },
 "nbformat": 4,
 "nbformat_minor": 5
}
