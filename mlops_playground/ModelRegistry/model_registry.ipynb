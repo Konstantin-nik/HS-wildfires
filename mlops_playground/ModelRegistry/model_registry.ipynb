{
 "cells": [
  {
   "cell_type": "code",
   "execution_count": 11,
   "id": "76d3d2c5-22d5-4090-a5a6-34bcf1d18155",
   "metadata": {},
   "outputs": [],
   "source": [
    "import sagemaker\n",
    "import boto3\n",
    "from sagemaker.pytorch import PyTorchModel\n",
    "from sagemaker.model import ModelPackage"
   ]
  },
  {
   "cell_type": "code",
   "execution_count": 3,
   "id": "b16162a9-e748-4b9f-8766-440c2bc67aea",
   "metadata": {},
   "outputs": [],
   "source": [
    "sagemaker_session = sagemaker.Session()\n",
    "role = sagemaker.get_execution_role()\n",
    "BUCKET_NAME = \"wildfires\"\n",
    "model_filename = \"model_resnet18\"\n",
    "model_path = f\"models/{model_filename}.tar.gz\""
   ]
  },
  {
   "cell_type": "code",
   "execution_count": 4,
   "id": "8f173b5f-588c-423e-a28b-13e3b702d8b6",
   "metadata": {},
   "outputs": [],
   "source": [
    "env = {\n",
    "    'MMS_DEFAULT_RESPONSE_TIMEOUT': '1000000'  # Set the timeout to 500 seconds or higher\n",
    "}\n",
    "\n",
    "model = PyTorchModel(\n",
    "    model_data=f\"s3://{BUCKET_NAME}/{model_path}\",\n",
    "    role=role,\n",
    "    framework_version='2.0.0',\n",
    "    py_version='py310',\n",
    "    entry_point='inference.py',\n",
    "    env=env\n",
    ")"
   ]
  },
  {
   "cell_type": "code",
   "execution_count": 6,
   "id": "bcee71ed-92a7-4ae4-80f4-c00bda5450e0",
   "metadata": {},
   "outputs": [
    {
     "name": "stdout",
     "output_type": "stream",
     "text": [
      "Model package ARN: arn:aws:sagemaker:eu-central-1:567821811420:model-package/wildfires-model-group/1\n"
     ]
    }
   ],
   "source": [
    "# Model Package\n",
    "model_package = model.register(\n",
    "    content_types=['application/json'],    # Input type JSON\n",
    "    response_types=['application/json'],   # Output type JSON\n",
    "    inference_instances=['ml.g5.xlarge'],  # Inference instance type\n",
    "    transform_instances=['ml.g5.xlarge'],  # Transform instance type\n",
    "    model_package_group_name='wildfires-model-group'  # Model Group Name\n",
    ")\n",
    "\n",
    "print('Model package ARN:', model_package.model_package_arn)\n"
   ]
  },
  {
   "cell_type": "code",
   "execution_count": null,
   "id": "4f8ce7b0-e84c-4896-a861-15d89e4a98bf",
   "metadata": {},
   "outputs": [],
   "source": [
    "# Approve Model Package\n",
    "model_package.update_approval_status(\n",
    "    approval_status='Approved',\n",
    "    approval_description='Model Approved.'\n",
    ")"
   ]
  },
  {
   "cell_type": "code",
   "execution_count": 13,
   "id": "656e680f-0206-42fe-8019-3dfb99bd8349",
   "metadata": {},
   "outputs": [
    {
     "data": {
      "text/plain": [
       "'PendingManualApproval'"
      ]
     },
     "execution_count": 13,
     "metadata": {},
     "output_type": "execute_result"
    }
   ],
   "source": [
    "# After Manual Approval check model's status\n",
    "sagemaker_client = boto3.client('sagemaker')\n",
    "\n",
    "model_package_arn = model_package.model_package_arn\n",
    "\n",
    "response = sagemaker_client.describe_model_package(\n",
    "    ModelPackageName=model_package_arn\n",
    ")\n",
    "\n",
    "response['ModelApprovalStatus']"
   ]
  },
  {
   "cell_type": "code",
   "execution_count": null,
   "id": "b33537b6-4076-4a4a-a61e-b26fc6fa4c16",
   "metadata": {},
   "outputs": [],
   "source": [
    "# Deploy Model\n",
    "predictor = model_package.deploy(\n",
    "    initial_instance_count=1,\n",
    "    instance_type='ml.g5.xlarge'\n",
    ")"
   ]
  },
  {
   "cell_type": "markdown",
   "id": "aef6a969-19d8-47c4-a64f-1355bcb9c160",
   "metadata": {},
   "source": [
    "**Check model with prediction_w_deployed_model.ipynb**"
   ]
  },
  {
   "cell_type": "code",
   "execution_count": null,
   "id": "0617bc34-d7f9-48b9-86cd-87316199e7bb",
   "metadata": {},
   "outputs": [],
   "source": []
  }
 ],
 "metadata": {
  "kernelspec": {
   "display_name": "Python 3 (ipykernel)",
   "language": "python",
   "name": "python3"
  },
  "language_info": {
   "codemirror_mode": {
    "name": "ipython",
    "version": 3
   },
   "file_extension": ".py",
   "mimetype": "text/x-python",
   "name": "python",
   "nbconvert_exporter": "python",
   "pygments_lexer": "ipython3",
   "version": "3.10.14"
  }
 },
 "nbformat": 4,
 "nbformat_minor": 5
}
