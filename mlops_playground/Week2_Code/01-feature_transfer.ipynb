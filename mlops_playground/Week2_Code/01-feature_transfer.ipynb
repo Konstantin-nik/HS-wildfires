{
 "cells": [
  {
   "cell_type": "code",
   "execution_count": 6,
   "id": "c7b6fc69-8d05-4ca9-9144-c56240cb4b1d",
   "metadata": {},
   "outputs": [],
   "source": [
    "import json\n",
    "import uuid\n",
    "import boto3\n",
    "import sagemaker\n",
    "import pandas as pd\n",
    "\n",
    "from datetime import datetime\n",
    "from sagemaker.feature_store.feature_group import FeatureGroup, FeatureDefinition, FeatureTypeEnum"
   ]
  },
  {
   "cell_type": "code",
   "execution_count": 9,
   "id": "d0d6f0c7-2a7d-434b-9e5a-267c611f27e5",
   "metadata": {},
   "outputs": [],
   "source": [
    "s3 = boto3.client('s3')\n",
    "session = sagemaker.Session()\n",
    "feature_store_client = session.boto_session.client('sagemaker-featurestore-runtime')\n",
    "sagemaker_client = session.boto_session.client('sagemaker')\n",
    "bucket_name = 'wildfires'\n",
    "feature_group_name = 'fire-image-feature-group'\n",
    "sm_role = sagemaker.get_execution_role()"
   ]
  },
  {
   "cell_type": "code",
   "execution_count": null,
   "id": "829ff24f-0dfe-45fb-8a6c-4a3de6c7202e",
   "metadata": {},
   "outputs": [],
   "source": [
    "# Create the feature group\n",
    "feature_group = FeatureGroup(name=feature_group_name, sagemaker_session=session,\n",
    "                             feature_definitions=feature_definitions)\n",
    "\n",
    "feature_group.create(\n",
    "    s3_uri=f's3://{bucket_name}/feature-store/',\n",
    "    record_identifier_name='image_id',\n",
    "    event_time_feature_name='event_time',\n",
    "    role_arn=sm_role\n",
    ")"
   ]
  },
  {
   "cell_type": "code",
   "execution_count": 10,
   "id": "b3cc6206-8a10-4d5e-97b8-84d9704d7603",
   "metadata": {},
   "outputs": [],
   "source": [
    "def wait_for_group_created(feature_group_name):\n",
    "    while True:\n",
    "        response = sagemaker_client.describe_feature_group(FeatureGroupName=feature_group_name)\n",
    "        status = response['FeatureGroupStatus']\n",
    "        if status == 'Created':\n",
    "            print('Feature group created successfully.')\n",
    "            break\n",
    "        elif status == 'CreateFailed':\n",
    "            raise Exception(f'Failed to create feature group: {response[\"FailureReason\"]}')\n",
    "        else:\n",
    "            print('Waiting for feature group to be created...')\n",
    "            time.sleep(5)"
   ]
  },
  {
   "cell_type": "code",
   "execution_count": 11,
   "id": "73a36d63-831c-475b-b0a6-f95e73360c30",
   "metadata": {},
   "outputs": [
    {
     "name": "stdout",
     "output_type": "stream",
     "text": [
      "Feature group created successfully.\n"
     ]
    }
   ],
   "source": [
    "wait_for_group_created(feature_group_name)"
   ]
  },
  {
   "cell_type": "code",
   "execution_count": 12,
   "id": "d6892c73-426b-4a8a-8ddf-347d252d0836",
   "metadata": {},
   "outputs": [
    {
     "data": {
      "text/plain": [
       "['fire_images/fire.1.png',\n",
       " 'fire_images/fire.10.png',\n",
       " 'fire_images/fire.100.png',\n",
       " 'fire_images/fire.101.png',\n",
       " 'fire_images/fire.102.png',\n",
       " 'fire_images/fire.103.png',\n",
       " 'fire_images/fire.104.png',\n",
       " 'fire_images/fire.105.png',\n",
       " 'fire_images/fire.106.png',\n",
       " 'fire_images/fire.107.png']"
      ]
     },
     "execution_count": 12,
     "metadata": {},
     "output_type": "execute_result"
    }
   ],
   "source": [
    "def list_s3_objects(prefix):\n",
    "    response = s3.list_objects_v2(Bucket=bucket_name, Prefix=prefix)\n",
    "    return [obj['Key'] for obj in response.get('Contents', [])]\n",
    "\n",
    "fire_images = list_s3_objects('fire_images/')\n",
    "non_fire_images = list_s3_objects('non_fire_images/')\n",
    "fire_images[:10]"
   ]
  },
  {
   "cell_type": "code",
   "execution_count": 13,
   "id": "d7e84df1-4e41-4eb8-a396-e5661a1fbb07",
   "metadata": {},
   "outputs": [],
   "source": [
    "def generate_metadata(image_list, label):\n",
    "    metadata = []\n",
    "    for image_location in image_list:\n",
    "        image_id = str(uuid.uuid4())\n",
    "        image_type = image_location.split('.')[-1]\n",
    "        metadata.append({\n",
    "            'image_id': image_id,\n",
    "            'image_location': f's3://{bucket_name}/{image_location}',\n",
    "            'label': label,\n",
    "            'image_type': image_type,\n",
    "            'event_time': datetime.utcnow().isoformat() + 'Z'\n",
    "        })\n",
    "    return metadata\n",
    "\n",
    "def lambda_handler(event, context):\n",
    "    fire_images = list_s3_objects('fire_images/')\n",
    "    non_fire_images = list_s3_objects('non_fire_images/')\n",
    "    \n",
    "    fire_metadata = generate_metadata(fire_images, 1)\n",
    "    non_fire_metadata = generate_metadata(non_fire_images, 0)\n",
    "    all_metadata = fire_metadata + non_fire_metadata\n",
    "    \n",
    "    # Send metadata to Feature Store\n",
    "    feature_store_client = boto3.client('sagemaker-featurestore-runtime')\n",
    "    \n",
    "    for record in all_metadata:\n",
    "        feature_store_client.put_record(\n",
    "            FeatureGroupName='image-feature-group',\n",
    "            Record=[\n",
    "                {'FeatureName': key, 'ValueAsString': str(value)}\n",
    "                for key, value in record.items()\n",
    "            ]\n",
    "        )\n",
    "    \n",
    "    return {\n",
    "        'statusCode': 200,\n",
    "        'body': json.dumps('Successfully ingested data into Feature Store')\n",
    "    }\n"
   ]
  },
  {
   "cell_type": "code",
   "execution_count": 14,
   "id": "e13b1f0f-097d-4c0f-87bd-134d6b463a04",
   "metadata": {},
   "outputs": [],
   "source": [
    "# List images\n",
    "fire_images = list_s3_objects('fire_images/')\n",
    "non_fire_images = list_s3_objects('non_fire_images/')\n",
    "\n",
    "# Generate metadata\n",
    "fire_metadata = generate_metadata(fire_images, 1)\n",
    "non_fire_metadata = generate_metadata(non_fire_images, 0)\n",
    "all_metadata = fire_metadata + non_fire_metadata\n",
    "\n",
    "\n",
    "# Convert metadata to DataFrame\n",
    "def convert_to_df(metadata):\n",
    "    return pd.DataFrame(metadata)\n",
    "\n",
    "\n",
    "df = convert_to_df(all_metadata)\n",
    "\n",
    "# Define feature definitions\n",
    "feature_definitions = [\n",
    "    FeatureDefinition('image_id', FeatureTypeEnum.STRING),\n",
    "    FeatureDefinition('image_location', FeatureTypeEnum.STRING),\n",
    "    FeatureDefinition('label', FeatureTypeEnum.INTEGRAL),\n",
    "    FeatureDefinition('image_type', FeatureTypeEnum.STRING),\n",
    "    FeatureDefinition('event_time', FeatureTypeEnum.STRING)\n",
    "]"
   ]
  },
  {
   "cell_type": "code",
   "execution_count": 15,
   "id": "4ab1bb92-b8fd-4106-8797-1e473a198525",
   "metadata": {},
   "outputs": [
    {
     "data": {
      "text/plain": [
       "IngestionManagerPandas(feature_group_name='fire-image-feature-group', feature_definitions={'image_id': {'FeatureName': 'image_id', 'FeatureType': 'String'}, 'image_location': {'FeatureName': 'image_location', 'FeatureType': 'String'}, 'label': {'FeatureName': 'label', 'FeatureType': 'Integral'}, 'image_type': {'FeatureName': 'image_type', 'FeatureType': 'String'}, 'event_time': {'FeatureName': 'event_time', 'FeatureType': 'String'}}, sagemaker_fs_runtime_client_config=<botocore.config.Config object at 0x7f99311f25c0>, sagemaker_session=<sagemaker.session.Session object at 0x7f99314f8100>, max_workers=3, max_processes=1, profile_name=None, _async_result=<multiprocess.pool.MapResult object at 0x7f99313f1f60>, _processing_pool=<pool ProcessPool(ncpus=1)>, _failed_indices=[])"
      ]
     },
     "execution_count": 15,
     "metadata": {},
     "output_type": "execute_result"
    }
   ],
   "source": [
    "# Ingest data into the feature group\n",
    "feature_group.ingest(data_frame=df, max_workers=3, wait=True)"
   ]
  },
  {
   "cell_type": "code",
   "execution_count": 6,
   "id": "5292a6ac",
   "metadata": {},
   "outputs": [],
   "source": [
    "import json\n",
    "import uuid\n",
    "import boto3\n",
    "import sagemaker\n",
    "import pandas as pd\n",
    "\n",
    "from datetime import datetime\n",
    "from sagemaker.feature_store.feature_group import FeatureGroup, FeatureDefinition, FeatureTypeEnum"
   ]
  },
  {
   "cell_type": "code",
   "execution_count": 9,
   "id": "448e48ed",
   "metadata": {},
   "outputs": [],
   "source": [
    "s3 = boto3.client('s3')\n",
    "session = sagemaker.Session()\n",
    "feature_store_client = session.boto_session.client('sagemaker-featurestore-runtime')\n",
    "sagemaker_client = session.boto_session.client('sagemaker')\n",
    "bucket_name = 'wildfires'\n",
    "feature_group_name = 'fire-image-feature-group'\n",
    "sm_role = sagemaker.get_execution_role()"
   ]
  },
  {
   "cell_type": "code",
   "execution_count": null,
   "id": "8e18d2c0",
   "metadata": {},
   "outputs": [],
   "source": [
    "# Create the feature group\n",
    "feature_group = FeatureGroup(name=feature_group_name, sagemaker_session=session,\n",
    "                             feature_definitions=feature_definitions)\n",
    "\n",
    "feature_group.create(\n",
    "    s3_uri=f's3://{bucket_name}/feature-store/',\n",
    "    record_identifier_name='image_id',\n",
    "    event_time_feature_name='event_time',\n",
    "    role_arn=sm_role\n",
    ")"
   ]
  },
  {
   "cell_type": "code",
   "execution_count": 10,
   "id": "616115f2",
   "metadata": {},
   "outputs": [],
   "source": [
    "def wait_for_group_created(feature_group_name):\n",
    "    while True:\n",
    "        response = sagemaker_client.describe_feature_group(FeatureGroupName=feature_group_name)\n",
    "        status = response['FeatureGroupStatus']\n",
    "        if status == 'Created':\n",
    "            print('Feature group created successfully.')\n",
    "            break\n",
    "        elif status == 'CreateFailed':\n",
    "            raise Exception(f'Failed to create feature group: {response[\"FailureReason\"]}')\n",
    "        else:\n",
    "            print('Waiting for feature group to be created...')\n",
    "            time.sleep(5)"
   ]
  },
  {
   "cell_type": "code",
   "execution_count": 11,
   "id": "ab0f3495",
   "metadata": {},
   "outputs": [
    {
     "name": "stdout",
     "output_type": "stream",
     "text": [
      "Feature group created successfully.\n"
     ]
    }
   ],
   "source": [
    "wait_for_group_created(feature_group_name)"
   ]
  },
  {
   "cell_type": "code",
   "execution_count": 12,
   "id": "b0aab45d",
   "metadata": {},
   "outputs": [
    {
     "data": {
      "text/plain": [
       "['fire_images/fire.1.png',\n",
       " 'fire_images/fire.10.png',\n",
       " 'fire_images/fire.100.png',\n",
       " 'fire_images/fire.101.png',\n",
       " 'fire_images/fire.102.png',\n",
       " 'fire_images/fire.103.png',\n",
       " 'fire_images/fire.104.png',\n",
       " 'fire_images/fire.105.png',\n",
       " 'fire_images/fire.106.png',\n",
       " 'fire_images/fire.107.png']"
      ]
     },
     "execution_count": 12,
     "metadata": {},
     "output_type": "execute_result"
    }
   ],
   "source": [
    "def list_s3_objects(prefix):\n",
    "    response = s3.list_objects_v2(Bucket=bucket_name, Prefix=prefix)\n",
    "    return [obj['Key'] for obj in response.get('Contents', [])]\n",
    "\n",
    "fire_images = list_s3_objects('fire_images/')\n",
    "non_fire_images = list_s3_objects('non_fire_images/')\n",
    "fire_images[:10]"
   ]
  },
  {
   "cell_type": "code",
   "execution_count": 13,
   "id": "35f1232e",
   "metadata": {},
   "outputs": [],
   "source": [
    "def generate_metadata(image_list, label):\n",
    "    metadata = []\n",
    "    for image_location in image_list:\n",
    "        image_id = str(uuid.uuid4())\n",
    "        image_type = image_location.split('.')[-1]\n",
    "        metadata.append({\n",
    "            'image_id': image_id,\n",
    "            'image_location': f's3://{bucket_name}/{image_location}',\n",
    "            'label': label,\n",
    "            'image_type': image_type,\n",
    "            'event_time': datetime.utcnow().isoformat() + 'Z'\n",
    "        })\n",
    "    return metadata\n",
    "\n",
    "def lambda_handler(event, context):\n",
    "    fire_images = list_s3_objects('fire_images/')\n",
    "    non_fire_images = list_s3_objects('non_fire_images/')\n",
    "    \n",
    "    fire_metadata = generate_metadata(fire_images, 1)\n",
    "    non_fire_metadata = generate_metadata(non_fire_images, 0)\n",
    "    all_metadata = fire_metadata + non_fire_metadata\n",
    "    \n",
    "    # Send metadata to Feature Store\n",
    "    feature_store_client = boto3.client('sagemaker-featurestore-runtime')\n",
    "    \n",
    "    for record in all_metadata:\n",
    "        feature_store_client.put_record(\n",
    "            FeatureGroupName='image-feature-group',\n",
    "            Record=[\n",
    "                {'FeatureName': key, 'ValueAsString': str(value)}\n",
    "                for key, value in record.items()\n",
    "            ]\n",
    "        )\n",
    "    \n",
    "    return {\n",
    "        'statusCode': 200,\n",
    "        'body': json.dumps('Successfully ingested data into Feature Store')\n",
    "    }\n"
   ]
  },
  {
   "cell_type": "code",
   "execution_count": 14,
   "id": "ab09bce6",
   "metadata": {},
   "outputs": [],
   "source": [
    "# List images\n",
    "fire_images = list_s3_objects('fire_images/')\n",
    "non_fire_images = list_s3_objects('non_fire_images/')\n",
    "\n",
    "# Generate metadata\n",
    "fire_metadata = generate_metadata(fire_images, 1)\n",
    "non_fire_metadata = generate_metadata(non_fire_images, 0)\n",
    "all_metadata = fire_metadata + non_fire_metadata\n",
    "\n",
    "\n",
    "# Convert metadata to DataFrame\n",
    "def convert_to_df(metadata):\n",
    "    return pd.DataFrame(metadata)\n",
    "\n",
    "\n",
    "df = convert_to_df(all_metadata)\n",
    "\n",
    "# Define feature definitions\n",
    "feature_definitions = [\n",
    "    FeatureDefinition('image_id', FeatureTypeEnum.STRING),\n",
    "    FeatureDefinition('image_location', FeatureTypeEnum.STRING),\n",
    "    FeatureDefinition('label', FeatureTypeEnum.INTEGRAL),\n",
    "    FeatureDefinition('image_type', FeatureTypeEnum.STRING),\n",
    "    FeatureDefinition('event_time', FeatureTypeEnum.STRING)\n",
    "]"
   ]
  },
  {
   "cell_type": "code",
   "execution_count": 15,
   "id": "f59f91f9",
   "metadata": {},
   "outputs": [
    {
     "data": {
      "text/plain": [
       "IngestionManagerPandas(feature_group_name='fire-image-feature-group', feature_definitions={'image_id': {'FeatureName': 'image_id', 'FeatureType': 'String'}, 'image_location': {'FeatureName': 'image_location', 'FeatureType': 'String'}, 'label': {'FeatureName': 'label', 'FeatureType': 'Integral'}, 'image_type': {'FeatureName': 'image_type', 'FeatureType': 'String'}, 'event_time': {'FeatureName': 'event_time', 'FeatureType': 'String'}}, sagemaker_fs_runtime_client_config=<botocore.config.Config object at 0x7f99311f25c0>, sagemaker_session=<sagemaker.session.Session object at 0x7f99314f8100>, max_workers=3, max_processes=1, profile_name=None, _async_result=<multiprocess.pool.MapResult object at 0x7f99313f1f60>, _processing_pool=<pool ProcessPool(ncpus=1)>, _failed_indices=[])"
      ]
     },
     "execution_count": 15,
     "metadata": {},
     "output_type": "execute_result"
    }
   ],
   "source": [
    "# Ingest data into the feature group\n",
    "feature_group.ingest(data_frame=df, max_workers=3, wait=True)"
   ]
  }
 ],
 "metadata": {
  "kernelspec": {
   "display_name": "Python 3 (ipykernel)",
   "language": "python",
   "name": "python3"
  },
  "language_info": {
   "codemirror_mode": {
    "name": "ipython",
    "version": 3
   },
   "file_extension": ".py",
   "mimetype": "text/x-python",
   "name": "python",
   "nbconvert_exporter": "python",
   "pygments_lexer": "ipython3",
   "version": "3.10.14"
  }
 },
 "nbformat": 4,
 "nbformat_minor": 5
}
