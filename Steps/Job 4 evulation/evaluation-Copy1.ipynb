{
 "cells": [
  {
   "cell_type": "code",
   "execution_count": 2,
   "id": "b598d833-69cd-41ba-899c-2928f16c640c",
   "metadata": {},
   "outputs": [
    {
     "name": "stdout",
     "output_type": "stream",
     "text": [
      "sagemaker.config INFO - Not applying SDK defaults from location: /etc/xdg/sagemaker/config.yaml\n",
      "sagemaker.config INFO - Not applying SDK defaults from location: /home/sagemaker-user/.config/sagemaker/config.yaml\n"
     ]
    }
   ],
   "source": [
    "import sagemaker\n",
    "from sagemaker.pytorch import PyTorch\n",
    "import pickle\n",
    "import os\n",
    "import boto3\n",
    "import sagemaker\n",
    "import torch\n",
    "import argparse\n",
    "import pickle\n",
    "# import mlflow\n",
    "import numpy as np\n",
    "import json\n",
    "\n",
    "import torch.nn as nn\n",
    "import torch.optim as optim\n",
    "\n",
    "from PIL import Image\n",
    "from torchvision import models\n",
    "from torchvision import transforms\n",
    "from torch.utils.data import Dataset, DataLoader\n",
    "\n",
    "# # SageMaker Session\n",
    "sagemaker_session = sagemaker.Session()\n",
    "role = sagemaker.get_execution_role()\n",
    "\n",
    "# # Estimator\n",
    "# estimator = PyTorch(\n",
    "#     entry_point='evaluation_script.py',  # Değerlendirme scriptiniz\n",
    "#     role=role,\n",
    "#     framework_version='2.0.0',\n",
    "#     py_version='py310',\n",
    "#     instance_count=1,\n",
    "#     instance_type='ml.g5.xlarge',\n",
    "#     sagemaker_session=sagemaker_session\n",
    "# )\n",
    "\n",
    "# # Değerlendirme işini başlatma\n",
    "# estimator.fit({'test': 's3://your-bucket/test-data/'})\n",
    "\n",
    "# # Değerlendirme raporunu S3'ten alın\n",
    "# evaluation_report_s3_uri = estimator.model_data\n"
   ]
  },
  {
   "cell_type": "code",
   "execution_count": null,
   "id": "64fb16ae-b58c-4b40-b2e3-d1f5277d7346",
   "metadata": {},
   "outputs": [],
   "source": []
  },
  {
   "cell_type": "code",
   "execution_count": null,
   "id": "d3a13436-a951-49c4-a46d-4d1637775377",
   "metadata": {},
   "outputs": [],
   "source": [
    "best_model_path = 's3://your-bucket/models/model_resnet18.pth'  # Adjust this path based on the extracted files\n",
    "device = torch.device(\"cuda\" if torch.cuda.is_available() else \"cpu\")\n",
    "\n",
    "model = models.resnet18()\n",
    "num_ftrs = model.fc.in_features\n",
    "model.fc = nn.Linear(num_ftrs, 2)\n",
    "model.load_state_dict(torch.load(best_model_path, map_location=device))"
   ]
  },
  {
   "cell_type": "code",
   "execution_count": null,
   "id": "b37e2a22-acbb-449b-bee5-51c86816fba6",
   "metadata": {},
   "outputs": [],
   "source": [
    "test_metadata_path = 's3://wildfires/data/test/datajob/test.pkl'\n",
    "test_metadata = pickle.dump(test_metadata_path)"
   ]
  },
  {
   "cell_type": "code",
   "execution_count": null,
   "id": "d62a66d5-ed56-4423-836a-7e93eafeab7d",
   "metadata": {},
   "outputs": [],
   "source": [
    "class FireDataset(Dataset):\n",
    "    def __init__(self, metadata, train_dir=\"\", transform=None):\n",
    "        self.metadata = metadata\n",
    "        self.transform = transform\n",
    "        self.train_dir = train_dir\n",
    "\n",
    "    def __len__(self):\n",
    "        return len(self.metadata)\n",
    "\n",
    "    def __getitem__(self, idx):\n",
    "        # img_path = self.metadata[idx]['local_path']\n",
    "        img_path = os.path.basename(self.metadata[idx]['image_location'])\n",
    "        img_path = os.path.join(self.train_dir, img_path)\n",
    "        image = Image.open(img_path).convert('RGB')\n",
    "        label = self.metadata[idx]['label']\n",
    "\n",
    "        if self.transform:\n",
    "            image = self.transform(image)\n",
    "\n",
    "        return image, label"
   ]
  },
  {
   "cell_type": "code",
   "execution_count": null,
   "id": "72d33194-79ed-4281-afcd-5804d49bf6cc",
   "metadata": {},
   "outputs": [],
   "source": [
    "val_test_transform = transforms.Compose([\n",
    "        transforms.Resize((224, 224)),\n",
    "        transforms.ToTensor(),\n",
    "        transforms.Normalize(mean=[0.485, 0.456, 0.406], std=[0.229, 0.224, 0.225])\n",
    "    ])\n",
    "\n",
    "test_dataset = FireDataset(test_metadata, train_dir=args.train_dir, transform=val_test_transform)\n",
    "test_loader = DataLoader(test_dataset, batch_size=args.batch_size, shuffle=False)\n"
   ]
  },
  {
   "cell_type": "code",
   "execution_count": null,
   "id": "a8e81bfb-5007-429e-a0aa-c14c5f3dfb05",
   "metadata": {},
   "outputs": [],
   "source": [
    "def test(model, test_loader, loss_function, epoch, device, run):\n",
    "    model = model.to(device)\n",
    "    loss_function = loss_function.to(device)\n",
    "    model.eval()\n",
    "    test_loss = 0\n",
    "    correct = 0\n",
    "    with torch.no_grad():\n",
    "        for data, target in test_loader:\n",
    "            data = data.to(device)\n",
    "            target = target.to(device)\n",
    "            output = model(data)\n",
    "            test_loss += loss_function(output, target).sum().item()\n",
    "            pred = output.argmax(dim=1, keepdim=True)\n",
    "            correct += pred.eq(target.view_as(pred)).sum().item()\n",
    "\n",
    "    test_loss /= len(test_loader.dataset)\n",
    "\n",
    "    print('\\nTest set: Average loss: {:.4f}, Accuracy: {}/{} ({:.0f}%)\\n'.format(\n",
    "        test_loss, correct, len(test_loader.dataset),\n",
    "        100. * correct / len(test_loader.dataset)))"
   ]
  },
  {
   "cell_type": "code",
   "execution_count": 1,
   "id": "1077a7ae-23e7-4a9b-b76f-9bbb18b26d8d",
   "metadata": {},
   "outputs": [
    {
     "data": {
      "text/plain": [
       "'/home/sagemaker-user/Steps/Job 4 evulation'"
      ]
     },
     "execution_count": 1,
     "metadata": {},
     "output_type": "execute_result"
    }
   ],
   "source": [
    "%pwd"
   ]
  },
  {
   "cell_type": "code",
   "execution_count": 17,
   "id": "644454c1-a8e0-4781-a400-893b26b52a5d",
   "metadata": {},
   "outputs": [],
   "source": [
    "import boto3\n",
    "\n",
    "s3 = boto3.client('s3')\n",
    "\n",
    "s3.download_file('wildfires', 'sagemaker/fire-image-classification/test.pkl', 'test.pkl')\n",
    "\n",
    "\n",
    "with open('test.pkl', 'rb') as file:\n",
    "    test_metadata = pickle.load(file)\n",
    "\n",
    "# test_metadata"
   ]
  },
  {
   "cell_type": "code",
   "execution_count": 13,
   "id": "10519978-a146-491d-a757-a7130b5206f6",
   "metadata": {},
   "outputs": [],
   "source": [
    "import boto3\n",
    "\n",
    "\n",
    "s3 = boto3.client('s3')\n",
    "\n",
    "s3.download_file('wildfires', 'models/model_resnet18.tar.gz', 'model_resnet18.tar.gz')\n",
    "\n"
   ]
  },
  {
   "cell_type": "code",
   "execution_count": 14,
   "id": "a0fd6d00-24b0-4b34-a0aa-07d787106657",
   "metadata": {},
   "outputs": [
    {
     "name": "stdout",
     "output_type": "stream",
     "text": [
      "Tar file \"model_resnet18.tar.gz\" successfully extracted.\n"
     ]
    }
   ],
   "source": [
    "import tarfile\n",
    "\n",
    "tar_file_path = 'model_resnet18.tar.gz'  # Açmak istediğiniz tar arşiv dosyasının yolu\n",
    "\n",
    "# Tar dosyasını açma\n",
    "try:\n",
    "    with tarfile.open(tar_file_path, 'r:gz') as tar:\n",
    "        tar.extractall(path='extracted_folder/')  # Arşivi çıkartılacak klasör yolunu belirtin\n",
    "    print(f'Tar file \"{tar_file_path}\" successfully extracted.')\n",
    "except Exception as e:\n",
    "    print(f'Error extracting tar file \"{tar_file_path}\": {e}')\n"
   ]
  },
  {
   "cell_type": "code",
   "execution_count": 23,
   "id": "9acbc587-0b05-4392-a8ae-7d7cb468eee2",
   "metadata": {},
   "outputs": [
    {
     "name": "stdout",
     "output_type": "stream",
     "text": [
      "model_resnet18\n"
     ]
    }
   ],
   "source": [
    "print(tar_file_path.split('.')[0])"
   ]
  },
  {
   "cell_type": "code",
   "execution_count": null,
   "id": "974a5892-35f0-4db0-83f4-c23dc3c79a2e",
   "metadata": {},
   "outputs": [],
   "source": [
    "'s3://wildfires/sagemaker/fire-image-classification/fire.506.png'"
   ]
  },
  {
   "cell_type": "code",
   "execution_count": null,
   "id": "145ae73a-9bf0-4e9c-9a9a-c90b5d068c88",
   "metadata": {},
   "outputs": [],
   "source": [
    "%pwd"
   ]
  },
  {
   "cell_type": "code",
   "execution_count": 25,
   "id": "3c7f88e4-b388-4dd8-a7f1-b1e2a81d8623",
   "metadata": {},
   "outputs": [],
   "source": [
    "s3.upload_file(\n",
    "    f'images.jpeg',\n",
    "    BUCKET_NAME,\n",
    "    f\"sagemaker/fire-image-classification/fire.506.png\",\n",
    ")"
   ]
  },
  {
   "cell_type": "code",
   "execution_count": 3,
   "id": "d51f8618-7747-45b9-a88b-5df67aa102e0",
   "metadata": {},
   "outputs": [],
   "source": [
    "s3 = boto3.client('s3')\n",
    "\n",
    "BUCKET_NAME = 'wildfires'\n",
    "\n",
    "s3.upload_file(\n",
    "    f'evaluation.py',\n",
    "    BUCKET_NAME,\n",
    "    f\"scripts/evaluation.py\",\n",
    ")"
   ]
  },
  {
   "cell_type": "code",
   "execution_count": 4,
   "id": "da652e91-f259-45e8-b3ed-44ab4917d68a",
   "metadata": {},
   "outputs": [
    {
     "name": "stderr",
     "output_type": "stream",
     "text": [
      "INFO:sagemaker:Creating processing-job with name wildfire-evaluation-job-t23\n"
     ]
    },
    {
     "name": "stdout",
     "output_type": "stream",
     "text": [
      "..............................\u001b[34mCollecting sagemaker\n",
      "  Downloading sagemaker-2.224.1-py3-none-any.whl.metadata (15 kB)\u001b[0m\n",
      "\u001b[34mRequirement already satisfied: boto3 in /opt/conda/lib/python3.11/site-packages (1.34.122)\u001b[0m\n",
      "\u001b[34mCollecting attrs<24,>=23.1.0 (from sagemaker)\n",
      "  Downloading attrs-23.2.0-py3-none-any.whl.metadata (9.5 kB)\u001b[0m\n",
      "\u001b[34mCollecting cloudpickle==2.2.1 (from sagemaker)\n",
      "  Downloading cloudpickle-2.2.1-py3-none-any.whl.metadata (6.9 kB)\u001b[0m\n",
      "\u001b[34mCollecting google-pasta (from sagemaker)\n",
      "  Downloading google_pasta-0.2.0-py3-none-any.whl.metadata (814 bytes)\u001b[0m\n",
      "\u001b[34mRequirement already satisfied: numpy<2.0,>=1.9.0 in /opt/conda/lib/python3.11/site-packages (from sagemaker) (1.26.4)\u001b[0m\n",
      "\u001b[34mCollecting protobuf<5.0,>=3.12 (from sagemaker)\n",
      "  Downloading protobuf-4.25.3-cp37-abi3-manylinux2014_x86_64.whl.metadata (541 bytes)\u001b[0m\n",
      "\u001b[34mCollecting smdebug-rulesconfig==1.0.1 (from sagemaker)\n",
      "  Downloading smdebug_rulesconfig-1.0.1-py2.py3-none-any.whl.metadata (943 bytes)\u001b[0m\n",
      "\u001b[34mCollecting importlib-metadata<7.0,>=1.4.0 (from sagemaker)\n",
      "  Downloading importlib_metadata-6.11.0-py3-none-any.whl.metadata (4.9 kB)\u001b[0m\n",
      "\u001b[34mRequirement already satisfied: packaging>=20.0 in /opt/conda/lib/python3.11/site-packages (from sagemaker) (23.2)\u001b[0m\n",
      "\u001b[34mRequirement already satisfied: pandas in /opt/conda/lib/python3.11/site-packages (from sagemaker) (2.2.2)\u001b[0m\n",
      "\u001b[34mCollecting pathos (from sagemaker)\n",
      "  Downloading pathos-0.3.2-py3-none-any.whl.metadata (11 kB)\u001b[0m\n",
      "\u001b[34mCollecting schema (from sagemaker)\n",
      "  Downloading schema-0.7.7-py2.py3-none-any.whl.metadata (34 kB)\u001b[0m\n",
      "\u001b[34mRequirement already satisfied: PyYAML~=6.0 in /opt/conda/lib/python3.11/site-packages (from sagemaker) (6.0)\u001b[0m\n",
      "\u001b[34mCollecting jsonschema (from sagemaker)\n",
      "  Downloading jsonschema-4.22.0-py3-none-any.whl.metadata (8.2 kB)\u001b[0m\n",
      "\u001b[34mRequirement already satisfied: platformdirs in /opt/conda/lib/python3.11/site-packages (from sagemaker) (4.1.0)\u001b[0m\n",
      "\u001b[34mCollecting tblib<4,>=1.7.0 (from sagemaker)\n",
      "  Downloading tblib-3.0.0-py3-none-any.whl.metadata (25 kB)\u001b[0m\n",
      "\u001b[34mRequirement already satisfied: urllib3<3.0.0,>=1.26.8 in /opt/conda/lib/python3.11/site-packages (from sagemaker) (1.26.18)\u001b[0m\n",
      "\u001b[34mRequirement already satisfied: requests in /opt/conda/lib/python3.11/site-packages (from sagemaker) (2.32.3)\u001b[0m\n",
      "\u001b[34mCollecting docker (from sagemaker)\n",
      "  Downloading docker-7.1.0-py3-none-any.whl.metadata (3.8 kB)\u001b[0m\n",
      "\u001b[34mRequirement already satisfied: tqdm in /opt/conda/lib/python3.11/site-packages (from sagemaker) (4.66.4)\u001b[0m\n",
      "\u001b[34mRequirement already satisfied: psutil in /opt/conda/lib/python3.11/site-packages (from sagemaker) (5.9.8)\u001b[0m\n",
      "\u001b[34mRequirement already satisfied: botocore<1.35.0,>=1.34.122 in /opt/conda/lib/python3.11/site-packages (from boto3) (1.34.122)\u001b[0m\n",
      "\u001b[34mRequirement already satisfied: jmespath<2.0.0,>=0.7.1 in /opt/conda/lib/python3.11/site-packages (from boto3) (1.0.1)\u001b[0m\n",
      "\u001b[34mRequirement already satisfied: s3transfer<0.11.0,>=0.10.0 in /opt/conda/lib/python3.11/site-packages (from boto3) (0.10.1)\u001b[0m\n",
      "\u001b[34mRequirement already satisfied: python-dateutil<3.0.0,>=2.1 in /opt/conda/lib/python3.11/site-packages (from botocore<1.35.0,>=1.34.122->boto3) (2.9.0)\u001b[0m\n",
      "\u001b[34mCollecting zipp>=0.5 (from importlib-metadata<7.0,>=1.4.0->sagemaker)\n",
      "  Downloading zipp-3.19.2-py3-none-any.whl.metadata (3.6 kB)\u001b[0m\n",
      "\u001b[34mRequirement already satisfied: charset-normalizer<4,>=2 in /opt/conda/lib/python3.11/site-packages (from requests->sagemaker) (3.3.2)\u001b[0m\n",
      "\u001b[34mRequirement already satisfied: idna<4,>=2.5 in /opt/conda/lib/python3.11/site-packages (from requests->sagemaker) (3.7)\u001b[0m\n",
      "\u001b[34mRequirement already satisfied: certifi>=2017.4.17 in /opt/conda/lib/python3.11/site-packages (from requests->sagemaker) (2024.6.2)\u001b[0m\n",
      "\u001b[34mRequirement already satisfied: six in /opt/conda/lib/python3.11/site-packages (from google-pasta->sagemaker) (1.16.0)\u001b[0m\n",
      "\u001b[34mCollecting jsonschema-specifications>=2023.03.6 (from jsonschema->sagemaker)\n",
      "  Downloading jsonschema_specifications-2023.12.1-py3-none-any.whl.metadata (3.0 kB)\u001b[0m\n",
      "\u001b[34mCollecting referencing>=0.28.4 (from jsonschema->sagemaker)\n",
      "  Downloading referencing-0.35.1-py3-none-any.whl.metadata (2.8 kB)\u001b[0m\n",
      "\u001b[34mCollecting rpds-py>=0.7.1 (from jsonschema->sagemaker)\n",
      "  Downloading rpds_py-0.18.1-cp311-cp311-manylinux_2_17_x86_64.manylinux2014_x86_64.whl.metadata (4.1 kB)\u001b[0m\n",
      "\u001b[34mRequirement already satisfied: pytz>=2020.1 in /opt/conda/lib/python3.11/site-packages (from pandas->sagemaker) (2024.1)\u001b[0m\n",
      "\u001b[34mRequirement already satisfied: tzdata>=2022.7 in /opt/conda/lib/python3.11/site-packages (from pandas->sagemaker) (2024.1)\u001b[0m\n",
      "\u001b[34mCollecting ppft>=1.7.6.8 (from pathos->sagemaker)\n",
      "  Downloading ppft-1.7.6.8-py3-none-any.whl.metadata (12 kB)\u001b[0m\n",
      "\u001b[34mCollecting dill>=0.3.8 (from pathos->sagemaker)\n",
      "  Downloading dill-0.3.8-py3-none-any.whl.metadata (10 kB)\u001b[0m\n",
      "\u001b[34mCollecting pox>=0.3.4 (from pathos->sagemaker)\n",
      "  Downloading pox-0.3.4-py3-none-any.whl.metadata (8.0 kB)\u001b[0m\n",
      "\u001b[34mCollecting multiprocess>=0.70.16 (from pathos->sagemaker)\n",
      "  Downloading multiprocess-0.70.16-py311-none-any.whl.metadata (7.2 kB)\u001b[0m\n",
      "\u001b[34mDownloading sagemaker-2.224.1-py3-none-any.whl (1.5 MB)\n",
      "   ━━━━━━━━━━━━━━━━━━━━━━━━━━━━━━━━━━━━━━━━ 1.5/1.5 MB 105.5 MB/s eta 0:00:00\u001b[0m\n",
      "\u001b[34mDownloading cloudpickle-2.2.1-py3-none-any.whl (25 kB)\u001b[0m\n",
      "\u001b[34mDownloading smdebug_rulesconfig-1.0.1-py2.py3-none-any.whl (20 kB)\u001b[0m\n",
      "\u001b[34mDownloading attrs-23.2.0-py3-none-any.whl (60 kB)\n",
      "   ━━━━━━━━━━━━━━━━━━━━━━━━━━━━━━━━━━━━━━━━ 60.8/60.8 kB 17.1 MB/s eta 0:00:00\u001b[0m\n",
      "\u001b[34mDownloading importlib_metadata-6.11.0-py3-none-any.whl (23 kB)\u001b[0m\n",
      "\u001b[34mDownloading protobuf-4.25.3-cp37-abi3-manylinux2014_x86_64.whl (294 kB)\n",
      "   ━━━━━━━━━━━━━━━━━━━━━━━━━━━━━━━━━━━━━━━━ 294.6/294.6 kB 61.2 MB/s eta 0:00:00\u001b[0m\n",
      "\u001b[34mDownloading tblib-3.0.0-py3-none-any.whl (12 kB)\u001b[0m\n",
      "\u001b[34mDownloading docker-7.1.0-py3-none-any.whl (147 kB)\n",
      "   ━━━━━━━━━━━━━━━━━━━━━━━━━━━━━━━━━━━━━━━━ 147.8/147.8 kB 36.8 MB/s eta 0:00:00\u001b[0m\n",
      "\u001b[34mDownloading google_pasta-0.2.0-py3-none-any.whl (57 kB)\n",
      "   ━━━━━━━━━━━━━━━━━━━━━━━━━━━━━━━━━━━━━━━━ 57.5/57.5 kB 15.6 MB/s eta 0:00:00\u001b[0m\n",
      "\u001b[34mDownloading jsonschema-4.22.0-py3-none-any.whl (88 kB)\n",
      "   ━━━━━━━━━━━━━━━━━━━━━━━━━━━━━━━━━━━━━━━━ 88.3/88.3 kB 29.1 MB/s eta 0:00:00\u001b[0m\n",
      "\u001b[34mDownloading pathos-0.3.2-py3-none-any.whl (82 kB)\n",
      "   ━━━━━━━━━━━━━━━━━━━━━━━━━━━━━━━━━━━━━━━━ 82.1/82.1 kB 22.3 MB/s eta 0:00:00\u001b[0m\n",
      "\u001b[34mDownloading schema-0.7.7-py2.py3-none-any.whl (18 kB)\u001b[0m\n",
      "\u001b[34mDownloading dill-0.3.8-py3-none-any.whl (116 kB)\n",
      "   ━━━━━━━━━━━━━━━━━━━━━━━━━━━━━━━━━━━━━━━━ 116.3/116.3 kB 33.6 MB/s eta 0:00:00\u001b[0m\n",
      "\u001b[34mDownloading jsonschema_specifications-2023.12.1-py3-none-any.whl (18 kB)\u001b[0m\n",
      "\u001b[34mDownloading multiprocess-0.70.16-py311-none-any.whl (143 kB)\n",
      "   ━━━━━━━━━━━━━━━━━━━━━━━━━━━━━━━━━━━━━━━━ 143.5/143.5 kB 29.6 MB/s eta 0:00:00\u001b[0m\n",
      "\u001b[34mDownloading pox-0.3.4-py3-none-any.whl (29 kB)\u001b[0m\n",
      "\u001b[34mDownloading ppft-1.7.6.8-py3-none-any.whl (56 kB)\n",
      "   ━━━━━━━━━━━━━━━━━━━━━━━━━━━━━━━━━━━━━━━━ 56.8/56.8 kB 16.0 MB/s eta 0:00:00\u001b[0m\n",
      "\u001b[34mDownloading referencing-0.35.1-py3-none-any.whl (26 kB)\u001b[0m\n",
      "\u001b[34mDownloading rpds_py-0.18.1-cp311-cp311-manylinux_2_17_x86_64.manylinux2014_x86_64.whl (1.1 MB)\n",
      "   ━━━━━━━━━━━━━━━━━━━━━━━━━━━━━━━━━━━━━━━━ 1.1/1.1 MB 120.6 MB/s eta 0:00:00\u001b[0m\n",
      "\u001b[34mDownloading zipp-3.19.2-py3-none-any.whl (9.0 kB)\u001b[0m\n",
      "\u001b[34mInstalling collected packages: schema, zipp, tblib, smdebug-rulesconfig, rpds-py, protobuf, ppft, pox, google-pasta, dill, cloudpickle, attrs, referencing, multiprocess, importlib-metadata, docker, pathos, jsonschema-specifications, jsonschema, sagemaker\u001b[0m\n",
      "\u001b[34mSuccessfully installed attrs-23.2.0 cloudpickle-2.2.1 dill-0.3.8 docker-7.1.0 google-pasta-0.2.0 importlib-metadata-6.11.0 jsonschema-4.22.0 jsonschema-specifications-2023.12.1 multiprocess-0.70.16 pathos-0.3.2 pox-0.3.4 ppft-1.7.6.8 protobuf-4.25.3 referencing-0.35.1 rpds-py-0.18.1 sagemaker-2.224.1 schema-0.7.7 smdebug-rulesconfig-1.0.1 tblib-3.0.0 zipp-3.19.2\u001b[0m\n",
      "\u001b[34mWARNING: Running pip as the 'root' user can result in broken permissions and conflicting behaviour with the system package manager. It is recommended to use a virtual environment instead: https://pip.pypa.io/warnings/venv\u001b[0m\n",
      "\u001b[34m[notice] A new release of pip is available: 24.0 -> 24.1.1\u001b[0m\n",
      "\u001b[34m[notice] To update, run: pip install --upgrade pip\u001b[0m\n",
      "\u001b[34msagemaker.config INFO - Not applying SDK defaults from location: /etc/xdg/sagemaker/config.yaml\u001b[0m\n",
      "\u001b[34msagemaker.config INFO - Not applying SDK defaults from location: /root/.config/sagemaker/config.yaml\u001b[0m\n",
      "\u001b[34mNone\u001b[0m\n",
      "\u001b[34meu-central-1\u001b[0m\n",
      "\u001b[34mEvaulation job is started\u001b[0m\n",
      "\u001b[34mTest metadata is imported\u001b[0m\n",
      "\u001b[34mTar file \"model_resnet18.tar.gz\" successfully extracted.\u001b[0m\n",
      "\u001b[34mBest Model is imported\u001b[0m\n",
      "\u001b[34mDownloading: \"https://download.pytorch.org/models/resnet18-f37072fd.pth\" to /root/.cache/torch/hub/checkpoints/resnet18-f37072fd.pth\u001b[0m\n",
      "\u001b[34m#015  0%|          | 0.00/44.7M [00:00<?, ?B/s]#015 48%|████▊     | 21.6M/44.7M [00:00<00:00, 226MB/s]#015 99%|█████████▉| 44.4M/44.7M [00:00<00:00, 233MB/s]#015100%|██████████| 44.7M/44.7M [00:00<00:00, 230MB/s]\u001b[0m\n",
      "\u001b[34mBest Model is loaded\u001b[0m\n",
      "\u001b[34mTesting will start\u001b[0m\n",
      "\u001b[34mSageMaker FileNotFoundError occurred: [Errno 2] No such file or directory: '/s3:/wildfires/sagemaker/fire-image-classification/fire.506.png'\u001b[0m\n",
      "\u001b[34mtest_loader execution finished.\u001b[0m\n",
      "\u001b[34mTest set: Average loss: 0.0000, Accuracy: 0/200 (0%)\u001b[0m\n",
      "\u001b[34mTesting is ended\u001b[0m\n",
      "\u001b[34mResult is calculated\u001b[0m\n",
      "\u001b[34m{'metrics': {'accuracy': 0.0, 'test_loss': 0.0}}\u001b[0m\n",
      "\u001b[34mResults are registered to Model Registry\u001b[0m\n",
      "\u001b[34mJob is Finished\u001b[0m\n",
      "\n"
     ]
    }
   ],
   "source": [
    "import sagemaker\n",
    "import boto3\n",
    "from sagemaker.processing import ScriptProcessor\n",
    "from sagemaker import get_execution_role\n",
    "from sagemaker import image_uris\n",
    "\n",
    "role = get_execution_role()\n",
    "sm_session = sagemaker.Session()\n",
    "\n",
    "boto_session = boto3.Session()\n",
    "region = boto_session.region_name\n",
    "\n",
    "constants = {\n",
    "    \"bucket_name\": \"wildfires\",\n",
    "    # \"sklearn_image_uri_version\": \"1.2-1\",\n",
    "    \"region\": boto_session.region_name\n",
    "}\n",
    "\n",
    "script_path = sm_session.upload_data(\n",
    "    path='evaluation.py',\n",
    "    bucket=constants[\"bucket_name\"],\n",
    "    key_prefix=\"scripts\"\n",
    ")\n",
    "\n",
    "test_metadata_path = 's3://wildfires/sagemaker/fire-image-classification'\n",
    "\n",
    "best_model_path = 's3://fire-project-hs/34/36ba5f52b9944395ab2ccf94aed56e5a/artifacts/models'\n",
    "\n",
    "model_package_arn = 'arn:aws:sagemaker:eu-central-1:567821811420:model-package/first-fire-mlflow-ee0049/1'\n",
    "\n",
    "# sklearn_image_uri = image_uris.retrieve(\n",
    "#         framework=\"sklearn\",\n",
    "#         region=constants[\"region\"],\n",
    "#         version=constants[\"sklearn_image_uri_version\"],\n",
    "#     )\n",
    "\n",
    "script_processor = ScriptProcessor(\n",
    "    role=role,\n",
    "    image_uri='763104351884.dkr.ecr.eu-central-1.amazonaws.com/pytorch-inference:2.3.0-gpu-py311-cu121-ubuntu20.04-ec2',\n",
    "    command=['python3'],\n",
    "    instance_count=1,\n",
    "    instance_type='ml.m5.large'\n",
    ")\n",
    "\n",
    "script_processor.run(\n",
    "    job_name='wildfire-evaluation-job-t23',\n",
    "    code=script_path,\n",
    "    arguments=[\n",
    "        '--test_metadata_bucket', constants[\"bucket_name\"],\n",
    "        '--best_model_bucket', constants[\"bucket_name\"],\n",
    "        '--test_metadata_prefix', 'sagemaker/fire-image-classification',\n",
    "        '--best_model_prefix', 'models',\n",
    "        '--test_metadata_file', 'test.pkl',\n",
    "        '--best_model_file', 'model_resnet18.tar.gz',\n",
    "        '--result_bucket', constants[\"bucket_name\"],\n",
    "        '--result_prefix', 'evaluation/dummy',\n",
    "        '--result_file', 'eva-result-',\n",
    "        '--data_dir', 's3://wildfires/sagemaker/fire-image-classification',\n",
    "        '--model_package_arn', model_package_arn,\n",
    "        '--region', constants[\"region\"]\n",
    "    ]\n",
    ")"
   ]
  },
  {
   "cell_type": "code",
   "execution_count": null,
   "id": "d959a6da-0ff2-4901-89e6-65168244ae8f",
   "metadata": {},
   "outputs": [],
   "source": [
    "# import sagemaker\n",
    "# from sagemaker.processing import ScriptProcessor, ProcessingInput, ProcessingOutput\n",
    "\n",
    "# sagemaker_session = sagemaker.Session()\n",
    "# role = sagemaker.get_execution_role()\n",
    "\n",
    "# script_processor = ScriptProcessor(\n",
    "#     image_uri='763104351884.dkr.ecr.us-west-2.amazonaws.com/pytorch-inference:1.7.1-cpu-py36-ubuntu18.04',  # Kullanacağınız image\n",
    "#     role=role,\n",
    "#     instance_count=1,\n",
    "#     instance_type='ml.m5.xlarge'\n",
    "# )\n",
    "\n",
    "# script_processor.run(\n",
    "#     code='PATH-FOR-EVALUATION.PY',\n",
    "#     inputs=[\n",
    "#         ProcessingInput(\n",
    "#             source='PATH-FOR-TEST-DATASET and METADATA',\n",
    "#             destination='/opt/ml/processing/input'\n",
    "#         ),\n",
    "#         ProcessingInput(\n",
    "#             source='PATH-FOR-MODEL',\n",
    "#             destination='/opt/ml/processing/model'\n",
    "#         )\n",
    "#     ],\n",
    "#     outputs=[\n",
    "#         ProcessingOutput(\n",
    "#             source='/opt/ml/processing/output',\n",
    "#             destination='PATH-FOR-EVALUATION RESULTS'\n",
    "#         )\n",
    "#     ]\n",
    "# )\n"
   ]
  },
  {
   "cell_type": "code",
   "execution_count": null,
   "id": "72f0bae7-e675-42b6-90c7-dc1d303cb6aa",
   "metadata": {},
   "outputs": [],
   "source": [
    "import boto3\n",
    "\n",
    "\n",
    "sm = boto3.client('sagemaker')\n",
    "\n",
    "model_package_arn = 'arn:aws:sagemaker:eu-central-1:567821811420:model-package/first-fire-mlflow-ee0049/1'\n",
    "\n",
    "response = s3_client.get_object(Bucket=constants[\"bucket_name\"], Key='evaluation/dummy/')\n",
    "\n",
    "evaluation_result = response['Body'].read().decode('utf-8') \n",
    "\n",
    "\n",
    "sm.update_model_package(\n",
    "    ModelPackageArn=model_package_arn,\n",
    "    MetadataProperties={\n",
    "        'EvaluationResults': json.dumps(evaluation_result)\n",
    "    }\n",
    ")\n"
   ]
  },
  {
   "cell_type": "code",
   "execution_count": 5,
   "id": "8397a0d0-fd05-4894-8a28-bc9e098e1b25",
   "metadata": {},
   "outputs": [],
   "source": [
    "import boto3\n",
    "\n",
    "\n",
    "sm = boto3.client('sagemaker')"
   ]
  },
  {
   "cell_type": "code",
   "execution_count": 4,
   "id": "3ee71928-c49b-4713-b5e9-d3a98d37afdc",
   "metadata": {},
   "outputs": [
    {
     "data": {
      "text/plain": [
       "'eu-central-1'"
      ]
     },
     "execution_count": 4,
     "metadata": {},
     "output_type": "execute_result"
    }
   ],
   "source": [
    "boto_session.region_name"
   ]
  },
  {
   "cell_type": "code",
   "execution_count": 10,
   "id": "b99632e3-9ea7-4c80-8e90-8c026dc5d45b",
   "metadata": {},
   "outputs": [],
   "source": [
    "model_package_arn = 'arn:aws:sagemaker:eu-central-1:567821811420:model-package/first-fire-mlflow-ee0049/1'"
   ]
  },
  {
   "cell_type": "code",
   "execution_count": 3,
   "id": "e3e0c9cb",
   "metadata": {},
   "outputs": [],
   "source": [
    "boto_session = boto3.Session()\n"
   ]
  },
  {
   "cell_type": "code",
   "execution_count": 6,
   "id": "201d12f6",
   "metadata": {},
   "outputs": [
    {
     "data": {
      "text/plain": [
       "<botocore.client.SageMaker at 0x7f122a5e3340>"
      ]
     },
     "execution_count": 6,
     "metadata": {},
     "output_type": "execute_result"
    }
   ],
   "source": [
    "sm"
   ]
  },
  {
   "cell_type": "code",
   "execution_count": 3,
   "id": "d34403ef",
   "metadata": {},
   "outputs": [],
   "source": [
    "result = {\"metrics\": {\"accuracy\": 0.0, \"test_loss\": 0.0}}"
   ]
  },
  {
   "cell_type": "code",
   "execution_count": 21,
   "id": "9ca98d7d-97d5-43ff-a796-ea6d2038de22",
   "metadata": {},
   "outputs": [
    {
     "name": "stdout",
     "output_type": "stream",
     "text": [
      "Setting up tracking and Experiment\n"
     ]
    },
    {
     "ename": "UnsupportedModelRegistryStoreURIException",
     "evalue": " Model registry functionality is unavailable; got unsupported URI 'arn:aws:sagemaker:eu-central-1:567821811420:mlflow-tracking-server/wildfire-mj' for model registry data storage. Supported URI schemes are: ['', 'file', 'databricks', 'databricks-uc', 'http', 'https', 'postgresql', 'mysql', 'sqlite', 'mssql']. See https://www.mlflow.org/docs/latest/tracking.html#storage for how to run an MLflow server against one of the supported backend storage locations.",
     "output_type": "error",
     "traceback": [
      "\u001b[0;31m---------------------------------------------------------------------------\u001b[0m",
      "\u001b[0;31mKeyError\u001b[0m                                  Traceback (most recent call last)",
      "File \u001b[0;32m/opt/conda/lib/python3.10/site-packages/mlflow/tracking/registry.py:81\u001b[0m, in \u001b[0;36mStoreRegistry.get_store_builder\u001b[0;34m(self, store_uri)\u001b[0m\n\u001b[1;32m     80\u001b[0m \u001b[38;5;28;01mtry\u001b[39;00m:\n\u001b[0;32m---> 81\u001b[0m     store_builder \u001b[38;5;241m=\u001b[39m \u001b[38;5;28;43mself\u001b[39;49m\u001b[38;5;241;43m.\u001b[39;49m\u001b[43m_registry\u001b[49m\u001b[43m[\u001b[49m\u001b[43mscheme\u001b[49m\u001b[43m]\u001b[49m\n\u001b[1;32m     82\u001b[0m \u001b[38;5;28;01mexcept\u001b[39;00m \u001b[38;5;167;01mKeyError\u001b[39;00m:\n",
      "\u001b[0;31mKeyError\u001b[0m: 'arn'",
      "\nDuring handling of the above exception, another exception occurred:\n",
      "\u001b[0;31mUnsupportedModelRegistryStoreURIException\u001b[0m Traceback (most recent call last)",
      "Cell \u001b[0;32mIn[21], line 8\u001b[0m\n\u001b[1;32m      6\u001b[0m \u001b[38;5;28mprint\u001b[39m(\u001b[38;5;124m\"\u001b[39m\u001b[38;5;124mSetting up tracking and Experiment\u001b[39m\u001b[38;5;124m\"\u001b[39m)\n\u001b[1;32m      7\u001b[0m mlflow\u001b[38;5;241m.\u001b[39mset_tracking_uri(tracking_server_arn)\n\u001b[0;32m----> 8\u001b[0m \u001b[43mmlflow\u001b[49m\u001b[38;5;241;43m.\u001b[39;49m\u001b[43mset_experiment\u001b[49m\u001b[43m(\u001b[49m\u001b[43mmlflow_experiment_name\u001b[49m\u001b[43m)\u001b[49m\n\u001b[1;32m     10\u001b[0m acc \u001b[38;5;241m=\u001b[39m result[\u001b[38;5;124m\"\u001b[39m\u001b[38;5;124mmetrics\u001b[39m\u001b[38;5;124m\"\u001b[39m][\u001b[38;5;124m'\u001b[39m\u001b[38;5;124maccuracy\u001b[39m\u001b[38;5;124m'\u001b[39m]\n\u001b[1;32m     11\u001b[0m test_loss \u001b[38;5;241m=\u001b[39m result[\u001b[38;5;124m\"\u001b[39m\u001b[38;5;124mmetrics\u001b[39m\u001b[38;5;124m\"\u001b[39m][\u001b[38;5;124m'\u001b[39m\u001b[38;5;124mtest_loss\u001b[39m\u001b[38;5;124m'\u001b[39m]\n",
      "File \u001b[0;32m/opt/conda/lib/python3.10/site-packages/mlflow/tracking/fluent.py:141\u001b[0m, in \u001b[0;36mset_experiment\u001b[0;34m(experiment_name, experiment_id)\u001b[0m\n\u001b[1;32m    133\u001b[0m \u001b[38;5;28;01mif\u001b[39;00m (experiment_name \u001b[38;5;129;01mis\u001b[39;00m \u001b[38;5;129;01mnot\u001b[39;00m \u001b[38;5;28;01mNone\u001b[39;00m \u001b[38;5;129;01mand\u001b[39;00m experiment_id \u001b[38;5;129;01mis\u001b[39;00m \u001b[38;5;129;01mnot\u001b[39;00m \u001b[38;5;28;01mNone\u001b[39;00m) \u001b[38;5;129;01mor\u001b[39;00m (\n\u001b[1;32m    134\u001b[0m     experiment_name \u001b[38;5;129;01mis\u001b[39;00m \u001b[38;5;28;01mNone\u001b[39;00m \u001b[38;5;129;01mand\u001b[39;00m experiment_id \u001b[38;5;129;01mis\u001b[39;00m \u001b[38;5;28;01mNone\u001b[39;00m\n\u001b[1;32m    135\u001b[0m ):\n\u001b[1;32m    136\u001b[0m     \u001b[38;5;28;01mraise\u001b[39;00m MlflowException(\n\u001b[1;32m    137\u001b[0m         message\u001b[38;5;241m=\u001b[39m\u001b[38;5;124m\"\u001b[39m\u001b[38;5;124mMust specify exactly one of: `experiment_id` or `experiment_name`.\u001b[39m\u001b[38;5;124m\"\u001b[39m,\n\u001b[1;32m    138\u001b[0m         error_code\u001b[38;5;241m=\u001b[39mINVALID_PARAMETER_VALUE,\n\u001b[1;32m    139\u001b[0m     )\n\u001b[0;32m--> 141\u001b[0m client \u001b[38;5;241m=\u001b[39m \u001b[43mMlflowClient\u001b[49m\u001b[43m(\u001b[49m\u001b[43m)\u001b[49m\n\u001b[1;32m    142\u001b[0m \u001b[38;5;28;01mif\u001b[39;00m experiment_id \u001b[38;5;129;01mis\u001b[39;00m \u001b[38;5;28;01mNone\u001b[39;00m:\n\u001b[1;32m    143\u001b[0m     experiment \u001b[38;5;241m=\u001b[39m client\u001b[38;5;241m.\u001b[39mget_experiment_by_name(experiment_name)\n",
      "File \u001b[0;32m/opt/conda/lib/python3.10/site-packages/mlflow/tracking/client.py:134\u001b[0m, in \u001b[0;36mMlflowClient.__init__\u001b[0;34m(self, tracking_uri, registry_uri)\u001b[0m\n\u001b[1;32m    132\u001b[0m final_tracking_uri \u001b[38;5;241m=\u001b[39m utils\u001b[38;5;241m.\u001b[39m_resolve_tracking_uri(tracking_uri)\n\u001b[1;32m    133\u001b[0m \u001b[38;5;28mself\u001b[39m\u001b[38;5;241m.\u001b[39m_registry_uri \u001b[38;5;241m=\u001b[39m registry_utils\u001b[38;5;241m.\u001b[39m_resolve_registry_uri(registry_uri, tracking_uri)\n\u001b[0;32m--> 134\u001b[0m \u001b[38;5;28mself\u001b[39m\u001b[38;5;241m.\u001b[39m_tracking_client \u001b[38;5;241m=\u001b[39m \u001b[43mTrackingServiceClient\u001b[49m\u001b[43m(\u001b[49m\u001b[43mfinal_tracking_uri\u001b[49m\u001b[43m)\u001b[49m\n",
      "File \u001b[0;32m/opt/conda/lib/python3.10/site-packages/mlflow/tracking/_tracking_service/client.py:79\u001b[0m, in \u001b[0;36mTrackingServiceClient.__init__\u001b[0;34m(self, tracking_uri)\u001b[0m\n\u001b[1;32m     74\u001b[0m \u001b[38;5;28mself\u001b[39m\u001b[38;5;241m.\u001b[39mtracking_uri \u001b[38;5;241m=\u001b[39m tracking_uri\n\u001b[1;32m     75\u001b[0m \u001b[38;5;66;03m# NB: Fetch the tracking store (`self.store`) upon client initialization to ensure that\u001b[39;00m\n\u001b[1;32m     76\u001b[0m \u001b[38;5;66;03m# the tracking URI is valid and the store can be properly resolved. We define `store` as a\u001b[39;00m\n\u001b[1;32m     77\u001b[0m \u001b[38;5;66;03m# property method to ensure that the client is serializable, even if the store is not\u001b[39;00m\n\u001b[1;32m     78\u001b[0m \u001b[38;5;66;03m# self.store\u001b[39;00m\n\u001b[0;32m---> 79\u001b[0m \u001b[38;5;28;43mself\u001b[39;49m\u001b[38;5;241;43m.\u001b[39;49m\u001b[43mstore\u001b[49m\n",
      "File \u001b[0;32m/opt/conda/lib/python3.10/site-packages/mlflow/tracking/_tracking_service/client.py:83\u001b[0m, in \u001b[0;36mTrackingServiceClient.store\u001b[0;34m(self)\u001b[0m\n\u001b[1;32m     81\u001b[0m \u001b[38;5;129m@property\u001b[39m\n\u001b[1;32m     82\u001b[0m \u001b[38;5;28;01mdef\u001b[39;00m \u001b[38;5;21mstore\u001b[39m(\u001b[38;5;28mself\u001b[39m):\n\u001b[0;32m---> 83\u001b[0m     \u001b[38;5;28;01mreturn\u001b[39;00m \u001b[43mutils\u001b[49m\u001b[38;5;241;43m.\u001b[39;49m\u001b[43m_get_store\u001b[49m\u001b[43m(\u001b[49m\u001b[38;5;28;43mself\u001b[39;49m\u001b[38;5;241;43m.\u001b[39;49m\u001b[43mtracking_uri\u001b[49m\u001b[43m)\u001b[49m\n",
      "File \u001b[0;32m/opt/conda/lib/python3.10/site-packages/mlflow/tracking/_tracking_service/utils.py:205\u001b[0m, in \u001b[0;36m_get_store\u001b[0;34m(store_uri, artifact_uri)\u001b[0m\n\u001b[1;32m    204\u001b[0m \u001b[38;5;28;01mdef\u001b[39;00m \u001b[38;5;21m_get_store\u001b[39m(store_uri\u001b[38;5;241m=\u001b[39m\u001b[38;5;28;01mNone\u001b[39;00m, artifact_uri\u001b[38;5;241m=\u001b[39m\u001b[38;5;28;01mNone\u001b[39;00m):\n\u001b[0;32m--> 205\u001b[0m     \u001b[38;5;28;01mreturn\u001b[39;00m \u001b[43m_tracking_store_registry\u001b[49m\u001b[38;5;241;43m.\u001b[39;49m\u001b[43mget_store\u001b[49m\u001b[43m(\u001b[49m\u001b[43mstore_uri\u001b[49m\u001b[43m,\u001b[49m\u001b[43m \u001b[49m\u001b[43martifact_uri\u001b[49m\u001b[43m)\u001b[49m\n",
      "File \u001b[0;32m/opt/conda/lib/python3.10/site-packages/mlflow/tracking/_tracking_service/registry.py:42\u001b[0m, in \u001b[0;36mTrackingStoreRegistry.get_store\u001b[0;34m(self, store_uri, artifact_uri)\u001b[0m\n\u001b[1;32m     39\u001b[0m \u001b[38;5;28;01mfrom\u001b[39;00m \u001b[38;5;21;01mmlflow\u001b[39;00m\u001b[38;5;21;01m.\u001b[39;00m\u001b[38;5;21;01mtracking\u001b[39;00m\u001b[38;5;21;01m.\u001b[39;00m\u001b[38;5;21;01m_tracking_service\u001b[39;00m \u001b[38;5;28;01mimport\u001b[39;00m utils\n\u001b[1;32m     41\u001b[0m resolved_store_uri \u001b[38;5;241m=\u001b[39m utils\u001b[38;5;241m.\u001b[39m_resolve_tracking_uri(store_uri)\n\u001b[0;32m---> 42\u001b[0m \u001b[38;5;28;01mreturn\u001b[39;00m \u001b[38;5;28;43mself\u001b[39;49m\u001b[38;5;241;43m.\u001b[39;49m\u001b[43m_get_store_with_resolved_uri\u001b[49m\u001b[43m(\u001b[49m\u001b[43mresolved_store_uri\u001b[49m\u001b[43m,\u001b[49m\u001b[43m \u001b[49m\u001b[43martifact_uri\u001b[49m\u001b[43m)\u001b[49m\n",
      "File \u001b[0;32m/opt/conda/lib/python3.10/site-packages/mlflow/tracking/_tracking_service/registry.py:51\u001b[0m, in \u001b[0;36mTrackingStoreRegistry._get_store_with_resolved_uri\u001b[0;34m(self, resolved_store_uri, artifact_uri)\u001b[0m\n\u001b[1;32m     44\u001b[0m \u001b[38;5;129m@lru_cache\u001b[39m(maxsize\u001b[38;5;241m=\u001b[39m\u001b[38;5;241m100\u001b[39m)\n\u001b[1;32m     45\u001b[0m \u001b[38;5;28;01mdef\u001b[39;00m \u001b[38;5;21m_get_store_with_resolved_uri\u001b[39m(\u001b[38;5;28mself\u001b[39m, resolved_store_uri, artifact_uri\u001b[38;5;241m=\u001b[39m\u001b[38;5;28;01mNone\u001b[39;00m):\n\u001b[1;32m     46\u001b[0m \u001b[38;5;250m    \u001b[39m\u001b[38;5;124;03m\"\"\"\u001b[39;00m\n\u001b[1;32m     47\u001b[0m \u001b[38;5;124;03m    Retrieve the store associated with a resolved (non-None) store URI and an artifact URI.\u001b[39;00m\n\u001b[1;32m     48\u001b[0m \u001b[38;5;124;03m    Caching is done on resolved URIs because the meaning of an unresolved (None) URI may change\u001b[39;00m\n\u001b[1;32m     49\u001b[0m \u001b[38;5;124;03m    depending on external configuration, such as environment variables\u001b[39;00m\n\u001b[1;32m     50\u001b[0m \u001b[38;5;124;03m    \"\"\"\u001b[39;00m\n\u001b[0;32m---> 51\u001b[0m     builder \u001b[38;5;241m=\u001b[39m \u001b[38;5;28;43mself\u001b[39;49m\u001b[38;5;241;43m.\u001b[39;49m\u001b[43mget_store_builder\u001b[49m\u001b[43m(\u001b[49m\u001b[43mresolved_store_uri\u001b[49m\u001b[43m)\u001b[49m\n\u001b[1;32m     52\u001b[0m     \u001b[38;5;28;01mreturn\u001b[39;00m builder(store_uri\u001b[38;5;241m=\u001b[39mresolved_store_uri, artifact_uri\u001b[38;5;241m=\u001b[39martifact_uri)\n",
      "File \u001b[0;32m/opt/conda/lib/python3.10/site-packages/mlflow/tracking/registry.py:83\u001b[0m, in \u001b[0;36mStoreRegistry.get_store_builder\u001b[0;34m(self, store_uri)\u001b[0m\n\u001b[1;32m     81\u001b[0m     store_builder \u001b[38;5;241m=\u001b[39m \u001b[38;5;28mself\u001b[39m\u001b[38;5;241m.\u001b[39m_registry[scheme]\n\u001b[1;32m     82\u001b[0m \u001b[38;5;28;01mexcept\u001b[39;00m \u001b[38;5;167;01mKeyError\u001b[39;00m:\n\u001b[0;32m---> 83\u001b[0m     \u001b[38;5;28;01mraise\u001b[39;00m UnsupportedModelRegistryStoreURIException(\n\u001b[1;32m     84\u001b[0m         unsupported_uri\u001b[38;5;241m=\u001b[39mstore_uri, supported_uri_schemes\u001b[38;5;241m=\u001b[39m\u001b[38;5;28mlist\u001b[39m(\u001b[38;5;28mself\u001b[39m\u001b[38;5;241m.\u001b[39m_registry\u001b[38;5;241m.\u001b[39mkeys())\n\u001b[1;32m     85\u001b[0m     )\n\u001b[1;32m     86\u001b[0m \u001b[38;5;28;01mreturn\u001b[39;00m store_builder\n",
      "\u001b[0;31mUnsupportedModelRegistryStoreURIException\u001b[0m:  Model registry functionality is unavailable; got unsupported URI 'arn:aws:sagemaker:eu-central-1:567821811420:mlflow-tracking-server/wildfire-mj' for model registry data storage. Supported URI schemes are: ['', 'file', 'databricks', 'databricks-uc', 'http', 'https', 'postgresql', 'mysql', 'sqlite', 'mssql']. See https://www.mlflow.org/docs/latest/tracking.html#storage for how to run an MLflow server against one of the supported backend storage locations."
     ]
    }
   ],
   "source": [
    "import mlflow\n",
    "\n",
    "tracking_server_arn = 'arn:aws:sagemaker:eu-central-1:567821811420:mlflow-tracking-server/wildfire-mj'\n",
    "mlflow_experiment_name = 'wildfire-evaluation-dumm'\n",
    "\n",
    "print(\"Setting up tracking and Experiment\")\n",
    "mlflow.set_tracking_uri(tracking_server_arn)\n",
    "mlflow.set_experiment(mlflow_experiment_name)\n",
    "\n",
    "acc = result[\"metrics\"]['accuracy']\n",
    "test_loss = result[\"metrics\"]['test_loss']\n",
    "\n",
    "\n",
    "with mlflow.start_run(run_name=\"Wildfires-evaluation-dumm\") as run:\n",
    "    # Modeli kaydetme\n",
    "    # mlflow.sklearn.log_model(model, \"model\")\n",
    "    mlflow.autolog()\n",
    "\n",
    "\n",
    "    mlflow.log_metric(\"accuracy\", acc,run_id=run.info.run_id)\n",
    "    mlflow.log_metric(\"precision\", test_loss, run_id=run.info.run_id)\n",
    "\n",
    "\n",
    "\n",
    "print(\"MLflow run completed.\")\n"
   ]
  },
  {
   "cell_type": "code",
   "execution_count": 13,
   "id": "db887c88-1613-422d-b146-5b93e434e00d",
   "metadata": {},
   "outputs": [
    {
     "name": "stdout",
     "output_type": "stream",
     "text": [
      "Accuracy: 0.0\n",
      "Precision: 0.0\n",
      "MLflow run completed.\n"
     ]
    }
   ],
   "source": [
    "import mlflow\n",
    "\n",
    "experiment_name = \"Wildfires-evaluation\"\n",
    "mlflow.set_experiment(experiment_name)\n",
    "\n",
    "acc = result[\"metrics\"]['accuracy']\n",
    "test_loss = result[\"metrics\"]['test_loss']\n",
    "\n",
    "with mlflow.start_run(run_name=\"Wildfires-evaluation-dumm\"):\n",
    "    # Modeli kaydetme\n",
    "    # mlflow.sklearn.log_model(model, \"model\")\n",
    "\n",
    "\n",
    "    mlflow.log_metric(\"accuracy\", acc)\n",
    "    mlflow.log_metric(\"precision\", test_loss)\n",
    "\n",
    "\n",
    "    print(f\"Accuracy: {acc}\")\n",
    "    print(f\"Precision: {test_loss}\")\n",
    "\n",
    "\n",
    "print(\"MLflow run completed.\")"
   ]
  },
  {
   "cell_type": "code",
   "execution_count": 8,
   "id": "8f01faa5-cf87-4349-9f78-f9be47d18a74",
   "metadata": {},
   "outputs": [],
   "source": [
    "from sagemaker.experiments.experiment import Experiment\n",
    "from sagemaker.experiments.run import Run\n",
    "\n",
    "# SageMaker Experiments client\n",
    "from sagemaker.session import Session\n",
    "\n",
    "sm = boto3.client('sagemaker')\n",
    "sm_session = sagemaker.Session()\n",
    "\n",
    "# Experiment oluşturma\n",
    "experiment = Experiment.create(\n",
    "    experiment_name=\"wildfires-evaluation-test\",\n",
    "    description=\"Model evaluation experiment\"\n",
    ")\n",
    "\n",
    "# Run başlatma ve metrikleri kaydetme\n",
    "with Run(experiment_name=experiment.experiment_name, run_name=\"evaluation-run\",sagemaker_session=sm_session) as run:\n",
    "    # Hesapladığınız metrikleri kaydedin\n",
    "    run.log_metric(name=\"accuracy\", value=result[\"metrics\"]['accuracy'])\n",
    "    run.log_metric(name=\"test_loss\", value=result[\"metrics\"]['test_loss'])\n",
    "\n"
   ]
  },
  {
   "cell_type": "code",
   "execution_count": 4,
   "id": "efc4a50c",
   "metadata": {},
   "outputs": [
    {
     "data": {
      "text/plain": [
       "0.0"
      ]
     },
     "execution_count": 4,
     "metadata": {},
     "output_type": "execute_result"
    }
   ],
   "source": [
    "result[\"metrics\"]['accuracy']"
   ]
  },
  {
   "cell_type": "code",
   "execution_count": 75,
   "id": "636335ac",
   "metadata": {},
   "outputs": [
    {
     "data": {
      "text/plain": [
       "{'accuracy': 0.0, 'test_loss': 0.0}"
      ]
     },
     "execution_count": 75,
     "metadata": {},
     "output_type": "execute_result"
    }
   ],
   "source": [
    "result['metrics']"
   ]
  },
  {
   "cell_type": "code",
   "execution_count": 54,
   "id": "03790a49",
   "metadata": {},
   "outputs": [
    {
     "data": {
      "text/plain": [
       "('{\"metrics\":', '{\"accuracy\":', '0.0,', '\"test_loss\":', '0.0}}')"
      ]
     },
     "execution_count": 54,
     "metadata": {},
     "output_type": "execute_result"
    }
   ],
   "source": [
    "tuple(json.dumps(result).split(\" \"))"
   ]
  },
  {
   "cell_type": "code",
   "execution_count": 50,
   "id": "f8d141d0-9b76-4354-a9bd-ff98cab7a1b4",
   "metadata": {},
   "outputs": [],
   "source": [
    "s3.download_file('wildfires', 'evaluation/dummy/', '48')"
   ]
  },
  {
   "cell_type": "code",
   "execution_count": 87,
   "id": "df5688f0-ddb1-44c9-bc3f-437f09a17d88",
   "metadata": {},
   "outputs": [],
   "source": [
    "model_metrics = {\n",
    "    'ModelQuality': {\n",
    "        'Statistics': {\n",
    "            'ContentType': 'application/json',\n",
    "            'Statistics': json.dumps(result)\n",
    "        }\n",
    "    }\n",
    "}"
   ]
  },
  {
   "cell_type": "code",
   "execution_count": 24,
   "id": "c6ae46e0-f327-44b8-a149-97bd3acdcee6",
   "metadata": {},
   "outputs": [
    {
     "data": {
      "text/plain": [
       "{'ModelPackageArn': 'arn:aws:sagemaker:eu-central-1:567821811420:model-package/first-fire-mlflow-ee0049/1',\n",
       " 'ResponseMetadata': {'RequestId': 'e851c3ed-153c-4cac-9f63-25381dded612',\n",
       "  'HTTPStatusCode': 200,\n",
       "  'HTTPHeaders': {'x-amzn-requestid': 'e851c3ed-153c-4cac-9f63-25381dded612',\n",
       "   'content-type': 'application/x-amz-json-1.1',\n",
       "   'content-length': '106',\n",
       "   'date': 'Thu, 27 Jun 2024 08:55:24 GMT'},\n",
       "  'RetryAttempts': 0}}"
      ]
     },
     "execution_count": 24,
     "metadata": {},
     "output_type": "execute_result"
    }
   ],
   "source": [
    "sm.update_model_package(\n",
    "    ModelPackageArn=model_package_arn,\n",
    "    CustomerMetadataProperties={\"acc\": f\"{acc}\", \"test_loss\": f\"{test_loss}\"}\n",
    ")"
   ]
  },
  {
   "cell_type": "code",
   "execution_count": 1,
   "id": "ad06eb53-acea-4d65-b173-77ae1ee6150e",
   "metadata": {},
   "outputs": [
    {
     "name": "stdout",
     "output_type": "stream",
     "text": [
      "Collecting sagemaker-experiments\n",
      "  Downloading sagemaker_experiments-0.1.45-py3-none-any.whl.metadata (10 kB)\n",
      "Requirement already satisfied: boto3>=1.16.27 in /opt/conda/lib/python3.10/site-packages (from sagemaker-experiments) (1.34.51)\n",
      "Requirement already satisfied: botocore<1.35.0,>=1.34.51 in /opt/conda/lib/python3.10/site-packages (from boto3>=1.16.27->sagemaker-experiments) (1.34.51)\n",
      "Requirement already satisfied: jmespath<2.0.0,>=0.7.1 in /opt/conda/lib/python3.10/site-packages (from boto3>=1.16.27->sagemaker-experiments) (1.0.1)\n",
      "Requirement already satisfied: s3transfer<0.11.0,>=0.10.0 in /opt/conda/lib/python3.10/site-packages (from boto3>=1.16.27->sagemaker-experiments) (0.10.1)\n",
      "Requirement already satisfied: python-dateutil<3.0.0,>=2.1 in /opt/conda/lib/python3.10/site-packages (from botocore<1.35.0,>=1.34.51->boto3>=1.16.27->sagemaker-experiments) (2.9.0)\n",
      "Requirement already satisfied: urllib3<2.1,>=1.25.4 in /opt/conda/lib/python3.10/site-packages (from botocore<1.35.0,>=1.34.51->boto3>=1.16.27->sagemaker-experiments) (1.26.18)\n",
      "Requirement already satisfied: six>=1.5 in /opt/conda/lib/python3.10/site-packages (from python-dateutil<3.0.0,>=2.1->botocore<1.35.0,>=1.34.51->boto3>=1.16.27->sagemaker-experiments) (1.16.0)\n",
      "Downloading sagemaker_experiments-0.1.45-py3-none-any.whl (42 kB)\n",
      "\u001b[2K   \u001b[90m━━━━━━━━━━━━━━━━━━━━━━━━━━━━━━━━━━━━━━━━\u001b[0m \u001b[32m42.7/42.7 kB\u001b[0m \u001b[31m5.4 MB/s\u001b[0m eta \u001b[36m0:00:00\u001b[0m\n",
      "\u001b[?25hInstalling collected packages: sagemaker-experiments\n",
      "Successfully installed sagemaker-experiments-0.1.45\n"
     ]
    }
   ],
   "source": [
    "!pip install sagemaker-experiments\n"
   ]
  },
  {
   "cell_type": "code",
   "execution_count": 9,
   "id": "c56a75ac-baf5-40fc-a1b6-633949eb9d23",
   "metadata": {},
   "outputs": [
    {
     "name": "stdout",
     "output_type": "stream",
     "text": [
      "Collecting mlflow\n",
      "  Downloading mlflow-2.14.1-py3-none-any.whl.metadata (29 kB)\n",
      "Requirement already satisfied: Flask<4 in /opt/conda/lib/python3.10/site-packages (from mlflow) (3.0.3)\n",
      "Collecting alembic!=1.10.0,<2 (from mlflow)\n",
      "  Downloading alembic-1.13.2-py3-none-any.whl.metadata (7.4 kB)\n",
      "Requirement already satisfied: cachetools<6,>=5.0.0 in /opt/conda/lib/python3.10/site-packages (from mlflow) (5.3.3)\n",
      "Requirement already satisfied: click<9,>=7.0 in /opt/conda/lib/python3.10/site-packages (from mlflow) (8.1.7)\n",
      "Requirement already satisfied: cloudpickle<4 in /opt/conda/lib/python3.10/site-packages (from mlflow) (2.2.1)\n",
      "Requirement already satisfied: docker<8,>=4.0.0 in /opt/conda/lib/python3.10/site-packages (from mlflow) (7.0.0)\n",
      "Requirement already satisfied: entrypoints<1 in /opt/conda/lib/python3.10/site-packages (from mlflow) (0.4)\n",
      "Requirement already satisfied: gitpython<4,>=3.1.9 in /opt/conda/lib/python3.10/site-packages (from mlflow) (3.1.43)\n",
      "Collecting graphene<4 (from mlflow)\n",
      "  Using cached graphene-3.3-py2.py3-none-any.whl.metadata (7.7 kB)\n",
      "Requirement already satisfied: importlib-metadata!=4.7.0,<8,>=3.7.0 in /opt/conda/lib/python3.10/site-packages (from mlflow) (6.10.0)\n",
      "Requirement already satisfied: markdown<4,>=3.3 in /opt/conda/lib/python3.10/site-packages (from mlflow) (3.6)\n",
      "Requirement already satisfied: matplotlib<4 in /opt/conda/lib/python3.10/site-packages (from mlflow) (3.8.4)\n",
      "Requirement already satisfied: numpy<2 in /opt/conda/lib/python3.10/site-packages (from mlflow) (1.26.4)\n",
      "Collecting opentelemetry-api<3,>=1.9.0 (from mlflow)\n",
      "  Using cached opentelemetry_api-1.25.0-py3-none-any.whl.metadata (1.4 kB)\n",
      "Collecting opentelemetry-sdk<3,>=1.9.0 (from mlflow)\n",
      "  Using cached opentelemetry_sdk-1.25.0-py3-none-any.whl.metadata (1.4 kB)\n",
      "Requirement already satisfied: packaging<25 in /opt/conda/lib/python3.10/site-packages (from mlflow) (23.2)\n",
      "Requirement already satisfied: pandas<3 in /opt/conda/lib/python3.10/site-packages (from mlflow) (2.1.4)\n",
      "Requirement already satisfied: protobuf<5,>=3.12.0 in /opt/conda/lib/python3.10/site-packages (from mlflow) (4.24.4)\n",
      "Requirement already satisfied: pyarrow<16,>=4.0.0 in /opt/conda/lib/python3.10/site-packages (from mlflow) (15.0.0)\n",
      "Requirement already satisfied: pytz<2025 in /opt/conda/lib/python3.10/site-packages (from mlflow) (2023.3)\n",
      "Requirement already satisfied: pyyaml<7,>=5.1 in /opt/conda/lib/python3.10/site-packages (from mlflow) (6.0.1)\n",
      "Collecting querystring-parser<2 (from mlflow)\n",
      "  Using cached querystring_parser-1.2.4-py2.py3-none-any.whl.metadata (559 bytes)\n",
      "Requirement already satisfied: requests<3,>=2.17.3 in /opt/conda/lib/python3.10/site-packages (from mlflow) (2.31.0)\n",
      "Requirement already satisfied: scikit-learn<2 in /opt/conda/lib/python3.10/site-packages (from mlflow) (1.4.2)\n",
      "Requirement already satisfied: scipy<2 in /opt/conda/lib/python3.10/site-packages (from mlflow) (1.11.4)\n",
      "Requirement already satisfied: sqlalchemy<3,>=1.4.0 in /opt/conda/lib/python3.10/site-packages (from mlflow) (1.4.49)\n",
      "Requirement already satisfied: sqlparse<1,>=0.4.0 in /opt/conda/lib/python3.10/site-packages (from mlflow) (0.4.4)\n",
      "Requirement already satisfied: Jinja2<4,>=2.11 in /opt/conda/lib/python3.10/site-packages (from mlflow) (3.1.4)\n",
      "Collecting gunicorn<23 (from mlflow)\n",
      "  Using cached gunicorn-22.0.0-py3-none-any.whl.metadata (4.4 kB)\n",
      "Collecting Mako (from alembic!=1.10.0,<2->mlflow)\n",
      "  Using cached Mako-1.3.5-py3-none-any.whl.metadata (2.9 kB)\n",
      "Requirement already satisfied: typing-extensions>=4 in /opt/conda/lib/python3.10/site-packages (from alembic!=1.10.0,<2->mlflow) (4.11.0)\n",
      "Requirement already satisfied: urllib3>=1.26.0 in /opt/conda/lib/python3.10/site-packages (from docker<8,>=4.0.0->mlflow) (1.26.18)\n",
      "Requirement already satisfied: Werkzeug>=3.0.0 in /opt/conda/lib/python3.10/site-packages (from Flask<4->mlflow) (3.0.3)\n",
      "Requirement already satisfied: itsdangerous>=2.1.2 in /opt/conda/lib/python3.10/site-packages (from Flask<4->mlflow) (2.2.0)\n",
      "Requirement already satisfied: blinker>=1.6.2 in /opt/conda/lib/python3.10/site-packages (from Flask<4->mlflow) (1.8.2)\n",
      "Requirement already satisfied: gitdb<5,>=4.0.1 in /opt/conda/lib/python3.10/site-packages (from gitpython<4,>=3.1.9->mlflow) (4.0.11)\n",
      "Collecting graphql-core<3.3,>=3.1 (from graphene<4->mlflow)\n",
      "  Using cached graphql_core-3.2.3-py3-none-any.whl.metadata (10 kB)\n",
      "Collecting graphql-relay<3.3,>=3.1 (from graphene<4->mlflow)\n",
      "  Using cached graphql_relay-3.2.0-py3-none-any.whl.metadata (12 kB)\n",
      "Collecting aniso8601<10,>=8 (from graphene<4->mlflow)\n",
      "  Using cached aniso8601-9.0.1-py2.py3-none-any.whl.metadata (23 kB)\n",
      "Requirement already satisfied: zipp>=0.5 in /opt/conda/lib/python3.10/site-packages (from importlib-metadata!=4.7.0,<8,>=3.7.0->mlflow) (3.17.0)\n",
      "Requirement already satisfied: MarkupSafe>=2.0 in /opt/conda/lib/python3.10/site-packages (from Jinja2<4,>=2.11->mlflow) (2.1.5)\n",
      "Requirement already satisfied: contourpy>=1.0.1 in /opt/conda/lib/python3.10/site-packages (from matplotlib<4->mlflow) (1.2.1)\n",
      "Requirement already satisfied: cycler>=0.10 in /opt/conda/lib/python3.10/site-packages (from matplotlib<4->mlflow) (0.12.1)\n",
      "Requirement already satisfied: fonttools>=4.22.0 in /opt/conda/lib/python3.10/site-packages (from matplotlib<4->mlflow) (4.51.0)\n",
      "Requirement already satisfied: kiwisolver>=1.3.1 in /opt/conda/lib/python3.10/site-packages (from matplotlib<4->mlflow) (1.4.5)\n",
      "Requirement already satisfied: pillow>=8 in /opt/conda/lib/python3.10/site-packages (from matplotlib<4->mlflow) (10.3.0)\n",
      "Requirement already satisfied: pyparsing>=2.3.1 in /opt/conda/lib/python3.10/site-packages (from matplotlib<4->mlflow) (3.1.2)\n",
      "Requirement already satisfied: python-dateutil>=2.7 in /opt/conda/lib/python3.10/site-packages (from matplotlib<4->mlflow) (2.9.0)\n",
      "Collecting deprecated>=1.2.6 (from opentelemetry-api<3,>=1.9.0->mlflow)\n",
      "  Using cached Deprecated-1.2.14-py2.py3-none-any.whl.metadata (5.4 kB)\n",
      "Collecting opentelemetry-semantic-conventions==0.46b0 (from opentelemetry-sdk<3,>=1.9.0->mlflow)\n",
      "  Using cached opentelemetry_semantic_conventions-0.46b0-py3-none-any.whl.metadata (2.3 kB)\n",
      "Requirement already satisfied: tzdata>=2022.1 in /opt/conda/lib/python3.10/site-packages (from pandas<3->mlflow) (2024.1)\n",
      "Requirement already satisfied: six in /opt/conda/lib/python3.10/site-packages (from querystring-parser<2->mlflow) (1.16.0)\n",
      "Requirement already satisfied: charset-normalizer<4,>=2 in /opt/conda/lib/python3.10/site-packages (from requests<3,>=2.17.3->mlflow) (3.3.2)\n",
      "Requirement already satisfied: idna<4,>=2.5 in /opt/conda/lib/python3.10/site-packages (from requests<3,>=2.17.3->mlflow) (3.7)\n",
      "Requirement already satisfied: certifi>=2017.4.17 in /opt/conda/lib/python3.10/site-packages (from requests<3,>=2.17.3->mlflow) (2024.2.2)\n",
      "Requirement already satisfied: joblib>=1.2.0 in /opt/conda/lib/python3.10/site-packages (from scikit-learn<2->mlflow) (1.4.2)\n",
      "Requirement already satisfied: threadpoolctl>=2.0.0 in /opt/conda/lib/python3.10/site-packages (from scikit-learn<2->mlflow) (3.5.0)\n",
      "Requirement already satisfied: greenlet!=0.4.17 in /opt/conda/lib/python3.10/site-packages (from sqlalchemy<3,>=1.4.0->mlflow) (3.0.3)\n",
      "Requirement already satisfied: wrapt<2,>=1.10 in /opt/conda/lib/python3.10/site-packages (from deprecated>=1.2.6->opentelemetry-api<3,>=1.9.0->mlflow) (1.14.1)\n",
      "Requirement already satisfied: smmap<6,>=3.0.1 in /opt/conda/lib/python3.10/site-packages (from gitdb<5,>=4.0.1->gitpython<4,>=3.1.9->mlflow) (5.0.0)\n",
      "Downloading mlflow-2.14.1-py3-none-any.whl (25.8 MB)\n",
      "\u001b[2K   \u001b[90m━━━━━━━━━━━━━━━━━━━━━━━━━━━━━━━━━━━━━━━━\u001b[0m \u001b[32m25.8/25.8 MB\u001b[0m \u001b[31m42.4 MB/s\u001b[0m eta \u001b[36m0:00:00\u001b[0m:00:01\u001b[0m00:01\u001b[0m\n",
      "\u001b[?25hDownloading alembic-1.13.2-py3-none-any.whl (232 kB)\n",
      "\u001b[2K   \u001b[90m━━━━━━━━━━━━━━━━━━━━━━━━━━━━━━━━━━━━━━━━\u001b[0m \u001b[32m233.0/233.0 kB\u001b[0m \u001b[31m32.6 MB/s\u001b[0m eta \u001b[36m0:00:00\u001b[0m\n",
      "\u001b[?25hUsing cached graphene-3.3-py2.py3-none-any.whl (128 kB)\n",
      "Using cached gunicorn-22.0.0-py3-none-any.whl (84 kB)\n",
      "Using cached opentelemetry_api-1.25.0-py3-none-any.whl (59 kB)\n",
      "Using cached opentelemetry_sdk-1.25.0-py3-none-any.whl (107 kB)\n",
      "Using cached opentelemetry_semantic_conventions-0.46b0-py3-none-any.whl (130 kB)\n",
      "Using cached querystring_parser-1.2.4-py2.py3-none-any.whl (7.9 kB)\n",
      "Using cached aniso8601-9.0.1-py2.py3-none-any.whl (52 kB)\n",
      "Using cached Deprecated-1.2.14-py2.py3-none-any.whl (9.6 kB)\n",
      "Using cached graphql_core-3.2.3-py3-none-any.whl (202 kB)\n",
      "Using cached graphql_relay-3.2.0-py3-none-any.whl (16 kB)\n",
      "Using cached Mako-1.3.5-py3-none-any.whl (78 kB)\n",
      "Installing collected packages: aniso8601, querystring-parser, Mako, gunicorn, graphql-core, deprecated, opentelemetry-api, graphql-relay, alembic, opentelemetry-semantic-conventions, graphene, opentelemetry-sdk, mlflow\n",
      "Successfully installed Mako-1.3.5 alembic-1.13.2 aniso8601-9.0.1 deprecated-1.2.14 graphene-3.3 graphql-core-3.2.3 graphql-relay-3.2.0 gunicorn-22.0.0 mlflow-2.14.1 opentelemetry-api-1.25.0 opentelemetry-sdk-1.25.0 opentelemetry-semantic-conventions-0.46b0 querystring-parser-1.2.4\n"
     ]
    }
   ],
   "source": [
    "!pip install mlflow\n"
   ]
  },
  {
   "cell_type": "code",
   "execution_count": null,
   "id": "a29a74a1-0786-4a55-b6bb-c4517b2d95ac",
   "metadata": {},
   "outputs": [],
   "source": []
  }
 ],
 "metadata": {
  "kernelspec": {
   "display_name": "Python 3 (ipykernel)",
   "language": "python",
   "name": "python3"
  },
  "language_info": {
   "codemirror_mode": {
    "name": "ipython",
    "version": 3
   },
   "file_extension": ".py",
   "mimetype": "text/x-python",
   "name": "python",
   "nbconvert_exporter": "python",
   "pygments_lexer": "ipython3",
   "version": "3.10.14"
  }
 },
 "nbformat": 4,
 "nbformat_minor": 5
}
