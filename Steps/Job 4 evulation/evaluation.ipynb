{
 "cells": [
  {
   "cell_type": "code",
   "execution_count": 13,
   "id": "b598d833-69cd-41ba-899c-2928f16c640c",
   "metadata": {},
   "outputs": [],
   "source": [
    "import sagemaker\n",
    "from sagemaker.pytorch import PyTorch\n",
    "import pickle\n",
    "import os\n",
    "import boto3\n",
    "import sagemaker\n",
    "import torch\n",
    "import argparse\n",
    "import pickle\n",
    "# import mlflow\n",
    "import numpy as np\n",
    "import json\n",
    "\n",
    "import torch.nn as nn\n",
    "import torch.optim as optim\n",
    "\n",
    "from PIL import Image\n",
    "from torchvision import models\n",
    "from torchvision import transforms\n",
    "from torch.utils.data import Dataset, DataLoader\n",
    "\n",
    "# # SageMaker Session\n",
    "sagemaker_session = sagemaker.Session()\n",
    "role = sagemaker.get_execution_role()\n",
    "\n",
    "# # Estimator\n",
    "# estimator = PyTorch(\n",
    "#     entry_point='evaluation_script.py',  # Değerlendirme scriptiniz\n",
    "#     role=role,\n",
    "#     framework_version='2.0.0',\n",
    "#     py_version='py310',\n",
    "#     instance_count=1,\n",
    "#     instance_type='ml.g5.xlarge',\n",
    "#     sagemaker_session=sagemaker_session\n",
    "# )\n",
    "\n",
    "# # Değerlendirme işini başlatma\n",
    "# estimator.fit({'test': 's3://your-bucket/test-data/'})\n",
    "\n",
    "# # Değerlendirme raporunu S3'ten alın\n",
    "# evaluation_report_s3_uri = estimator.model_data\n"
   ]
  },
  {
   "cell_type": "code",
   "execution_count": null,
   "id": "64fb16ae-b58c-4b40-b2e3-d1f5277d7346",
   "metadata": {},
   "outputs": [],
   "source": []
  },
  {
   "cell_type": "code",
   "execution_count": null,
   "id": "d3a13436-a951-49c4-a46d-4d1637775377",
   "metadata": {},
   "outputs": [],
   "source": [
    "best_model_path = 's3://your-bucket/models/model_resnet18.pth'  # Adjust this path based on the extracted files\n",
    "device = torch.device(\"cuda\" if torch.cuda.is_available() else \"cpu\")\n",
    "\n",
    "model = models.resnet18()\n",
    "num_ftrs = model.fc.in_features\n",
    "model.fc = nn.Linear(num_ftrs, 2)\n",
    "model.load_state_dict(torch.load(best_model_path, map_location=device))"
   ]
  },
  {
   "cell_type": "code",
   "execution_count": null,
   "id": "b37e2a22-acbb-449b-bee5-51c86816fba6",
   "metadata": {},
   "outputs": [],
   "source": [
    "test_metadata_path = 's3://wildfires/data/test/datajob/test.pkl'\n",
    "test_metadata = pickle.dump(test_metadata_path)"
   ]
  },
  {
   "cell_type": "code",
   "execution_count": null,
   "id": "d62a66d5-ed56-4423-836a-7e93eafeab7d",
   "metadata": {},
   "outputs": [],
   "source": [
    "class FireDataset(Dataset):\n",
    "    def __init__(self, metadata, train_dir=\"\", transform=None):\n",
    "        self.metadata = metadata\n",
    "        self.transform = transform\n",
    "        self.train_dir = train_dir\n",
    "\n",
    "    def __len__(self):\n",
    "        return len(self.metadata)\n",
    "\n",
    "    def __getitem__(self, idx):\n",
    "        # img_path = self.metadata[idx]['local_path']\n",
    "        img_path = os.path.basename(self.metadata[idx]['image_location'])\n",
    "        img_path = os.path.join(self.train_dir, img_path)\n",
    "        image = Image.open(img_path).convert('RGB')\n",
    "        label = self.metadata[idx]['label']\n",
    "\n",
    "        if self.transform:\n",
    "            image = self.transform(image)\n",
    "\n",
    "        return image, label"
   ]
  },
  {
   "cell_type": "code",
   "execution_count": null,
   "id": "72d33194-79ed-4281-afcd-5804d49bf6cc",
   "metadata": {},
   "outputs": [],
   "source": [
    "val_test_transform = transforms.Compose([\n",
    "        transforms.Resize((224, 224)),\n",
    "        transforms.ToTensor(),\n",
    "        transforms.Normalize(mean=[0.485, 0.456, 0.406], std=[0.229, 0.224, 0.225])\n",
    "    ])\n",
    "\n",
    "test_dataset = FireDataset(test_metadata, train_dir=args.train_dir, transform=val_test_transform)\n",
    "test_loader = DataLoader(test_dataset, batch_size=args.batch_size, shuffle=False)\n"
   ]
  },
  {
   "cell_type": "code",
   "execution_count": null,
   "id": "a8e81bfb-5007-429e-a0aa-c14c5f3dfb05",
   "metadata": {},
   "outputs": [],
   "source": [
    "def test(model, test_loader, loss_function, epoch, device, run):\n",
    "    model = model.to(device)\n",
    "    loss_function = loss_function.to(device)\n",
    "    model.eval()\n",
    "    test_loss = 0\n",
    "    correct = 0\n",
    "    with torch.no_grad():\n",
    "        for data, target in test_loader:\n",
    "            data = data.to(device)\n",
    "            target = target.to(device)\n",
    "            output = model(data)\n",
    "            test_loss += loss_function(output, target).sum().item()\n",
    "            pred = output.argmax(dim=1, keepdim=True)\n",
    "            correct += pred.eq(target.view_as(pred)).sum().item()\n",
    "\n",
    "    test_loss /= len(test_loader.dataset)\n",
    "\n",
    "    print('\\nTest set: Average loss: {:.4f}, Accuracy: {}/{} ({:.0f}%)\\n'.format(\n",
    "        test_loss, correct, len(test_loader.dataset),\n",
    "        100. * correct / len(test_loader.dataset)))"
   ]
  },
  {
   "cell_type": "code",
   "execution_count": 1,
   "id": "1077a7ae-23e7-4a9b-b76f-9bbb18b26d8d",
   "metadata": {},
   "outputs": [
    {
     "data": {
      "text/plain": [
       "'/home/sagemaker-user/Steps/Job 4 evulation'"
      ]
     },
     "execution_count": 1,
     "metadata": {},
     "output_type": "execute_result"
    }
   ],
   "source": [
    "%pwd"
   ]
  },
  {
   "cell_type": "code",
   "execution_count": 17,
   "id": "644454c1-a8e0-4781-a400-893b26b52a5d",
   "metadata": {},
   "outputs": [],
   "source": [
    "import boto3\n",
    "\n",
    "s3 = boto3.client('s3')\n",
    "\n",
    "s3.download_file('wildfires', 'sagemaker/fire-image-classification/test.pkl', 'test.pkl')\n",
    "\n",
    "\n",
    "with open('test.pkl', 'rb') as file:\n",
    "    test_metadata = pickle.load(file)\n",
    "\n",
    "# test_metadata"
   ]
  },
  {
   "cell_type": "code",
   "execution_count": 13,
   "id": "10519978-a146-491d-a757-a7130b5206f6",
   "metadata": {},
   "outputs": [],
   "source": [
    "import boto3\n",
    "\n",
    "\n",
    "s3 = boto3.client('s3')\n",
    "\n",
    "s3.download_file('wildfires', 'models/model_resnet18.tar.gz', 'model_resnet18.tar.gz')\n",
    "\n"
   ]
  },
  {
   "cell_type": "code",
   "execution_count": 14,
   "id": "a0fd6d00-24b0-4b34-a0aa-07d787106657",
   "metadata": {},
   "outputs": [
    {
     "name": "stdout",
     "output_type": "stream",
     "text": [
      "Tar file \"model_resnet18.tar.gz\" successfully extracted.\n"
     ]
    }
   ],
   "source": [
    "import tarfile\n",
    "\n",
    "tar_file_path = 'model_resnet18.tar.gz'  # Açmak istediğiniz tar arşiv dosyasının yolu\n",
    "\n",
    "# Tar dosyasını açma\n",
    "try:\n",
    "    with tarfile.open(tar_file_path, 'r:gz') as tar:\n",
    "        tar.extractall(path='extracted_folder/')  # Arşivi çıkartılacak klasör yolunu belirtin\n",
    "    print(f'Tar file \"{tar_file_path}\" successfully extracted.')\n",
    "except Exception as e:\n",
    "    print(f'Error extracting tar file \"{tar_file_path}\": {e}')\n"
   ]
  },
  {
   "cell_type": "code",
   "execution_count": 23,
   "id": "9acbc587-0b05-4392-a8ae-7d7cb468eee2",
   "metadata": {},
   "outputs": [
    {
     "name": "stdout",
     "output_type": "stream",
     "text": [
      "model_resnet18\n"
     ]
    }
   ],
   "source": [
    "print(tar_file_path.split('.')[0])"
   ]
  },
  {
   "cell_type": "code",
   "execution_count": null,
   "id": "974a5892-35f0-4db0-83f4-c23dc3c79a2e",
   "metadata": {},
   "outputs": [],
   "source": [
    "'s3://wildfires/sagemaker/fire-image-classification/fire.506.png'"
   ]
  },
  {
   "cell_type": "code",
   "execution_count": null,
   "id": "145ae73a-9bf0-4e9c-9a9a-c90b5d068c88",
   "metadata": {},
   "outputs": [],
   "source": [
    "%pwd"
   ]
  },
  {
   "cell_type": "code",
   "execution_count": 25,
   "id": "3c7f88e4-b388-4dd8-a7f1-b1e2a81d8623",
   "metadata": {},
   "outputs": [],
   "source": [
    "s3.upload_file(\n",
    "    f'images.jpeg',\n",
    "    BUCKET_NAME,\n",
    "    f\"sagemaker/fire-image-classification/fire.506.png\",\n",
    ")"
   ]
  },
  {
   "cell_type": "code",
   "execution_count": 48,
   "id": "d51f8618-7747-45b9-a88b-5df67aa102e0",
   "metadata": {},
   "outputs": [],
   "source": [
    "s3 = boto3.client('s3')\n",
    "\n",
    "BUCKET_NAME = 'wildfires'\n",
    "\n",
    "s3.upload_file(\n",
    "    f'evaluation.py',\n",
    "    BUCKET_NAME,\n",
    "    f\"scripts/evaluation.py\",\n",
    ")"
   ]
  },
  {
   "cell_type": "code",
   "execution_count": 49,
   "id": "da652e91-f259-45e8-b3ed-44ab4917d68a",
   "metadata": {},
   "outputs": [
    {
     "name": "stderr",
     "output_type": "stream",
     "text": [
      "INFO:sagemaker:Creating processing-job with name wildfire-evaluation-job-t21\n"
     ]
    },
    {
     "name": "stdout",
     "output_type": "stream",
     "text": [
      "................................\u001b[34mCollecting sagemaker\n",
      "  Downloading sagemaker-2.224.1-py3-none-any.whl.metadata (15 kB)\u001b[0m\n",
      "\u001b[34mRequirement already satisfied: boto3 in /opt/conda/lib/python3.11/site-packages (1.34.122)\u001b[0m\n",
      "\u001b[34mCollecting attrs<24,>=23.1.0 (from sagemaker)\n",
      "  Downloading attrs-23.2.0-py3-none-any.whl.metadata (9.5 kB)\u001b[0m\n",
      "\u001b[34mCollecting cloudpickle==2.2.1 (from sagemaker)\n",
      "  Downloading cloudpickle-2.2.1-py3-none-any.whl.metadata (6.9 kB)\u001b[0m\n",
      "\u001b[34mCollecting google-pasta (from sagemaker)\n",
      "  Downloading google_pasta-0.2.0-py3-none-any.whl.metadata (814 bytes)\u001b[0m\n",
      "\u001b[34mRequirement already satisfied: numpy<2.0,>=1.9.0 in /opt/conda/lib/python3.11/site-packages (from sagemaker) (1.26.4)\u001b[0m\n",
      "\u001b[34mCollecting protobuf<5.0,>=3.12 (from sagemaker)\n",
      "  Downloading protobuf-4.25.3-cp37-abi3-manylinux2014_x86_64.whl.metadata (541 bytes)\u001b[0m\n",
      "\u001b[34mCollecting smdebug-rulesconfig==1.0.1 (from sagemaker)\n",
      "  Downloading smdebug_rulesconfig-1.0.1-py2.py3-none-any.whl.metadata (943 bytes)\u001b[0m\n",
      "\u001b[34mCollecting importlib-metadata<7.0,>=1.4.0 (from sagemaker)\n",
      "  Downloading importlib_metadata-6.11.0-py3-none-any.whl.metadata (4.9 kB)\u001b[0m\n",
      "\u001b[34mRequirement already satisfied: packaging>=20.0 in /opt/conda/lib/python3.11/site-packages (from sagemaker) (23.2)\u001b[0m\n",
      "\u001b[34mRequirement already satisfied: pandas in /opt/conda/lib/python3.11/site-packages (from sagemaker) (2.2.2)\u001b[0m\n",
      "\u001b[34mCollecting pathos (from sagemaker)\n",
      "  Downloading pathos-0.3.2-py3-none-any.whl.metadata (11 kB)\u001b[0m\n",
      "\u001b[34mCollecting schema (from sagemaker)\n",
      "  Downloading schema-0.7.7-py2.py3-none-any.whl.metadata (34 kB)\u001b[0m\n",
      "\u001b[34mRequirement already satisfied: PyYAML~=6.0 in /opt/conda/lib/python3.11/site-packages (from sagemaker) (6.0)\u001b[0m\n",
      "\u001b[34mCollecting jsonschema (from sagemaker)\n",
      "  Downloading jsonschema-4.22.0-py3-none-any.whl.metadata (8.2 kB)\u001b[0m\n",
      "\u001b[34mRequirement already satisfied: platformdirs in /opt/conda/lib/python3.11/site-packages (from sagemaker) (4.1.0)\u001b[0m\n",
      "\u001b[34mCollecting tblib<4,>=1.7.0 (from sagemaker)\n",
      "  Downloading tblib-3.0.0-py3-none-any.whl.metadata (25 kB)\u001b[0m\n",
      "\u001b[34mRequirement already satisfied: urllib3<3.0.0,>=1.26.8 in /opt/conda/lib/python3.11/site-packages (from sagemaker) (1.26.18)\u001b[0m\n",
      "\u001b[34mRequirement already satisfied: requests in /opt/conda/lib/python3.11/site-packages (from sagemaker) (2.32.3)\u001b[0m\n",
      "\u001b[34mCollecting docker (from sagemaker)\n",
      "  Downloading docker-7.1.0-py3-none-any.whl.metadata (3.8 kB)\u001b[0m\n",
      "\u001b[34mRequirement already satisfied: tqdm in /opt/conda/lib/python3.11/site-packages (from sagemaker) (4.66.4)\u001b[0m\n",
      "\u001b[34mRequirement already satisfied: psutil in /opt/conda/lib/python3.11/site-packages (from sagemaker) (5.9.8)\u001b[0m\n",
      "\u001b[34mRequirement already satisfied: botocore<1.35.0,>=1.34.122 in /opt/conda/lib/python3.11/site-packages (from boto3) (1.34.122)\u001b[0m\n",
      "\u001b[34mRequirement already satisfied: jmespath<2.0.0,>=0.7.1 in /opt/conda/lib/python3.11/site-packages (from boto3) (1.0.1)\u001b[0m\n",
      "\u001b[34mRequirement already satisfied: s3transfer<0.11.0,>=0.10.0 in /opt/conda/lib/python3.11/site-packages (from boto3) (0.10.1)\u001b[0m\n",
      "\u001b[34mRequirement already satisfied: python-dateutil<3.0.0,>=2.1 in /opt/conda/lib/python3.11/site-packages (from botocore<1.35.0,>=1.34.122->boto3) (2.9.0)\u001b[0m\n",
      "\u001b[34mCollecting zipp>=0.5 (from importlib-metadata<7.0,>=1.4.0->sagemaker)\n",
      "  Downloading zipp-3.19.2-py3-none-any.whl.metadata (3.6 kB)\u001b[0m\n",
      "\u001b[34mRequirement already satisfied: charset-normalizer<4,>=2 in /opt/conda/lib/python3.11/site-packages (from requests->sagemaker) (3.3.2)\u001b[0m\n",
      "\u001b[34mRequirement already satisfied: idna<4,>=2.5 in /opt/conda/lib/python3.11/site-packages (from requests->sagemaker) (3.7)\u001b[0m\n",
      "\u001b[34mRequirement already satisfied: certifi>=2017.4.17 in /opt/conda/lib/python3.11/site-packages (from requests->sagemaker) (2024.6.2)\u001b[0m\n",
      "\u001b[34mRequirement already satisfied: six in /opt/conda/lib/python3.11/site-packages (from google-pasta->sagemaker) (1.16.0)\u001b[0m\n",
      "\u001b[34mCollecting jsonschema-specifications>=2023.03.6 (from jsonschema->sagemaker)\n",
      "  Downloading jsonschema_specifications-2023.12.1-py3-none-any.whl.metadata (3.0 kB)\u001b[0m\n",
      "\u001b[34mCollecting referencing>=0.28.4 (from jsonschema->sagemaker)\n",
      "  Downloading referencing-0.35.1-py3-none-any.whl.metadata (2.8 kB)\u001b[0m\n",
      "\u001b[34mCollecting rpds-py>=0.7.1 (from jsonschema->sagemaker)\n",
      "  Downloading rpds_py-0.18.1-cp311-cp311-manylinux_2_17_x86_64.manylinux2014_x86_64.whl.metadata (4.1 kB)\u001b[0m\n",
      "\u001b[34mRequirement already satisfied: pytz>=2020.1 in /opt/conda/lib/python3.11/site-packages (from pandas->sagemaker) (2024.1)\u001b[0m\n",
      "\u001b[34mRequirement already satisfied: tzdata>=2022.7 in /opt/conda/lib/python3.11/site-packages (from pandas->sagemaker) (2024.1)\u001b[0m\n",
      "\u001b[34mCollecting ppft>=1.7.6.8 (from pathos->sagemaker)\n",
      "  Downloading ppft-1.7.6.8-py3-none-any.whl.metadata (12 kB)\u001b[0m\n",
      "\u001b[34mCollecting dill>=0.3.8 (from pathos->sagemaker)\n",
      "  Downloading dill-0.3.8-py3-none-any.whl.metadata (10 kB)\u001b[0m\n",
      "\u001b[34mCollecting pox>=0.3.4 (from pathos->sagemaker)\n",
      "  Downloading pox-0.3.4-py3-none-any.whl.metadata (8.0 kB)\u001b[0m\n",
      "\u001b[34mCollecting multiprocess>=0.70.16 (from pathos->sagemaker)\n",
      "  Downloading multiprocess-0.70.16-py311-none-any.whl.metadata (7.2 kB)\u001b[0m\n",
      "\u001b[34mDownloading sagemaker-2.224.1-py3-none-any.whl (1.5 MB)\n",
      "   ━━━━━━━━━━━━━━━━━━━━━━━━━━━━━━━━━━━━━━━━ 1.5/1.5 MB 83.2 MB/s eta 0:00:00\u001b[0m\n",
      "\u001b[34mDownloading cloudpickle-2.2.1-py3-none-any.whl (25 kB)\u001b[0m\n",
      "\u001b[34mDownloading smdebug_rulesconfig-1.0.1-py2.py3-none-any.whl (20 kB)\u001b[0m\n",
      "\u001b[34mDownloading attrs-23.2.0-py3-none-any.whl (60 kB)\n",
      "   ━━━━━━━━━━━━━━━━━━━━━━━━━━━━━━━━━━━━━━━━ 60.8/60.8 kB 14.0 MB/s eta 0:00:00\u001b[0m\n",
      "\u001b[34mDownloading importlib_metadata-6.11.0-py3-none-any.whl (23 kB)\u001b[0m\n",
      "\u001b[34mDownloading protobuf-4.25.3-cp37-abi3-manylinux2014_x86_64.whl (294 kB)\n",
      "   ━━━━━━━━━━━━━━━━━━━━━━━━━━━━━━━━━━━━━━━━ 294.6/294.6 kB 43.6 MB/s eta 0:00:00\u001b[0m\n",
      "\u001b[34mDownloading tblib-3.0.0-py3-none-any.whl (12 kB)\u001b[0m\n",
      "\u001b[34mDownloading docker-7.1.0-py3-none-any.whl (147 kB)\n",
      "   ━━━━━━━━━━━━━━━━━━━━━━━━━━━━━━━━━━━━━━━━ 147.8/147.8 kB 27.6 MB/s eta 0:00:00\u001b[0m\n",
      "\u001b[34mDownloading google_pasta-0.2.0-py3-none-any.whl (57 kB)\n",
      "   ━━━━━━━━━━━━━━━━━━━━━━━━━━━━━━━━━━━━━━━━ 57.5/57.5 kB 10.4 MB/s eta 0:00:00\u001b[0m\n",
      "\u001b[34mDownloading jsonschema-4.22.0-py3-none-any.whl (88 kB)\n",
      "   ━━━━━━━━━━━━━━━━━━━━━━━━━━━━━━━━━━━━━━━━ 88.3/88.3 kB 17.9 MB/s eta 0:00:00\u001b[0m\n",
      "\u001b[34mDownloading pathos-0.3.2-py3-none-any.whl (82 kB)\n",
      "   ━━━━━━━━━━━━━━━━━━━━━━━━━━━━━━━━━━━━━━━━ 82.1/82.1 kB 14.5 MB/s eta 0:00:00\u001b[0m\n",
      "\u001b[34mDownloading schema-0.7.7-py2.py3-none-any.whl (18 kB)\u001b[0m\n",
      "\u001b[34mDownloading dill-0.3.8-py3-none-any.whl (116 kB)\n",
      "   ━━━━━━━━━━━━━━━━━━━━━━━━━━━━━━━━━━━━━━━━ 116.3/116.3 kB 22.7 MB/s eta 0:00:00\u001b[0m\n",
      "\u001b[34mDownloading jsonschema_specifications-2023.12.1-py3-none-any.whl (18 kB)\u001b[0m\n",
      "\u001b[34mDownloading multiprocess-0.70.16-py311-none-any.whl (143 kB)\n",
      "   ━━━━━━━━━━━━━━━━━━━━━━━━━━━━━━━━━━━━━━━━ 143.5/143.5 kB 23.7 MB/s eta 0:00:00\u001b[0m\n",
      "\u001b[34mDownloading pox-0.3.4-py3-none-any.whl (29 kB)\u001b[0m\n",
      "\u001b[34mDownloading ppft-1.7.6.8-py3-none-any.whl (56 kB)\n",
      "   ━━━━━━━━━━━━━━━━━━━━━━━━━━━━━━━━━━━━━━━━ 56.8/56.8 kB 11.2 MB/s eta 0:00:00\u001b[0m\n",
      "\u001b[34mDownloading referencing-0.35.1-py3-none-any.whl (26 kB)\u001b[0m\n",
      "\u001b[34mDownloading rpds_py-0.18.1-cp311-cp311-manylinux_2_17_x86_64.manylinux2014_x86_64.whl (1.1 MB)\n",
      "   ━━━━━━━━━━━━━━━━━━━━━━━━━━━━━━━━━━━━━━━━ 1.1/1.1 MB 87.0 MB/s eta 0:00:00\u001b[0m\n",
      "\u001b[34mDownloading zipp-3.19.2-py3-none-any.whl (9.0 kB)\u001b[0m\n",
      "\u001b[34mInstalling collected packages: schema, zipp, tblib, smdebug-rulesconfig, rpds-py, protobuf, ppft, pox, google-pasta, dill, cloudpickle, attrs, referencing, multiprocess, importlib-metadata, docker, pathos, jsonschema-specifications, jsonschema, sagemaker\u001b[0m\n",
      "\u001b[34mSuccessfully installed attrs-23.2.0 cloudpickle-2.2.1 dill-0.3.8 docker-7.1.0 google-pasta-0.2.0 importlib-metadata-6.11.0 jsonschema-4.22.0 jsonschema-specifications-2023.12.1 multiprocess-0.70.16 pathos-0.3.2 pox-0.3.4 ppft-1.7.6.8 protobuf-4.25.3 referencing-0.35.1 rpds-py-0.18.1 sagemaker-2.224.1 schema-0.7.7 smdebug-rulesconfig-1.0.1 tblib-3.0.0 zipp-3.19.2\u001b[0m\n",
      "\u001b[34mWARNING: Running pip as the 'root' user can result in broken permissions and conflicting behaviour with the system package manager. It is recommended to use a virtual environment instead: https://pip.pypa.io/warnings/venv\u001b[0m\n",
      "\u001b[34m[notice] A new release of pip is available: 24.0 -> 24.1\u001b[0m\n",
      "\u001b[34m[notice] To update, run: pip install --upgrade pip\u001b[0m\n",
      "\u001b[34msagemaker.config INFO - Not applying SDK defaults from location: /etc/xdg/sagemaker/config.yaml\u001b[0m\n",
      "\u001b[34msagemaker.config INFO - Not applying SDK defaults from location: /root/.config/sagemaker/config.yaml\u001b[0m\n",
      "\u001b[34mNone\u001b[0m\n",
      "\u001b[34meu-central-1\u001b[0m\n",
      "\u001b[34mEvaulation job is started\u001b[0m\n",
      "\u001b[34mTest metadata is imported\u001b[0m\n",
      "\u001b[34mTar file \"model_resnet18.tar.gz\" successfully extracted.\u001b[0m\n",
      "\u001b[34mBest Model is imported\u001b[0m\n",
      "\u001b[34mDownloading: \"https://download.pytorch.org/models/resnet18-f37072fd.pth\" to /root/.cache/torch/hub/checkpoints/resnet18-f37072fd.pth\u001b[0m\n",
      "\u001b[34m#015  0%|          | 0.00/44.7M [00:00<?, ?B/s]#015 48%|████▊     | 21.6M/44.7M [00:00<00:00, 227MB/s]#015 98%|█████████▊| 43.6M/44.7M [00:00<00:00, 229MB/s]#015100%|██████████| 44.7M/44.7M [00:00<00:00, 227MB/s]\u001b[0m\n",
      "\u001b[34mBest Model is loaded\u001b[0m\n",
      "\u001b[34mTesting will start\u001b[0m\n",
      "\u001b[34mSageMaker FileNotFoundError occurred: [Errno 2] No such file or directory: '/s3:/wildfires/sagemaker/fire-image-classification/fire.506.png'\u001b[0m\n",
      "\u001b[34mtest_loader execution finished.\u001b[0m\n",
      "\u001b[34mTest set: Average loss: 0.0000, Accuracy: 0/200 (0%)\u001b[0m\n",
      "\u001b[34mTesting is ended\u001b[0m\n",
      "\u001b[34mResult is calculated\u001b[0m\n",
      "\u001b[34m{'metrics': {'accuracy': 0.0, 'test_loss': 0.0}}\u001b[0m\n",
      "\u001b[34mTraceback (most recent call last):\n",
      "  File \"/opt/ml/processing/input/code/evaluation.py\", line 187, in <module>\n",
      "    sm.update_model_package(\n",
      "  File \"/opt/conda/lib/python3.11/site-packages/botocore/client.py\", line 565, in _api_call\n",
      "    return self._make_api_call(operation_name, kwargs)\n",
      "           ^^^^^^^^^^^^^^^^^^^^^^^^^^^^^^^^^^^^^^^^^^^\n",
      "  File \"/opt/conda/lib/python3.11/site-packages/botocore/client.py\", line 974, in _make_api_call\n",
      "    request_dict = self._convert_to_request_dict(\n",
      "                   ^^^^^^^^^^^^^^^^^^^^^^^^^^^^^^\n",
      "  File \"/opt/conda/lib/python3.11/site-packages/botocore/client.py\", line 1048, in _convert_to_request_dict\n",
      "    request_dict = self._serializer.serialize_to_request(\n",
      "                   ^^^^^^^^^^^^^^^^^^^^^^^^^^^^^^^^^^^^^^\n",
      "  File \"/opt/conda/lib/python3.11/site-packages/botocore/validate.py\", line 381, in serialize_to_request\n",
      "    raise ParamValidationError(report=report.generate_report())\u001b[0m\n",
      "\u001b[34mbotocore.exceptions.ParamValidationError: Parameter validation failed:\u001b[0m\n",
      "\u001b[34mInvalid type for parameter AdditionalInferenceSpecificationsToAdd, value: {'EvaluationResults': ('{\"metrics\":', '{\"accuracy\":', '0.0,', '\"test_loss\":', '0.0}}')}, type: <class 'dict'>, valid types: <class 'list'>, <class 'tuple'>\u001b[0m\n",
      "\n"
     ]
    },
    {
     "ename": "UnexpectedStatusException",
     "evalue": "Error for Processing job wildfire-evaluation-job-t21: Failed. Reason: AlgorithmError: , exit code: 1",
     "output_type": "error",
     "traceback": [
      "\u001b[0;31m---------------------------------------------------------------------------\u001b[0m",
      "\u001b[0;31mUnexpectedStatusException\u001b[0m                 Traceback (most recent call last)",
      "Cell \u001b[0;32mIn[49], line 45\u001b[0m\n\u001b[1;32m     31\u001b[0m \u001b[38;5;66;03m# sklearn_image_uri = image_uris.retrieve(\u001b[39;00m\n\u001b[1;32m     32\u001b[0m \u001b[38;5;66;03m#         framework=\"sklearn\",\u001b[39;00m\n\u001b[1;32m     33\u001b[0m \u001b[38;5;66;03m#         region=constants[\"region\"],\u001b[39;00m\n\u001b[1;32m     34\u001b[0m \u001b[38;5;66;03m#         version=constants[\"sklearn_image_uri_version\"],\u001b[39;00m\n\u001b[1;32m     35\u001b[0m \u001b[38;5;66;03m#     )\u001b[39;00m\n\u001b[1;32m     37\u001b[0m script_processor \u001b[38;5;241m=\u001b[39m ScriptProcessor(\n\u001b[1;32m     38\u001b[0m     role\u001b[38;5;241m=\u001b[39mrole,\n\u001b[1;32m     39\u001b[0m     image_uri\u001b[38;5;241m=\u001b[39m\u001b[38;5;124m'\u001b[39m\u001b[38;5;124m763104351884.dkr.ecr.eu-central-1.amazonaws.com/pytorch-inference:2.3.0-gpu-py311-cu121-ubuntu20.04-ec2\u001b[39m\u001b[38;5;124m'\u001b[39m,\n\u001b[0;32m   (...)\u001b[0m\n\u001b[1;32m     42\u001b[0m     instance_type\u001b[38;5;241m=\u001b[39m\u001b[38;5;124m'\u001b[39m\u001b[38;5;124mml.m5.large\u001b[39m\u001b[38;5;124m'\u001b[39m\n\u001b[1;32m     43\u001b[0m )\n\u001b[0;32m---> 45\u001b[0m \u001b[43mscript_processor\u001b[49m\u001b[38;5;241;43m.\u001b[39;49m\u001b[43mrun\u001b[49m\u001b[43m(\u001b[49m\n\u001b[1;32m     46\u001b[0m \u001b[43m    \u001b[49m\u001b[43mjob_name\u001b[49m\u001b[38;5;241;43m=\u001b[39;49m\u001b[38;5;124;43m'\u001b[39;49m\u001b[38;5;124;43mwildfire-evaluation-job-t21\u001b[39;49m\u001b[38;5;124;43m'\u001b[39;49m\u001b[43m,\u001b[49m\n\u001b[1;32m     47\u001b[0m \u001b[43m    \u001b[49m\u001b[43mcode\u001b[49m\u001b[38;5;241;43m=\u001b[39;49m\u001b[43mscript_path\u001b[49m\u001b[43m,\u001b[49m\n\u001b[1;32m     48\u001b[0m \u001b[43m    \u001b[49m\u001b[43marguments\u001b[49m\u001b[38;5;241;43m=\u001b[39;49m\u001b[43m[\u001b[49m\n\u001b[1;32m     49\u001b[0m \u001b[43m        \u001b[49m\u001b[38;5;124;43m'\u001b[39;49m\u001b[38;5;124;43m--test_metadata_bucket\u001b[39;49m\u001b[38;5;124;43m'\u001b[39;49m\u001b[43m,\u001b[49m\u001b[43m \u001b[49m\u001b[43mconstants\u001b[49m\u001b[43m[\u001b[49m\u001b[38;5;124;43m\"\u001b[39;49m\u001b[38;5;124;43mbucket_name\u001b[39;49m\u001b[38;5;124;43m\"\u001b[39;49m\u001b[43m]\u001b[49m\u001b[43m,\u001b[49m\n\u001b[1;32m     50\u001b[0m \u001b[43m        \u001b[49m\u001b[38;5;124;43m'\u001b[39;49m\u001b[38;5;124;43m--best_model_bucket\u001b[39;49m\u001b[38;5;124;43m'\u001b[39;49m\u001b[43m,\u001b[49m\u001b[43m \u001b[49m\u001b[43mconstants\u001b[49m\u001b[43m[\u001b[49m\u001b[38;5;124;43m\"\u001b[39;49m\u001b[38;5;124;43mbucket_name\u001b[39;49m\u001b[38;5;124;43m\"\u001b[39;49m\u001b[43m]\u001b[49m\u001b[43m,\u001b[49m\n\u001b[1;32m     51\u001b[0m \u001b[43m        \u001b[49m\u001b[38;5;124;43m'\u001b[39;49m\u001b[38;5;124;43m--test_metadata_prefix\u001b[39;49m\u001b[38;5;124;43m'\u001b[39;49m\u001b[43m,\u001b[49m\u001b[43m \u001b[49m\u001b[38;5;124;43m'\u001b[39;49m\u001b[38;5;124;43msagemaker/fire-image-classification\u001b[39;49m\u001b[38;5;124;43m'\u001b[39;49m\u001b[43m,\u001b[49m\n\u001b[1;32m     52\u001b[0m \u001b[43m        \u001b[49m\u001b[38;5;124;43m'\u001b[39;49m\u001b[38;5;124;43m--best_model_prefix\u001b[39;49m\u001b[38;5;124;43m'\u001b[39;49m\u001b[43m,\u001b[49m\u001b[43m \u001b[49m\u001b[38;5;124;43m'\u001b[39;49m\u001b[38;5;124;43mmodels\u001b[39;49m\u001b[38;5;124;43m'\u001b[39;49m\u001b[43m,\u001b[49m\n\u001b[1;32m     53\u001b[0m \u001b[43m        \u001b[49m\u001b[38;5;124;43m'\u001b[39;49m\u001b[38;5;124;43m--test_metadata_file\u001b[39;49m\u001b[38;5;124;43m'\u001b[39;49m\u001b[43m,\u001b[49m\u001b[43m \u001b[49m\u001b[38;5;124;43m'\u001b[39;49m\u001b[38;5;124;43mtest.pkl\u001b[39;49m\u001b[38;5;124;43m'\u001b[39;49m\u001b[43m,\u001b[49m\n\u001b[1;32m     54\u001b[0m \u001b[43m        \u001b[49m\u001b[38;5;124;43m'\u001b[39;49m\u001b[38;5;124;43m--best_model_file\u001b[39;49m\u001b[38;5;124;43m'\u001b[39;49m\u001b[43m,\u001b[49m\u001b[43m \u001b[49m\u001b[38;5;124;43m'\u001b[39;49m\u001b[38;5;124;43mmodel_resnet18.tar.gz\u001b[39;49m\u001b[38;5;124;43m'\u001b[39;49m\u001b[43m,\u001b[49m\n\u001b[1;32m     55\u001b[0m \u001b[43m        \u001b[49m\u001b[38;5;124;43m'\u001b[39;49m\u001b[38;5;124;43m--result_bucket\u001b[39;49m\u001b[38;5;124;43m'\u001b[39;49m\u001b[43m,\u001b[49m\u001b[43m \u001b[49m\u001b[43mconstants\u001b[49m\u001b[43m[\u001b[49m\u001b[38;5;124;43m\"\u001b[39;49m\u001b[38;5;124;43mbucket_name\u001b[39;49m\u001b[38;5;124;43m\"\u001b[39;49m\u001b[43m]\u001b[49m\u001b[43m,\u001b[49m\n\u001b[1;32m     56\u001b[0m \u001b[43m        \u001b[49m\u001b[38;5;124;43m'\u001b[39;49m\u001b[38;5;124;43m--result_prefix\u001b[39;49m\u001b[38;5;124;43m'\u001b[39;49m\u001b[43m,\u001b[49m\u001b[43m \u001b[49m\u001b[38;5;124;43m'\u001b[39;49m\u001b[38;5;124;43mevaluation/dummy/\u001b[39;49m\u001b[38;5;124;43m'\u001b[39;49m\u001b[43m,\u001b[49m\n\u001b[1;32m     57\u001b[0m \u001b[43m        \u001b[49m\u001b[38;5;124;43m'\u001b[39;49m\u001b[38;5;124;43m--data_dir\u001b[39;49m\u001b[38;5;124;43m'\u001b[39;49m\u001b[43m,\u001b[49m\u001b[43m \u001b[49m\u001b[38;5;124;43m'\u001b[39;49m\u001b[38;5;124;43ms3://wildfires/sagemaker/fire-image-classification\u001b[39;49m\u001b[38;5;124;43m'\u001b[39;49m\u001b[43m,\u001b[49m\n\u001b[1;32m     58\u001b[0m \u001b[43m        \u001b[49m\u001b[38;5;124;43m'\u001b[39;49m\u001b[38;5;124;43m--model_package_arn\u001b[39;49m\u001b[38;5;124;43m'\u001b[39;49m\u001b[43m,\u001b[49m\u001b[43m \u001b[49m\u001b[43mmodel_package_arn\u001b[49m\u001b[43m,\u001b[49m\n\u001b[1;32m     59\u001b[0m \u001b[43m        \u001b[49m\u001b[38;5;124;43m'\u001b[39;49m\u001b[38;5;124;43m--region\u001b[39;49m\u001b[38;5;124;43m'\u001b[39;49m\u001b[43m,\u001b[49m\u001b[43m \u001b[49m\u001b[43mconstants\u001b[49m\u001b[43m[\u001b[49m\u001b[38;5;124;43m\"\u001b[39;49m\u001b[38;5;124;43mregion\u001b[39;49m\u001b[38;5;124;43m\"\u001b[39;49m\u001b[43m]\u001b[49m\n\u001b[1;32m     60\u001b[0m \u001b[43m    \u001b[49m\u001b[43m]\u001b[49m\n\u001b[1;32m     61\u001b[0m \u001b[43m)\u001b[49m\n",
      "File \u001b[0;32m/opt/conda/lib/python3.10/site-packages/sagemaker/workflow/pipeline_context.py:346\u001b[0m, in \u001b[0;36mrunnable_by_pipeline.<locals>.wrapper\u001b[0;34m(*args, **kwargs)\u001b[0m\n\u001b[1;32m    342\u001b[0m         \u001b[38;5;28;01mreturn\u001b[39;00m context\n\u001b[1;32m    344\u001b[0m     \u001b[38;5;28;01mreturn\u001b[39;00m _StepArguments(retrieve_caller_name(self_instance), run_func, \u001b[38;5;241m*\u001b[39margs, \u001b[38;5;241m*\u001b[39m\u001b[38;5;241m*\u001b[39mkwargs)\n\u001b[0;32m--> 346\u001b[0m \u001b[38;5;28;01mreturn\u001b[39;00m \u001b[43mrun_func\u001b[49m\u001b[43m(\u001b[49m\u001b[38;5;241;43m*\u001b[39;49m\u001b[43margs\u001b[49m\u001b[43m,\u001b[49m\u001b[43m \u001b[49m\u001b[38;5;241;43m*\u001b[39;49m\u001b[38;5;241;43m*\u001b[39;49m\u001b[43mkwargs\u001b[49m\u001b[43m)\u001b[49m\n",
      "File \u001b[0;32m/opt/conda/lib/python3.10/site-packages/sagemaker/processing.py:688\u001b[0m, in \u001b[0;36mScriptProcessor.run\u001b[0;34m(self, code, inputs, outputs, arguments, wait, logs, job_name, experiment_config, kms_key)\u001b[0m\n\u001b[1;32m    686\u001b[0m \u001b[38;5;28mself\u001b[39m\u001b[38;5;241m.\u001b[39mjobs\u001b[38;5;241m.\u001b[39mappend(\u001b[38;5;28mself\u001b[39m\u001b[38;5;241m.\u001b[39mlatest_job)\n\u001b[1;32m    687\u001b[0m \u001b[38;5;28;01mif\u001b[39;00m wait:\n\u001b[0;32m--> 688\u001b[0m     \u001b[38;5;28;43mself\u001b[39;49m\u001b[38;5;241;43m.\u001b[39;49m\u001b[43mlatest_job\u001b[49m\u001b[38;5;241;43m.\u001b[39;49m\u001b[43mwait\u001b[49m\u001b[43m(\u001b[49m\u001b[43mlogs\u001b[49m\u001b[38;5;241;43m=\u001b[39;49m\u001b[43mlogs\u001b[49m\u001b[43m)\u001b[49m\n",
      "File \u001b[0;32m/opt/conda/lib/python3.10/site-packages/sagemaker/processing.py:1113\u001b[0m, in \u001b[0;36mProcessingJob.wait\u001b[0;34m(self, logs)\u001b[0m\n\u001b[1;32m   1106\u001b[0m \u001b[38;5;250m\u001b[39m\u001b[38;5;124;03m\"\"\"Waits for the processing job to complete.\u001b[39;00m\n\u001b[1;32m   1107\u001b[0m \n\u001b[1;32m   1108\u001b[0m \u001b[38;5;124;03mArgs:\u001b[39;00m\n\u001b[1;32m   1109\u001b[0m \u001b[38;5;124;03m    logs (bool): Whether to show the logs produced by the job (default: True).\u001b[39;00m\n\u001b[1;32m   1110\u001b[0m \n\u001b[1;32m   1111\u001b[0m \u001b[38;5;124;03m\"\"\"\u001b[39;00m\n\u001b[1;32m   1112\u001b[0m \u001b[38;5;28;01mif\u001b[39;00m logs:\n\u001b[0;32m-> 1113\u001b[0m     \u001b[38;5;28;43mself\u001b[39;49m\u001b[38;5;241;43m.\u001b[39;49m\u001b[43msagemaker_session\u001b[49m\u001b[38;5;241;43m.\u001b[39;49m\u001b[43mlogs_for_processing_job\u001b[49m\u001b[43m(\u001b[49m\u001b[38;5;28;43mself\u001b[39;49m\u001b[38;5;241;43m.\u001b[39;49m\u001b[43mjob_name\u001b[49m\u001b[43m,\u001b[49m\u001b[43m \u001b[49m\u001b[43mwait\u001b[49m\u001b[38;5;241;43m=\u001b[39;49m\u001b[38;5;28;43;01mTrue\u001b[39;49;00m\u001b[43m)\u001b[49m\n\u001b[1;32m   1114\u001b[0m \u001b[38;5;28;01melse\u001b[39;00m:\n\u001b[1;32m   1115\u001b[0m     \u001b[38;5;28mself\u001b[39m\u001b[38;5;241m.\u001b[39msagemaker_session\u001b[38;5;241m.\u001b[39mwait_for_processing_job(\u001b[38;5;28mself\u001b[39m\u001b[38;5;241m.\u001b[39mjob_name)\n",
      "File \u001b[0;32m/opt/conda/lib/python3.10/site-packages/sagemaker/session.py:5873\u001b[0m, in \u001b[0;36mSession.logs_for_processing_job\u001b[0;34m(self, job_name, wait, poll)\u001b[0m\n\u001b[1;32m   5870\u001b[0m             state \u001b[38;5;241m=\u001b[39m LogState\u001b[38;5;241m.\u001b[39mJOB_COMPLETE\n\u001b[1;32m   5872\u001b[0m \u001b[38;5;28;01mif\u001b[39;00m wait:\n\u001b[0;32m-> 5873\u001b[0m     \u001b[43m_check_job_status\u001b[49m\u001b[43m(\u001b[49m\u001b[43mjob_name\u001b[49m\u001b[43m,\u001b[49m\u001b[43m \u001b[49m\u001b[43mdescription\u001b[49m\u001b[43m,\u001b[49m\u001b[43m \u001b[49m\u001b[38;5;124;43m\"\u001b[39;49m\u001b[38;5;124;43mProcessingJobStatus\u001b[39;49m\u001b[38;5;124;43m\"\u001b[39;49m\u001b[43m)\u001b[49m\n\u001b[1;32m   5874\u001b[0m     \u001b[38;5;28;01mif\u001b[39;00m dot:\n\u001b[1;32m   5875\u001b[0m         \u001b[38;5;28mprint\u001b[39m()\n",
      "File \u001b[0;32m/opt/conda/lib/python3.10/site-packages/sagemaker/session.py:8079\u001b[0m, in \u001b[0;36m_check_job_status\u001b[0;34m(job, desc, status_key_name)\u001b[0m\n\u001b[1;32m   8073\u001b[0m \u001b[38;5;28;01mif\u001b[39;00m \u001b[38;5;124m\"\u001b[39m\u001b[38;5;124mCapacityError\u001b[39m\u001b[38;5;124m\"\u001b[39m \u001b[38;5;129;01min\u001b[39;00m \u001b[38;5;28mstr\u001b[39m(reason):\n\u001b[1;32m   8074\u001b[0m     \u001b[38;5;28;01mraise\u001b[39;00m exceptions\u001b[38;5;241m.\u001b[39mCapacityError(\n\u001b[1;32m   8075\u001b[0m         message\u001b[38;5;241m=\u001b[39mmessage,\n\u001b[1;32m   8076\u001b[0m         allowed_statuses\u001b[38;5;241m=\u001b[39m[\u001b[38;5;124m\"\u001b[39m\u001b[38;5;124mCompleted\u001b[39m\u001b[38;5;124m\"\u001b[39m, \u001b[38;5;124m\"\u001b[39m\u001b[38;5;124mStopped\u001b[39m\u001b[38;5;124m\"\u001b[39m],\n\u001b[1;32m   8077\u001b[0m         actual_status\u001b[38;5;241m=\u001b[39mstatus,\n\u001b[1;32m   8078\u001b[0m     )\n\u001b[0;32m-> 8079\u001b[0m \u001b[38;5;28;01mraise\u001b[39;00m exceptions\u001b[38;5;241m.\u001b[39mUnexpectedStatusException(\n\u001b[1;32m   8080\u001b[0m     message\u001b[38;5;241m=\u001b[39mmessage,\n\u001b[1;32m   8081\u001b[0m     allowed_statuses\u001b[38;5;241m=\u001b[39m[\u001b[38;5;124m\"\u001b[39m\u001b[38;5;124mCompleted\u001b[39m\u001b[38;5;124m\"\u001b[39m, \u001b[38;5;124m\"\u001b[39m\u001b[38;5;124mStopped\u001b[39m\u001b[38;5;124m\"\u001b[39m],\n\u001b[1;32m   8082\u001b[0m     actual_status\u001b[38;5;241m=\u001b[39mstatus,\n\u001b[1;32m   8083\u001b[0m )\n",
      "\u001b[0;31mUnexpectedStatusException\u001b[0m: Error for Processing job wildfire-evaluation-job-t21: Failed. Reason: AlgorithmError: , exit code: 1"
     ]
    }
   ],
   "source": [
    "import sagemaker\n",
    "import boto3\n",
    "from sagemaker.processing import ScriptProcessor\n",
    "from sagemaker import get_execution_role\n",
    "from sagemaker import image_uris\n",
    "\n",
    "role = get_execution_role()\n",
    "sm_session = sagemaker.Session()\n",
    "\n",
    "boto_session = boto3.Session()\n",
    "region = boto_session.region_name\n",
    "\n",
    "constants = {\n",
    "    \"bucket_name\": \"wildfires\",\n",
    "    # \"sklearn_image_uri_version\": \"1.2-1\",\n",
    "    \"region\": boto_session.region_name\n",
    "}\n",
    "\n",
    "script_path = sm_session.upload_data(\n",
    "    path='evaluation.py',\n",
    "    bucket=constants[\"bucket_name\"],\n",
    "    key_prefix=\"scripts\"\n",
    ")\n",
    "\n",
    "test_metadata_path = 's3://wildfires/sagemaker/fire-image-classification'\n",
    "\n",
    "best_model_path = 's3://fire-project-hs/34/36ba5f52b9944395ab2ccf94aed56e5a/artifacts/models'\n",
    "\n",
    "model_package_arn = 'arn:aws:sagemaker:eu-central-1:567821811420:model-package/first-fire-mlflow-ee0049/1'\n",
    "\n",
    "# sklearn_image_uri = image_uris.retrieve(\n",
    "#         framework=\"sklearn\",\n",
    "#         region=constants[\"region\"],\n",
    "#         version=constants[\"sklearn_image_uri_version\"],\n",
    "#     )\n",
    "\n",
    "script_processor = ScriptProcessor(\n",
    "    role=role,\n",
    "    image_uri='763104351884.dkr.ecr.eu-central-1.amazonaws.com/pytorch-inference:2.3.0-gpu-py311-cu121-ubuntu20.04-ec2',\n",
    "    command=['python3'],\n",
    "    instance_count=1,\n",
    "    instance_type='ml.m5.large'\n",
    ")\n",
    "\n",
    "script_processor.run(\n",
    "    job_name='wildfire-evaluation-job-t21',\n",
    "    code=script_path,\n",
    "    arguments=[\n",
    "        '--test_metadata_bucket', constants[\"bucket_name\"],\n",
    "        '--best_model_bucket', constants[\"bucket_name\"],\n",
    "        '--test_metadata_prefix', 'sagemaker/fire-image-classification',\n",
    "        '--best_model_prefix', 'models',\n",
    "        '--test_metadata_file', 'test.pkl',\n",
    "        '--best_model_file', 'model_resnet18.tar.gz',\n",
    "        '--result_bucket', constants[\"bucket_name\"],\n",
    "        '--result_prefix', 'evaluation/dummy/',\n",
    "        '--data_dir', 's3://wildfires/sagemaker/fire-image-classification',\n",
    "        '--model_package_arn', model_package_arn,\n",
    "        '--region', constants[\"region\"]\n",
    "    ]\n",
    ")"
   ]
  },
  {
   "cell_type": "code",
   "execution_count": null,
   "id": "d959a6da-0ff2-4901-89e6-65168244ae8f",
   "metadata": {},
   "outputs": [],
   "source": [
    "# import sagemaker\n",
    "# from sagemaker.processing import ScriptProcessor, ProcessingInput, ProcessingOutput\n",
    "\n",
    "# sagemaker_session = sagemaker.Session()\n",
    "# role = sagemaker.get_execution_role()\n",
    "\n",
    "# script_processor = ScriptProcessor(\n",
    "#     image_uri='763104351884.dkr.ecr.us-west-2.amazonaws.com/pytorch-inference:1.7.1-cpu-py36-ubuntu18.04',  # Kullanacağınız image\n",
    "#     role=role,\n",
    "#     instance_count=1,\n",
    "#     instance_type='ml.m5.xlarge'\n",
    "# )\n",
    "\n",
    "# script_processor.run(\n",
    "#     code='PATH-FOR-EVALUATION.PY',\n",
    "#     inputs=[\n",
    "#         ProcessingInput(\n",
    "#             source='PATH-FOR-TEST-DATASET and METADATA',\n",
    "#             destination='/opt/ml/processing/input'\n",
    "#         ),\n",
    "#         ProcessingInput(\n",
    "#             source='PATH-FOR-MODEL',\n",
    "#             destination='/opt/ml/processing/model'\n",
    "#         )\n",
    "#     ],\n",
    "#     outputs=[\n",
    "#         ProcessingOutput(\n",
    "#             source='/opt/ml/processing/output',\n",
    "#             destination='PATH-FOR-EVALUATION RESULTS'\n",
    "#         )\n",
    "#     ]\n",
    "# )\n"
   ]
  },
  {
   "cell_type": "code",
   "execution_count": null,
   "id": "72f0bae7-e675-42b6-90c7-dc1d303cb6aa",
   "metadata": {},
   "outputs": [],
   "source": [
    "import boto3\n",
    "\n",
    "\n",
    "sm = boto3.client('sagemaker')\n",
    "\n",
    "model_package_arn = 'arn:aws:sagemaker:eu-central-1:567821811420:model-package/first-fire-mlflow-ee0049/1'\n",
    "\n",
    "response = s3_client.get_object(Bucket=constants[\"bucket_name\"], Key='evaluation/dummy/')\n",
    "\n",
    "evaluation_result = response['Body'].read().decode('utf-8') \n",
    "\n",
    "\n",
    "sm.update_model_package(\n",
    "    ModelPackageArn=model_package_arn,\n",
    "    MetadataProperties={\n",
    "        'EvaluationResults': json.dumps(evaluation_result)\n",
    "    }\n",
    ")\n"
   ]
  },
  {
   "cell_type": "code",
   "execution_count": 5,
   "id": "8397a0d0-fd05-4894-8a28-bc9e098e1b25",
   "metadata": {},
   "outputs": [],
   "source": [
    "import boto3\n",
    "\n",
    "\n",
    "sm = boto3.client('sagemaker')"
   ]
  },
  {
   "cell_type": "code",
   "execution_count": 4,
   "id": "3ee71928-c49b-4713-b5e9-d3a98d37afdc",
   "metadata": {},
   "outputs": [
    {
     "data": {
      "text/plain": [
       "'eu-central-1'"
      ]
     },
     "execution_count": 4,
     "metadata": {},
     "output_type": "execute_result"
    }
   ],
   "source": [
    "boto_session.region_name"
   ]
  },
  {
   "cell_type": "code",
   "execution_count": 3,
   "id": "e3e0c9cb",
   "metadata": {},
   "outputs": [],
   "source": [
    "boto_session = boto3.Session()\n"
   ]
  },
  {
   "cell_type": "code",
   "execution_count": 6,
   "id": "201d12f6",
   "metadata": {},
   "outputs": [
    {
     "data": {
      "text/plain": [
       "<botocore.client.SageMaker at 0x7f122a5e3340>"
      ]
     },
     "execution_count": 6,
     "metadata": {},
     "output_type": "execute_result"
    }
   ],
   "source": [
    "sm"
   ]
  },
  {
   "cell_type": "code",
   "execution_count": 34,
   "id": "d34403ef",
   "metadata": {},
   "outputs": [],
   "source": [
    "result = {\"metrics\": {\"accuracy\": 0.0, \"test_loss\": 0.0}}"
   ]
  },
  {
   "cell_type": "code",
   "execution_count": 42,
   "id": "efc4a50c",
   "metadata": {},
   "outputs": [
    {
     "ename": "TypeError",
     "evalue": "'float' object is not iterable",
     "output_type": "error",
     "traceback": [
      "\u001b[0;31m---------------------------------------------------------------------------\u001b[0m",
      "\u001b[0;31mTypeError\u001b[0m                                 Traceback (most recent call last)",
      "Cell \u001b[0;32mIn[42], line 1\u001b[0m\n\u001b[0;32m----> 1\u001b[0m \u001b[38;5;28;43mlist\u001b[39;49m\u001b[43m(\u001b[49m\u001b[43mresult\u001b[49m\u001b[43m[\u001b[49m\u001b[38;5;124;43m\"\u001b[39;49m\u001b[38;5;124;43mmetrics\u001b[39;49m\u001b[38;5;124;43m\"\u001b[39;49m\u001b[43m]\u001b[49m\u001b[43m[\u001b[49m\u001b[38;5;124;43m'\u001b[39;49m\u001b[38;5;124;43maccuracy\u001b[39;49m\u001b[38;5;124;43m'\u001b[39;49m\u001b[43m]\u001b[49m\u001b[43m)\u001b[49m\n",
      "\u001b[0;31mTypeError\u001b[0m: 'float' object is not iterable"
     ]
    }
   ],
   "source": [
    "list(result[\"metrics\"]['accuracy'])"
   ]
  },
  {
   "cell_type": "code",
   "execution_count": 75,
   "id": "636335ac",
   "metadata": {},
   "outputs": [
    {
     "data": {
      "text/plain": [
       "{'accuracy': 0.0, 'test_loss': 0.0}"
      ]
     },
     "execution_count": 75,
     "metadata": {},
     "output_type": "execute_result"
    }
   ],
   "source": [
    "result['metrics']"
   ]
  },
  {
   "cell_type": "code",
   "execution_count": 54,
   "id": "03790a49",
   "metadata": {},
   "outputs": [
    {
     "data": {
      "text/plain": [
       "('{\"metrics\":', '{\"accuracy\":', '0.0,', '\"test_loss\":', '0.0}}')"
      ]
     },
     "execution_count": 54,
     "metadata": {},
     "output_type": "execute_result"
    }
   ],
   "source": [
    "tuple(json.dumps(result).split(\" \"))"
   ]
  },
  {
   "cell_type": "code",
   "execution_count": 50,
   "id": "f8d141d0-9b76-4354-a9bd-ff98cab7a1b4",
   "metadata": {},
   "outputs": [],
   "source": [
    "s3.download_file('wildfires', 'evaluation/dummy/', '48')"
   ]
  },
  {
   "cell_type": "code",
   "execution_count": 87,
   "id": "df5688f0-ddb1-44c9-bc3f-437f09a17d88",
   "metadata": {},
   "outputs": [],
   "source": [
    "model_metrics = {\n",
    "    'ModelQuality': {\n",
    "        'Statistics': {\n",
    "            'ContentType': 'application/json',\n",
    "            'Statistics': json.dumps(result)\n",
    "        }\n",
    "    }\n",
    "}"
   ]
  },
  {
   "cell_type": "code",
   "execution_count": 92,
   "id": "c6ae46e0-f327-44b8-a149-97bd3acdcee6",
   "metadata": {},
   "outputs": [
    {
     "ename": "ParamValidationError",
     "evalue": "Parameter validation failed:\nInvalid type for parameter AdditionalInferenceSpecificationsToAdd, value: {'ModelMetrics': [{'ModelQuality': {'Statistics': {'ContentType': 'application/json', 'Statistics': '{\"metrics\": {\"accuracy\": 0.0, \"test_loss\": 0.0}}'}}}]}, type: <class 'dict'>, valid types: <class 'list'>, <class 'tuple'>",
     "output_type": "error",
     "traceback": [
      "\u001b[0;31m---------------------------------------------------------------------------\u001b[0m",
      "\u001b[0;31mParamValidationError\u001b[0m                      Traceback (most recent call last)",
      "Cell \u001b[0;32mIn[92], line 1\u001b[0m\n\u001b[0;32m----> 1\u001b[0m \u001b[43msm\u001b[49m\u001b[38;5;241;43m.\u001b[39;49m\u001b[43mupdate_model_package\u001b[49m\u001b[43m(\u001b[49m\n\u001b[1;32m      2\u001b[0m \u001b[43m    \u001b[49m\u001b[43mModelPackageArn\u001b[49m\u001b[38;5;241;43m=\u001b[39;49m\u001b[43mmodel_package_arn\u001b[49m\u001b[43m,\u001b[49m\n\u001b[1;32m      3\u001b[0m \u001b[43m    \u001b[49m\u001b[43mModelApprovalStatus\u001b[49m\u001b[38;5;241;43m=\u001b[39;49m\u001b[38;5;124;43m'\u001b[39;49m\u001b[38;5;124;43mApproved\u001b[39;49m\u001b[38;5;124;43m'\u001b[39;49m\u001b[43m,\u001b[49m\u001b[43m  \u001b[49m\u001b[38;5;66;43;03m# veya ihtiyaç duyulan onay durumu\u001b[39;49;00m\n\u001b[1;32m      4\u001b[0m \u001b[43m    \u001b[49m\u001b[43mApprovalDescription\u001b[49m\u001b[38;5;241;43m=\u001b[39;49m\u001b[38;5;124;43m'\u001b[39;49m\u001b[38;5;124;43mModel evaluation results added\u001b[39;49m\u001b[38;5;124;43m'\u001b[39;49m\u001b[43m,\u001b[49m\n\u001b[1;32m      5\u001b[0m \u001b[43m    \u001b[49m\u001b[43mAdditionalInferenceSpecificationsToAdd\u001b[49m\u001b[38;5;241;43m=\u001b[39;49m\u001b[43m{\u001b[49m\n\u001b[1;32m      6\u001b[0m \u001b[43m        \u001b[49m\u001b[38;5;124;43m'\u001b[39;49m\u001b[38;5;124;43mModelMetrics\u001b[39;49m\u001b[38;5;124;43m'\u001b[39;49m\u001b[43m:\u001b[49m\u001b[43m \u001b[49m\u001b[43m[\u001b[49m\n\u001b[1;32m      7\u001b[0m \u001b[43m            \u001b[49m\u001b[43mmodel_metrics\u001b[49m\n\u001b[1;32m      8\u001b[0m \u001b[43m        \u001b[49m\u001b[43m]\u001b[49m\n\u001b[1;32m      9\u001b[0m \u001b[43m    \u001b[49m\u001b[43m}\u001b[49m\n\u001b[1;32m     10\u001b[0m \u001b[43m)\u001b[49m\n",
      "File \u001b[0;32m/opt/conda/lib/python3.10/site-packages/botocore/client.py:553\u001b[0m, in \u001b[0;36mClientCreator._create_api_method.<locals>._api_call\u001b[0;34m(self, *args, **kwargs)\u001b[0m\n\u001b[1;32m    549\u001b[0m     \u001b[38;5;28;01mraise\u001b[39;00m \u001b[38;5;167;01mTypeError\u001b[39;00m(\n\u001b[1;32m    550\u001b[0m         \u001b[38;5;124mf\u001b[39m\u001b[38;5;124m\"\u001b[39m\u001b[38;5;132;01m{\u001b[39;00mpy_operation_name\u001b[38;5;132;01m}\u001b[39;00m\u001b[38;5;124m() only accepts keyword arguments.\u001b[39m\u001b[38;5;124m\"\u001b[39m\n\u001b[1;32m    551\u001b[0m     )\n\u001b[1;32m    552\u001b[0m \u001b[38;5;66;03m# The \"self\" in this scope is referring to the BaseClient.\u001b[39;00m\n\u001b[0;32m--> 553\u001b[0m \u001b[38;5;28;01mreturn\u001b[39;00m \u001b[38;5;28;43mself\u001b[39;49m\u001b[38;5;241;43m.\u001b[39;49m\u001b[43m_make_api_call\u001b[49m\u001b[43m(\u001b[49m\u001b[43moperation_name\u001b[49m\u001b[43m,\u001b[49m\u001b[43m \u001b[49m\u001b[43mkwargs\u001b[49m\u001b[43m)\u001b[49m\n",
      "File \u001b[0;32m/opt/conda/lib/python3.10/site-packages/botocore/client.py:962\u001b[0m, in \u001b[0;36mBaseClient._make_api_call\u001b[0;34m(self, operation_name, api_params)\u001b[0m\n\u001b[1;32m    958\u001b[0m \u001b[38;5;28;01mif\u001b[39;00m properties:\n\u001b[1;32m    959\u001b[0m     \u001b[38;5;66;03m# Pass arbitrary endpoint info with the Request\u001b[39;00m\n\u001b[1;32m    960\u001b[0m     \u001b[38;5;66;03m# for use during construction.\u001b[39;00m\n\u001b[1;32m    961\u001b[0m     request_context[\u001b[38;5;124m'\u001b[39m\u001b[38;5;124mendpoint_properties\u001b[39m\u001b[38;5;124m'\u001b[39m] \u001b[38;5;241m=\u001b[39m properties\n\u001b[0;32m--> 962\u001b[0m request_dict \u001b[38;5;241m=\u001b[39m \u001b[38;5;28;43mself\u001b[39;49m\u001b[38;5;241;43m.\u001b[39;49m\u001b[43m_convert_to_request_dict\u001b[49m\u001b[43m(\u001b[49m\n\u001b[1;32m    963\u001b[0m \u001b[43m    \u001b[49m\u001b[43mapi_params\u001b[49m\u001b[38;5;241;43m=\u001b[39;49m\u001b[43mapi_params\u001b[49m\u001b[43m,\u001b[49m\n\u001b[1;32m    964\u001b[0m \u001b[43m    \u001b[49m\u001b[43moperation_model\u001b[49m\u001b[38;5;241;43m=\u001b[39;49m\u001b[43moperation_model\u001b[49m\u001b[43m,\u001b[49m\n\u001b[1;32m    965\u001b[0m \u001b[43m    \u001b[49m\u001b[43mendpoint_url\u001b[49m\u001b[38;5;241;43m=\u001b[39;49m\u001b[43mendpoint_url\u001b[49m\u001b[43m,\u001b[49m\n\u001b[1;32m    966\u001b[0m \u001b[43m    \u001b[49m\u001b[43mcontext\u001b[49m\u001b[38;5;241;43m=\u001b[39;49m\u001b[43mrequest_context\u001b[49m\u001b[43m,\u001b[49m\n\u001b[1;32m    967\u001b[0m \u001b[43m    \u001b[49m\u001b[43mheaders\u001b[49m\u001b[38;5;241;43m=\u001b[39;49m\u001b[43madditional_headers\u001b[49m\u001b[43m,\u001b[49m\n\u001b[1;32m    968\u001b[0m \u001b[43m\u001b[49m\u001b[43m)\u001b[49m\n\u001b[1;32m    969\u001b[0m resolve_checksum_context(request_dict, operation_model, api_params)\n\u001b[1;32m    971\u001b[0m service_id \u001b[38;5;241m=\u001b[39m \u001b[38;5;28mself\u001b[39m\u001b[38;5;241m.\u001b[39m_service_model\u001b[38;5;241m.\u001b[39mservice_id\u001b[38;5;241m.\u001b[39mhyphenize()\n",
      "File \u001b[0;32m/opt/conda/lib/python3.10/site-packages/botocore/client.py:1036\u001b[0m, in \u001b[0;36mBaseClient._convert_to_request_dict\u001b[0;34m(self, api_params, operation_model, endpoint_url, context, headers, set_user_agent_header)\u001b[0m\n\u001b[1;32m   1027\u001b[0m \u001b[38;5;28;01mdef\u001b[39;00m \u001b[38;5;21m_convert_to_request_dict\u001b[39m(\n\u001b[1;32m   1028\u001b[0m     \u001b[38;5;28mself\u001b[39m,\n\u001b[1;32m   1029\u001b[0m     api_params,\n\u001b[0;32m   (...)\u001b[0m\n\u001b[1;32m   1034\u001b[0m     set_user_agent_header\u001b[38;5;241m=\u001b[39m\u001b[38;5;28;01mTrue\u001b[39;00m,\n\u001b[1;32m   1035\u001b[0m ):\n\u001b[0;32m-> 1036\u001b[0m     request_dict \u001b[38;5;241m=\u001b[39m \u001b[38;5;28;43mself\u001b[39;49m\u001b[38;5;241;43m.\u001b[39;49m\u001b[43m_serializer\u001b[49m\u001b[38;5;241;43m.\u001b[39;49m\u001b[43mserialize_to_request\u001b[49m\u001b[43m(\u001b[49m\n\u001b[1;32m   1037\u001b[0m \u001b[43m        \u001b[49m\u001b[43mapi_params\u001b[49m\u001b[43m,\u001b[49m\u001b[43m \u001b[49m\u001b[43moperation_model\u001b[49m\n\u001b[1;32m   1038\u001b[0m \u001b[43m    \u001b[49m\u001b[43m)\u001b[49m\n\u001b[1;32m   1039\u001b[0m     \u001b[38;5;28;01mif\u001b[39;00m \u001b[38;5;129;01mnot\u001b[39;00m \u001b[38;5;28mself\u001b[39m\u001b[38;5;241m.\u001b[39m_client_config\u001b[38;5;241m.\u001b[39minject_host_prefix:\n\u001b[1;32m   1040\u001b[0m         request_dict\u001b[38;5;241m.\u001b[39mpop(\u001b[38;5;124m'\u001b[39m\u001b[38;5;124mhost_prefix\u001b[39m\u001b[38;5;124m'\u001b[39m, \u001b[38;5;28;01mNone\u001b[39;00m)\n",
      "File \u001b[0;32m/opt/conda/lib/python3.10/site-packages/botocore/validate.py:381\u001b[0m, in \u001b[0;36mParamValidationDecorator.serialize_to_request\u001b[0;34m(self, parameters, operation_model)\u001b[0m\n\u001b[1;32m    377\u001b[0m     report \u001b[38;5;241m=\u001b[39m \u001b[38;5;28mself\u001b[39m\u001b[38;5;241m.\u001b[39m_param_validator\u001b[38;5;241m.\u001b[39mvalidate(\n\u001b[1;32m    378\u001b[0m         parameters, operation_model\u001b[38;5;241m.\u001b[39minput_shape\n\u001b[1;32m    379\u001b[0m     )\n\u001b[1;32m    380\u001b[0m     \u001b[38;5;28;01mif\u001b[39;00m report\u001b[38;5;241m.\u001b[39mhas_errors():\n\u001b[0;32m--> 381\u001b[0m         \u001b[38;5;28;01mraise\u001b[39;00m ParamValidationError(report\u001b[38;5;241m=\u001b[39mreport\u001b[38;5;241m.\u001b[39mgenerate_report())\n\u001b[1;32m    382\u001b[0m \u001b[38;5;28;01mreturn\u001b[39;00m \u001b[38;5;28mself\u001b[39m\u001b[38;5;241m.\u001b[39m_serializer\u001b[38;5;241m.\u001b[39mserialize_to_request(\n\u001b[1;32m    383\u001b[0m     parameters, operation_model\n\u001b[1;32m    384\u001b[0m )\n",
      "\u001b[0;31mParamValidationError\u001b[0m: Parameter validation failed:\nInvalid type for parameter AdditionalInferenceSpecificationsToAdd, value: {'ModelMetrics': [{'ModelQuality': {'Statistics': {'ContentType': 'application/json', 'Statistics': '{\"metrics\": {\"accuracy\": 0.0, \"test_loss\": 0.0}}'}}}]}, type: <class 'dict'>, valid types: <class 'list'>, <class 'tuple'>"
     ]
    }
   ],
   "source": [
    "sm.update_model_package(\n",
    "    ModelPackageArn=model_package_arn,\n",
    "    ModelApprovalStatus='Approved',  # veya ihtiyaç duyulan onay durumu\n",
    "    ApprovalDescription='Model evaluation results added',\n",
    "    AdditionalInferenceSpecificationsToAdd={\n",
    "        'ModelMetrics': [\n",
    "            model_metrics\n",
    "        ]\n",
    "    }\n",
    ")"
   ]
  },
  {
   "cell_type": "code",
   "execution_count": null,
   "id": "ad06eb53-acea-4d65-b173-77ae1ee6150e",
   "metadata": {},
   "outputs": [],
   "source": []
  }
 ],
 "metadata": {
  "kernelspec": {
   "display_name": "Python 3 (ipykernel)",
   "language": "python",
   "name": "python3"
  },
  "language_info": {
   "codemirror_mode": {
    "name": "ipython",
    "version": 3
   },
   "file_extension": ".py",
   "mimetype": "text/x-python",
   "name": "python",
   "nbconvert_exporter": "python",
   "pygments_lexer": "ipython3",
   "version": "3.10.14"
  }
 },
 "nbformat": 4,
 "nbformat_minor": 5
}
