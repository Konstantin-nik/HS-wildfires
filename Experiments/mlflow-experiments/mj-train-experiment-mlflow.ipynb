{
 "cells": [
  {
   "cell_type": "code",
   "execution_count": 1,
   "id": "3fc7647b-41c6-4fc6-aefa-0f608d070613",
   "metadata": {},
   "outputs": [
    {
     "name": "stdout",
     "output_type": "stream",
     "text": [
      "Requirement already satisfied: mlflow==2.13.2 in /opt/conda/lib/python3.10/site-packages (2.13.2)\n",
      "Requirement already satisfied: sagemaker-mlflow==0.1.0 in /opt/conda/lib/python3.10/site-packages (0.1.0)\n",
      "Requirement already satisfied: Flask<4 in /opt/conda/lib/python3.10/site-packages (from mlflow==2.13.2) (3.0.3)\n",
      "Requirement already satisfied: alembic!=1.10.0,<2 in /opt/conda/lib/python3.10/site-packages (from mlflow==2.13.2) (1.13.1)\n",
      "Requirement already satisfied: cachetools<6,>=5.0.0 in /opt/conda/lib/python3.10/site-packages (from mlflow==2.13.2) (5.3.3)\n",
      "Requirement already satisfied: click<9,>=7.0 in /opt/conda/lib/python3.10/site-packages (from mlflow==2.13.2) (8.1.7)\n",
      "Requirement already satisfied: cloudpickle<4 in /opt/conda/lib/python3.10/site-packages (from mlflow==2.13.2) (2.2.1)\n",
      "Requirement already satisfied: docker<8,>=4.0.0 in /opt/conda/lib/python3.10/site-packages (from mlflow==2.13.2) (7.0.0)\n",
      "Requirement already satisfied: entrypoints<1 in /opt/conda/lib/python3.10/site-packages (from mlflow==2.13.2) (0.4)\n",
      "Requirement already satisfied: gitpython<4,>=3.1.9 in /opt/conda/lib/python3.10/site-packages (from mlflow==2.13.2) (3.1.43)\n",
      "Requirement already satisfied: graphene<4 in /opt/conda/lib/python3.10/site-packages (from mlflow==2.13.2) (3.3)\n",
      "Requirement already satisfied: importlib-metadata!=4.7.0,<8,>=3.7.0 in /opt/conda/lib/python3.10/site-packages (from mlflow==2.13.2) (6.10.0)\n",
      "Requirement already satisfied: markdown<4,>=3.3 in /opt/conda/lib/python3.10/site-packages (from mlflow==2.13.2) (3.6)\n",
      "Requirement already satisfied: matplotlib<4 in /opt/conda/lib/python3.10/site-packages (from mlflow==2.13.2) (3.8.4)\n",
      "Requirement already satisfied: numpy<2 in /opt/conda/lib/python3.10/site-packages (from mlflow==2.13.2) (1.26.4)\n",
      "Requirement already satisfied: opentelemetry-api<3,>=1.0.0 in /opt/conda/lib/python3.10/site-packages (from mlflow==2.13.2) (1.25.0)\n",
      "Requirement already satisfied: opentelemetry-sdk<3,>=1.0.0 in /opt/conda/lib/python3.10/site-packages (from mlflow==2.13.2) (1.25.0)\n",
      "Requirement already satisfied: packaging<25 in /opt/conda/lib/python3.10/site-packages (from mlflow==2.13.2) (23.2)\n",
      "Requirement already satisfied: pandas<3 in /opt/conda/lib/python3.10/site-packages (from mlflow==2.13.2) (2.1.4)\n",
      "Requirement already satisfied: protobuf<5,>=3.12.0 in /opt/conda/lib/python3.10/site-packages (from mlflow==2.13.2) (4.24.4)\n",
      "Requirement already satisfied: pyarrow<16,>=4.0.0 in /opt/conda/lib/python3.10/site-packages (from mlflow==2.13.2) (15.0.0)\n",
      "Requirement already satisfied: pytz<2025 in /opt/conda/lib/python3.10/site-packages (from mlflow==2.13.2) (2023.3)\n",
      "Requirement already satisfied: pyyaml<7,>=5.1 in /opt/conda/lib/python3.10/site-packages (from mlflow==2.13.2) (6.0.1)\n",
      "Requirement already satisfied: querystring-parser<2 in /opt/conda/lib/python3.10/site-packages (from mlflow==2.13.2) (1.2.4)\n",
      "Requirement already satisfied: requests<3,>=2.17.3 in /opt/conda/lib/python3.10/site-packages (from mlflow==2.13.2) (2.31.0)\n",
      "Requirement already satisfied: scikit-learn<2 in /opt/conda/lib/python3.10/site-packages (from mlflow==2.13.2) (1.4.2)\n",
      "Requirement already satisfied: scipy<2 in /opt/conda/lib/python3.10/site-packages (from mlflow==2.13.2) (1.11.4)\n",
      "Requirement already satisfied: sqlalchemy<3,>=1.4.0 in /opt/conda/lib/python3.10/site-packages (from mlflow==2.13.2) (1.4.49)\n",
      "Requirement already satisfied: sqlparse<1,>=0.4.0 in /opt/conda/lib/python3.10/site-packages (from mlflow==2.13.2) (0.4.4)\n",
      "Requirement already satisfied: Jinja2<4,>=2.11 in /opt/conda/lib/python3.10/site-packages (from mlflow==2.13.2) (3.1.4)\n",
      "Requirement already satisfied: gunicorn<23 in /opt/conda/lib/python3.10/site-packages (from mlflow==2.13.2) (22.0.0)\n",
      "Requirement already satisfied: boto3>=1.34 in /opt/conda/lib/python3.10/site-packages (from sagemaker-mlflow==0.1.0) (1.34.51)\n",
      "Requirement already satisfied: Mako in /opt/conda/lib/python3.10/site-packages (from alembic!=1.10.0,<2->mlflow==2.13.2) (1.3.5)\n",
      "Requirement already satisfied: typing-extensions>=4 in /opt/conda/lib/python3.10/site-packages (from alembic!=1.10.0,<2->mlflow==2.13.2) (4.11.0)\n",
      "Requirement already satisfied: botocore<1.35.0,>=1.34.51 in /opt/conda/lib/python3.10/site-packages (from boto3>=1.34->sagemaker-mlflow==0.1.0) (1.34.51)\n",
      "Requirement already satisfied: jmespath<2.0.0,>=0.7.1 in /opt/conda/lib/python3.10/site-packages (from boto3>=1.34->sagemaker-mlflow==0.1.0) (1.0.1)\n",
      "Requirement already satisfied: s3transfer<0.11.0,>=0.10.0 in /opt/conda/lib/python3.10/site-packages (from boto3>=1.34->sagemaker-mlflow==0.1.0) (0.10.1)\n",
      "Requirement already satisfied: urllib3>=1.26.0 in /opt/conda/lib/python3.10/site-packages (from docker<8,>=4.0.0->mlflow==2.13.2) (1.26.18)\n",
      "Requirement already satisfied: Werkzeug>=3.0.0 in /opt/conda/lib/python3.10/site-packages (from Flask<4->mlflow==2.13.2) (3.0.3)\n",
      "Requirement already satisfied: itsdangerous>=2.1.2 in /opt/conda/lib/python3.10/site-packages (from Flask<4->mlflow==2.13.2) (2.2.0)\n",
      "Requirement already satisfied: blinker>=1.6.2 in /opt/conda/lib/python3.10/site-packages (from Flask<4->mlflow==2.13.2) (1.8.2)\n",
      "Requirement already satisfied: gitdb<5,>=4.0.1 in /opt/conda/lib/python3.10/site-packages (from gitpython<4,>=3.1.9->mlflow==2.13.2) (4.0.11)\n",
      "Requirement already satisfied: graphql-core<3.3,>=3.1 in /opt/conda/lib/python3.10/site-packages (from graphene<4->mlflow==2.13.2) (3.2.3)\n",
      "Requirement already satisfied: graphql-relay<3.3,>=3.1 in /opt/conda/lib/python3.10/site-packages (from graphene<4->mlflow==2.13.2) (3.2.0)\n",
      "Requirement already satisfied: aniso8601<10,>=8 in /opt/conda/lib/python3.10/site-packages (from graphene<4->mlflow==2.13.2) (9.0.1)\n",
      "Requirement already satisfied: zipp>=0.5 in /opt/conda/lib/python3.10/site-packages (from importlib-metadata!=4.7.0,<8,>=3.7.0->mlflow==2.13.2) (3.17.0)\n",
      "Requirement already satisfied: MarkupSafe>=2.0 in /opt/conda/lib/python3.10/site-packages (from Jinja2<4,>=2.11->mlflow==2.13.2) (2.1.5)\n",
      "Requirement already satisfied: contourpy>=1.0.1 in /opt/conda/lib/python3.10/site-packages (from matplotlib<4->mlflow==2.13.2) (1.2.1)\n",
      "Requirement already satisfied: cycler>=0.10 in /opt/conda/lib/python3.10/site-packages (from matplotlib<4->mlflow==2.13.2) (0.12.1)\n",
      "Requirement already satisfied: fonttools>=4.22.0 in /opt/conda/lib/python3.10/site-packages (from matplotlib<4->mlflow==2.13.2) (4.51.0)\n",
      "Requirement already satisfied: kiwisolver>=1.3.1 in /opt/conda/lib/python3.10/site-packages (from matplotlib<4->mlflow==2.13.2) (1.4.5)\n",
      "Requirement already satisfied: pillow>=8 in /opt/conda/lib/python3.10/site-packages (from matplotlib<4->mlflow==2.13.2) (10.3.0)\n",
      "Requirement already satisfied: pyparsing>=2.3.1 in /opt/conda/lib/python3.10/site-packages (from matplotlib<4->mlflow==2.13.2) (3.1.2)\n",
      "Requirement already satisfied: python-dateutil>=2.7 in /opt/conda/lib/python3.10/site-packages (from matplotlib<4->mlflow==2.13.2) (2.9.0)\n",
      "Requirement already satisfied: deprecated>=1.2.6 in /opt/conda/lib/python3.10/site-packages (from opentelemetry-api<3,>=1.0.0->mlflow==2.13.2) (1.2.14)\n",
      "Requirement already satisfied: opentelemetry-semantic-conventions==0.46b0 in /opt/conda/lib/python3.10/site-packages (from opentelemetry-sdk<3,>=1.0.0->mlflow==2.13.2) (0.46b0)\n",
      "Requirement already satisfied: tzdata>=2022.1 in /opt/conda/lib/python3.10/site-packages (from pandas<3->mlflow==2.13.2) (2024.1)\n",
      "Requirement already satisfied: six in /opt/conda/lib/python3.10/site-packages (from querystring-parser<2->mlflow==2.13.2) (1.16.0)\n",
      "Requirement already satisfied: charset-normalizer<4,>=2 in /opt/conda/lib/python3.10/site-packages (from requests<3,>=2.17.3->mlflow==2.13.2) (3.3.2)\n",
      "Requirement already satisfied: idna<4,>=2.5 in /opt/conda/lib/python3.10/site-packages (from requests<3,>=2.17.3->mlflow==2.13.2) (3.7)\n",
      "Requirement already satisfied: certifi>=2017.4.17 in /opt/conda/lib/python3.10/site-packages (from requests<3,>=2.17.3->mlflow==2.13.2) (2024.2.2)\n",
      "Requirement already satisfied: joblib>=1.2.0 in /opt/conda/lib/python3.10/site-packages (from scikit-learn<2->mlflow==2.13.2) (1.4.2)\n",
      "Requirement already satisfied: threadpoolctl>=2.0.0 in /opt/conda/lib/python3.10/site-packages (from scikit-learn<2->mlflow==2.13.2) (3.5.0)\n",
      "Requirement already satisfied: greenlet!=0.4.17 in /opt/conda/lib/python3.10/site-packages (from sqlalchemy<3,>=1.4.0->mlflow==2.13.2) (3.0.3)\n",
      "Requirement already satisfied: wrapt<2,>=1.10 in /opt/conda/lib/python3.10/site-packages (from deprecated>=1.2.6->opentelemetry-api<3,>=1.0.0->mlflow==2.13.2) (1.14.1)\n",
      "Requirement already satisfied: smmap<6,>=3.0.1 in /opt/conda/lib/python3.10/site-packages (from gitdb<5,>=4.0.1->gitpython<4,>=3.1.9->mlflow==2.13.2) (5.0.0)\n"
     ]
    }
   ],
   "source": [
    "!pip install mlflow==2.13.2 sagemaker-mlflow==0.1.0"
   ]
  },
  {
   "cell_type": "code",
   "execution_count": 2,
   "id": "d1ac513a-fb44-48d0-b375-6c6fbcde3ce0",
   "metadata": {},
   "outputs": [
    {
     "name": "stdout",
     "output_type": "stream",
     "text": [
      "Usage: mlflow [OPTIONS] COMMAND [ARGS]...\n",
      "\n",
      "Options:\n",
      "  --version  Show the version and exit.\n",
      "  --help     Show this message and exit.\n",
      "\n",
      "Commands:\n",
      "  artifacts    Upload, list, and download artifacts from an MLflow...\n",
      "  db           Commands for managing an MLflow tracking database.\n",
      "  deployments  Deploy MLflow models to custom targets.\n",
      "  doctor       Prints out useful information for debugging issues with MLflow.\n",
      "  experiments  Manage experiments.\n",
      "  gc           Permanently delete runs in the `deleted` lifecycle stage.\n",
      "  models       Deploy MLflow models locally.\n",
      "  recipes      Run MLflow Recipes and inspect recipe results.\n",
      "  run          Run an MLflow project from the given URI.\n",
      "  runs         Manage runs.\n",
      "  sagemaker    Serve models on SageMaker.\n",
      "  server       Run the MLflow tracking server.\n"
     ]
    }
   ],
   "source": [
    "!mlflow"
   ]
  },
  {
   "cell_type": "code",
   "execution_count": 3,
   "id": "58cbba3c-1322-4665-9926-305effb60a82",
   "metadata": {},
   "outputs": [
    {
     "name": "stdout",
     "output_type": "stream",
     "text": [
      "sagemaker.config INFO - Not applying SDK defaults from location: /etc/xdg/sagemaker/config.yaml\n",
      "sagemaker.config INFO - Not applying SDK defaults from location: /home/sagemaker-user/.config/sagemaker/config.yaml\n"
     ]
    }
   ],
   "source": [
    "import sagemaker\n",
    "import boto3\n",
    "import mlflow\n",
    "\n",
    "# Initialize session\n",
    "sagemaker_session = sagemaker.Session()\n",
    "bucket = sagemaker_session.default_bucket()\n",
    "role = sagemaker.get_execution_role()\n",
    "\n",
    "region = sagemaker_session.boto_session.region_name\n",
    "athena_client = boto3.client('athena', region_name=region)\n",
    "\n",
    "# Initialize SageMaker FeatureStore client\n",
    "featurestore_client = boto3.client('sagemaker-featurestore-runtime')\n",
    "tracking_server_arn = 'arn:aws:sagemaker:eu-central-1:567821811420:mlflow-tracking-server/wildfire-mj'\n",
    "experiment_name = 'wildfire-resnet'"
   ]
  },
  {
   "cell_type": "code",
   "execution_count": 4,
   "id": "bd14282a-6c81-4910-b090-b78f47160449",
   "metadata": {},
   "outputs": [],
   "source": [
    "# mlflow.set_tracking_uri(tracking_server_arn)\n",
    "# mlflow.autolog()"
   ]
  },
  {
   "cell_type": "code",
   "execution_count": 5,
   "id": "4aa10ac1-32dc-4c24-9e12-9de1630c6df9",
   "metadata": {},
   "outputs": [],
   "source": [
    "\n",
    "# mlflow.set_experiment(experiment_name)\n",
    "\n",
    "# with mlflow.start_run(run_name=sagemaker.utils.name_from_base(\"HPODemo\")) as run:\n",
    "#     runid = run.info.run_id\n",
    "#     # mlflow.autolog()\n",
    "\n",
    "#     mlflow.log_params({'a': 12, 'b': 1234}, run_id=runid)"
   ]
  },
  {
   "cell_type": "code",
   "execution_count": 6,
   "id": "668a3b67-fa73-45f1-8c76-a0f0e2514817",
   "metadata": {},
   "outputs": [],
   "source": [
    "import pandas as pd\n",
    "from io import BytesIO\n",
    "import base64\n",
    "from PIL import Image\n",
    "import numpy as np\n",
    "from sagemaker.feature_store.feature_group import FeatureGroup\n",
    "\n",
    "# Define feature group\n",
    "bucket = \"fire-project-hs\"\n",
    "feature_group_name = \"test-fire-image-hs\"\n",
    "feature_group = FeatureGroup(name=feature_group_name, sagemaker_session=sagemaker_session)\n"
   ]
  },
  {
   "cell_type": "code",
   "execution_count": 7,
   "id": "f7cbd10b-7c17-4bad-838f-d1301c4ba9cd",
   "metadata": {},
   "outputs": [],
   "source": [
    "def run_query(query):\n",
    "    # Run query\n",
    "    response = athena_client.start_query_execution(\n",
    "        QueryString=query,\n",
    "        QueryExecutionContext={\n",
    "            'Database': 'sagemaker_featurestore'\n",
    "        },\n",
    "        ResultConfiguration={\n",
    "            'OutputLocation': 's3://'+ bucket + '/feature-store-output/'\n",
    "        }\n",
    "    )\n",
    "\n",
    "    query_execution_id = response['QueryExecutionId']\n",
    "\n",
    "    status = 'RUNNING'\n",
    "    while status != 'SUCCEEDED':\n",
    "        response = athena_client.get_query_execution(QueryExecutionId=query_execution_id)\n",
    "        status = response['QueryExecution']['Status']['State']\n",
    "\n",
    "    return query_execution_id\n",
    "\n",
    "\n",
    "def get_query_results_dataframe(query_execution_id):\n",
    "    results = []\n",
    "    next_token = None\n",
    "    while True:\n",
    "        if next_token:\n",
    "            response = athena_client.get_query_results(QueryExecutionId=query_execution_id, NextToken=next_token)\n",
    "        else:\n",
    "            response = athena_client.get_query_results(QueryExecutionId=query_execution_id)\n",
    "\n",
    "        results.extend(response['ResultSet']['Rows'])\n",
    "        next_token = response.get('NextToken')\n",
    "        if not next_token:\n",
    "            break\n",
    "\n",
    "    column_info = results[0]['Data']\n",
    "    columns = [col['VarCharValue'] for col in column_info]\n",
    "\n",
    "    data = []\n",
    "    for row in results[1:]:\n",
    "        data.append([col.get('VarCharValue', None) for col in row['Data']])\n",
    "\n",
    "    df = pd.DataFrame(data, columns=columns)\n",
    "    return df\n",
    "\n",
    "\n",
    "def convert_data(dataset, icolumn=\"image_data\", lcolumn=\"label\"):\n",
    "    def decode_image(base64_str):\n",
    "        img_data = base64.b64decode(base64_str)\n",
    "        img = Image.open(BytesIO(img_data))\n",
    "        return np.array(img)\n",
    "\n",
    "    def decode_label(label):\n",
    "        return 1 if label == 'fire' else 0\n",
    "\n",
    "    dataset[icolumn] = dataset[icolumn].apply(decode_image)\n",
    "    dataset[lcolumn] = dataset[lcolumn].apply(decode_label)"
   ]
  },
  {
   "cell_type": "code",
   "execution_count": 8,
   "id": "9eca8fc7-2531-498b-a8c6-a4b309b967b7",
   "metadata": {},
   "outputs": [],
   "source": [
    "query = \"\"\"SELECT *\n",
    "FROM \"sagemaker_featurestore\".\"test_fire_image_hs_1718785080\"\n",
    "\"\"\"\n",
    "qid = run_query(query)\n",
    "data = get_query_results_dataframe(qid)\n",
    "convert_data(data, 'image_data', 'label')"
   ]
  },
  {
   "cell_type": "code",
   "execution_count": 9,
   "id": "eb53d83e-3f80-4ea6-8c5c-b2ab5679ef8f",
   "metadata": {},
   "outputs": [
    {
     "data": {
      "text/plain": [
       "('no fire', 488, 'fire', 1510)"
      ]
     },
     "execution_count": 9,
     "metadata": {},
     "output_type": "execute_result"
    }
   ],
   "source": [
    "'no fire', len(data.query(\"label == 0\")), 'fire', len(data.query(\"label == 1\"))"
   ]
  },
  {
   "cell_type": "code",
   "execution_count": 10,
   "id": "fd99863f-0c19-4c16-b93f-49d5225a4b38",
   "metadata": {},
   "outputs": [],
   "source": [
    "!mkdir datanp"
   ]
  },
  {
   "cell_type": "code",
   "execution_count": 11,
   "id": "e9695a5c-6adc-4027-ab76-a51fc1aa0e71",
   "metadata": {},
   "outputs": [],
   "source": [
    "from sklearn.model_selection import train_test_split\n",
    "\n",
    "X = np.stack(data['image_data'].values)\n",
    "y = data['label'].values\n",
    "\n",
    "\n",
    "X_train, X_val, y_train, y_val = train_test_split(X, y, test_size=0.2, random_state=42)\n",
    "\n",
    "# Save data locally\n",
    "np.save('datanp/X_train.npy', X_train)\n",
    "np.save('datanp/X_val.npy', X_val)\n",
    "np.save('datanp/y_train.npy', y_train)\n",
    "np.save('datanp/y_val.npy', y_val)"
   ]
  },
  {
   "cell_type": "code",
   "execution_count": 12,
   "id": "1098c23e-b6e0-4106-8065-2433d76b8335",
   "metadata": {},
   "outputs": [],
   "source": [
    "# mlflow.set_tracking_uri(tracking_server_arn)\n",
    "# mlflow.set_experiment(experiment_name)\n",
    "\n",
    "\n",
    "# with mlflow.start_run(run_name=sagemaker.utils.name_from_base(\"Resnet-wildfire\")) as run:\n",
    "#     mlflow.log_params({\n",
    "#         'train_split_size': len(X_train),\n",
    "#         'val_split_size': len(X_val),\n",
    "#         'epochs': 10,\n",
    "#         'batch_size': 32\n",
    "#     }, run_id=run.info.run_id)"
   ]
  },
  {
   "cell_type": "code",
   "execution_count": 13,
   "id": "21356e95-f6a8-4071-866e-0ceca6c3a06f",
   "metadata": {},
   "outputs": [
    {
     "name": "stdout",
     "output_type": "stream",
     "text": [
      "Writing requirements.txt\n"
     ]
    }
   ],
   "source": [
    "%%writefile requirements.txt\n",
    "mlflow==2.13.2\n",
    "torchinfo\n",
    "sagemaker-mlflow==0.1.0"
   ]
  },
  {
   "cell_type": "code",
   "execution_count": 14,
   "id": "27763971-2cf6-4700-84bd-f14ded183700",
   "metadata": {},
   "outputs": [
    {
     "name": "stdout",
     "output_type": "stream",
     "text": [
      "mlflow                                2.13.2\n",
      "sagemaker-mlflow                      0.1.0\n"
     ]
    }
   ],
   "source": [
    "!pip list | grep mlflow"
   ]
  },
  {
   "cell_type": "code",
   "execution_count": 16,
   "id": "8594f8af-9d9a-4143-8bf1-1e3f981a0ab1",
   "metadata": {},
   "outputs": [
    {
     "data": {
      "text/plain": [
       "'s3://fire-project-hs/val'"
      ]
     },
     "execution_count": 16,
     "metadata": {},
     "output_type": "execute_result"
    }
   ],
   "source": [
    "from sagemaker.pytorch import PyTorch\n",
    "\n",
    "# Save data locally or to S3\n",
    "train_dir = 's3://{}/train'.format(bucket)\n",
    "val_dir = 's3://{}/val'.format(bucket)\n",
    "train_data_path = sagemaker_session.upload_data(path='datanp', bucket=bucket, key_prefix='train')\n",
    "val_data_path = sagemaker_session.upload_data(path='datanp', bucket=bucket, key_prefix='val')\n",
    "\n",
    "# Configure the PyTorch estimator and mlflow\n",
    "\n",
    "run_base_name = 'resnet-gpu'\n",
    "\n",
    "pytorch_estimator = PyTorch(\n",
    "    entry_point='train-mlflow.py',\n",
    "    role=role,\n",
    "    instance_count=1,\n",
    "    instance_type=\"ml.p3.2xlarge\",\n",
    "    py_version=\"py39\",\n",
    "    framework_version=\"1.13\",\n",
    "    hyperparameters={\n",
    "        'epochs': 10,\n",
    "        'batch_size': 32,\n",
    "        'experiment_name': experiment_name,\n",
    "        'run_name': run_base_name\n",
    "    },\n",
    "    input_mode='File',\n",
    "    environment={\n",
    "        'MLFLOW_TRACKING_URIs': tracking_server_arn,\n",
    "        'MLFLOW_EXPERIMENT_NAME': experiment_name,\n",
    "        # 'MLFLOW_PARENT_RUN_ID': run.info.run_id\n",
    "    },\n",
    "    dependencies=['requirements.txt']\n",
    ")\n",
    "\n",
    "# Launch the training job\n",
    "pytorch_estimator.fit({'train': train_data_path, 'validation': val_data_path})"
   ]
  },
  {
   "cell_type": "code",
   "execution_count": null,
   "id": "f95cd976-35af-4637-a00d-9e694f10a06f",
   "metadata": {},
   "outputs": [],
   "source": []
  }
 ],
 "metadata": {
  "kernelspec": {
   "display_name": "Python 3 (ipykernel)",
   "language": "python",
   "name": "python3"
  },
  "language_info": {
   "codemirror_mode": {
    "name": "ipython",
    "version": 3
   },
   "file_extension": ".py",
   "mimetype": "text/x-python",
   "name": "python",
   "nbconvert_exporter": "python",
   "pygments_lexer": "ipython3",
   "version": "3.10.14"
  }
 },
 "nbformat": 4,
 "nbformat_minor": 5
}
