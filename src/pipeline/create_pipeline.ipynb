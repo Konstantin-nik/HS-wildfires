{
 "cells": [
  {
   "cell_type": "code",
   "execution_count": 1,
   "id": "fa7f0f56-c521-4468-9e15-0354086b4b80",
   "metadata": {},
   "outputs": [
    {
     "name": "stdout",
     "output_type": "stream",
     "text": [
      "sagemaker.config INFO - Not applying SDK defaults from location: /etc/xdg/sagemaker/config.yaml\n",
      "sagemaker.config INFO - Not applying SDK defaults from location: /home/sagemaker-user/.config/sagemaker/config.yaml\n"
     ]
    }
   ],
   "source": [
    "import sagemaker\n",
    "import boto3\n",
    "import os\n",
    "\n",
    "from sagemaker.workflow.parameters import (\n",
    "    ParameterInteger,\n",
    "    ParameterString\n",
    ")\n",
    "from sagemaker.workflow.pipeline import Pipeline\n",
    "from sagemaker.workflow.pipeline import PipelineDefinitionConfig\n",
    "from sagemaker import image_uris\n",
    "from steps.processor import get_processor_step\n",
    "from steps.evaluator import get_evaluator_step"
   ]
  },
  {
   "cell_type": "code",
   "execution_count": 2,
   "id": "9a07729a-c847-4e63-bf54-a85fc70a9c3f",
   "metadata": {},
   "outputs": [],
   "source": [
    "def get_parameters() -> dict:\n",
    "    # - Processing ----------------------------------\n",
    "    process_instance_count_param = ParameterInteger(\n",
    "        name=\"ProcessingInstanceCount\",\n",
    "        default_value=1\n",
    "    )\n",
    "    process_instance_type_param = ParameterString(\n",
    "        name=\"ProcessingInstanceType\",\n",
    "        default_value=\"ml.m5.large\",\n",
    "    )\n",
    "    # - Trainer -------------------------------------\n",
    "\n",
    "    #------------------------------------------------\n",
    "\n",
    "    return {\n",
    "        \"process_instance_count_param\": process_instance_count_param,\n",
    "        \"process_instance_type_param\": process_instance_type_param,\n",
    "    }"
   ]
  },
  {
   "cell_type": "code",
   "execution_count": 3,
   "id": "ef0366b4-ebe3-4891-b402-46c352315daf",
   "metadata": {},
   "outputs": [],
   "source": [
    "def get_pipeline(\n",
    "    session: sagemaker.Session,\n",
    "    parameters: dict,\n",
    "    constants: dict,\n",
    "    sklearn_image_uri: str,\n",
    "):\n",
    "    pipeline_def_config = PipelineDefinitionConfig(use_custom_job_prefix=True)\n",
    "\n",
    "    # - Processing ----------------------------------\n",
    "    processor_step = get_processor_step(\n",
    "        project=constants[\"project\"],\n",
    "        bucket_name=constants[\"bucket_name\"],\n",
    "        process_instance_count_param=parameters[\"process_instance_count_param\"],\n",
    "        process_instance_type_param=parameters[\"process_instance_type_param\"],\n",
    "        sklearn_image_uri=sklearn_image_uri,\n",
    "        region=constants[\"region\"],\n",
    "    )\n",
    "\n",
    "    # - Trainer -------------------------------------\n",
    "    trainer_step = get_trainer_step(\n",
    "\n",
    "    )\n",
    "\n",
    "    # - Evaluator ----------------------------------\n",
    "    evaluator_step = get_evaluator_step(\n",
    "        project=constants[\"project\"],\n",
    "        bucket_name=constants[\"bucket_name\"],\n",
    "        process_instance_count_param=parameters[\"process_instance_count_param\"],\n",
    "        process_instance_type_param=parameters[\"process_instance_type_param\"],\n",
    "        evaluation_image_uri='763104351884.dkr.ecr.eu-central-1.amazonaws.com/pytorch-inference:2.3.0-gpu-py311-cu121-ubuntu20.04-ec2',\n",
    "        region=constants[\"region\"],\n",
    "\n",
    "        test_metadata_prefix='sagemaker/fire-image-classification',\n",
    "        best_model_prefix='models',\n",
    "        test_metadata_file='test.pkl',\n",
    "        best_model_file='model_resnet18.tar.gz',\n",
    "        result_prefix='evaluation/dummy',\n",
    "        data_dir='s3://wildfires/sagemaker/fire-image-classification',\n",
    "        model_package_arn='arn:aws:sagemaker:eu-central-1:567821811420:model-package/first-fire-mlflow-ee0049/1'\n",
    "    )\n",
    "\n",
    "    # ------------------------------------------------\n",
    "\n",
    "    return Pipeline(\n",
    "        name=f\"{constants['project']}-pipeline\",\n",
    "        parameters=[parameters[key] for key in parameters],\n",
    "        pipeline_definition_config=pipeline_def_config,\n",
    "        steps=[\n",
    "            processor_step,\n",
    "            trainer_step,\n",
    "            evaluator_step\n",
    "        ],\n",
    "    )"
   ]
  },
  {
   "cell_type": "code",
   "execution_count": 4,
   "id": "aa33829a-96e9-497d-b384-74ae680f88f4",
   "metadata": {},
   "outputs": [
    {
     "name": "stderr",
     "output_type": "stream",
     "text": [
      "INFO:sagemaker.image_uris:Defaulting to only available Python version: py3\n",
      "INFO:sagemaker.image_uris:Defaulting to only supported image scope: cpu.\n"
     ]
    },
    {
     "name": "stdout",
     "output_type": "stream",
     "text": [
      "/home/sagemaker-user/src/pipeline\n"
     ]
    },
    {
     "data": {
      "text/plain": [
       "{'PipelineArn': 'arn:aws:sagemaker:eu-central-1:567821811420:pipeline/wildfire-project-pipeline',\n",
       " 'ResponseMetadata': {'RequestId': '4e77de58-ccf3-47ac-bd08-6c06ee666de3',\n",
       "  'HTTPStatusCode': 200,\n",
       "  'HTTPHeaders': {'x-amzn-requestid': '4e77de58-ccf3-47ac-bd08-6c06ee666de3',\n",
       "   'content-type': 'application/x-amz-json-1.1',\n",
       "   'content-length': '96',\n",
       "   'date': 'Tue, 25 Jun 2024 17:33:59 GMT'},\n",
       "  'RetryAttempts': 0}}"
      ]
     },
     "execution_count": 4,
     "metadata": {},
     "output_type": "execute_result"
    }
   ],
   "source": [
    "print(os.getcwd())\n",
    "\n",
    "parameters = get_parameters()\n",
    "\n",
    "constants = {\n",
    "    \"region\": \"eu-central-1\",\n",
    "    \"project\": \"wildfire-project\",\n",
    "    \"bucket_name\": \"wildfires\",\n",
    "    \"sklearn_image_uri_version\": \"1.2-1\",\n",
    "}\n",
    "\n",
    "session = sagemaker.Session(boto3.Session(region_name=constants[\"region\"]))\n",
    "\n",
    "sklearn_image_uri = image_uris.retrieve(\n",
    "    framework=\"sklearn\",\n",
    "    region=constants[\"region\"],\n",
    "    version=constants[\"sklearn_image_uri_version\"],\n",
    ")\n",
    "\n",
    "pipeline = get_pipeline(\n",
    "    session=session,\n",
    "    parameters=parameters,\n",
    "    constants=constants,\n",
    "    sklearn_image_uri=sklearn_image_uri,\n",
    ")\n",
    "\n",
    "pipeline.upsert(role_arn=sagemaker.get_execution_role())"
   ]
  },
  {
   "cell_type": "code",
   "execution_count": null,
   "id": "d86c36a4-ac8a-4df8-9bb5-30c6f09a615a",
   "metadata": {},
   "outputs": [],
   "source": []
  }
 ],
 "metadata": {
  "kernelspec": {
   "display_name": "Python 3 (ipykernel)",
   "language": "python",
   "name": "python3"
  },
  "language_info": {
   "codemirror_mode": {
    "name": "ipython",
    "version": 3
   },
   "file_extension": ".py",
   "mimetype": "text/x-python",
   "name": "python",
   "nbconvert_exporter": "python",
   "pygments_lexer": "ipython3",
   "version": "3.10.14"
  }
 },
 "nbformat": 4,
 "nbformat_minor": 5
}
