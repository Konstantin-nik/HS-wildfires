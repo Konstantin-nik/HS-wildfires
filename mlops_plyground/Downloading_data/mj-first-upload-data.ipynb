{
 "cells": [
  {
   "cell_type": "code",
   "execution_count": 33,
   "id": "5fb666cc-6a63-4796-95db-67f4a4312c47",
   "metadata": {},
   "outputs": [
    {
     "name": "stdout",
     "output_type": "stream",
     "text": [
      "Collecting roboflow\n",
      "  Downloading roboflow-1.1.32-py3-none-any.whl.metadata (9.3 kB)\n",
      "Collecting certifi==2023.7.22 (from roboflow)\n",
      "  Downloading certifi-2023.7.22-py3-none-any.whl.metadata (2.2 kB)\n",
      "Collecting chardet==4.0.0 (from roboflow)\n",
      "  Downloading chardet-4.0.0-py2.py3-none-any.whl.metadata (3.5 kB)\n",
      "Collecting cycler==0.10.0 (from roboflow)\n",
      "  Downloading cycler-0.10.0-py2.py3-none-any.whl.metadata (722 bytes)\n",
      "Collecting idna==2.10 (from roboflow)\n",
      "  Downloading idna-2.10-py2.py3-none-any.whl.metadata (9.1 kB)\n",
      "Requirement already satisfied: kiwisolver>=1.3.1 in /opt/conda/lib/python3.10/site-packages (from roboflow) (1.4.5)\n",
      "Requirement already satisfied: matplotlib in /opt/conda/lib/python3.10/site-packages (from roboflow) (3.8.4)\n",
      "Requirement already satisfied: numpy>=1.18.5 in /opt/conda/lib/python3.10/site-packages (from roboflow) (1.26.4)\n",
      "Collecting opencv-python-headless==4.8.0.74 (from roboflow)\n",
      "  Downloading opencv_python_headless-4.8.0.74-cp37-abi3-manylinux_2_17_x86_64.manylinux2014_x86_64.whl.metadata (19 kB)\n",
      "Requirement already satisfied: Pillow>=7.1.2 in /opt/conda/lib/python3.10/site-packages (from roboflow) (10.3.0)\n",
      "Requirement already satisfied: python-dateutil in /opt/conda/lib/python3.10/site-packages (from roboflow) (2.9.0)\n",
      "Collecting python-dotenv (from roboflow)\n",
      "  Downloading python_dotenv-1.0.1-py3-none-any.whl.metadata (23 kB)\n",
      "Requirement already satisfied: requests in /opt/conda/lib/python3.10/site-packages (from roboflow) (2.31.0)\n",
      "Requirement already satisfied: six in /opt/conda/lib/python3.10/site-packages (from roboflow) (1.16.0)\n",
      "Requirement already satisfied: urllib3>=1.26.6 in /opt/conda/lib/python3.10/site-packages (from roboflow) (1.26.18)\n",
      "Requirement already satisfied: tqdm>=4.41.0 in /opt/conda/lib/python3.10/site-packages (from roboflow) (4.66.4)\n",
      "Requirement already satisfied: PyYAML>=5.3.1 in /opt/conda/lib/python3.10/site-packages (from roboflow) (6.0.1)\n",
      "Collecting requests-toolbelt (from roboflow)\n",
      "  Downloading requests_toolbelt-1.0.0-py2.py3-none-any.whl.metadata (14 kB)\n",
      "Collecting python-magic (from roboflow)\n",
      "  Downloading python_magic-0.4.27-py2.py3-none-any.whl.metadata (5.8 kB)\n",
      "Requirement already satisfied: contourpy>=1.0.1 in /opt/conda/lib/python3.10/site-packages (from matplotlib->roboflow) (1.2.1)\n",
      "Requirement already satisfied: fonttools>=4.22.0 in /opt/conda/lib/python3.10/site-packages (from matplotlib->roboflow) (4.51.0)\n",
      "Requirement already satisfied: packaging>=20.0 in /opt/conda/lib/python3.10/site-packages (from matplotlib->roboflow) (23.2)\n",
      "Requirement already satisfied: pyparsing>=2.3.1 in /opt/conda/lib/python3.10/site-packages (from matplotlib->roboflow) (3.1.2)\n",
      "Requirement already satisfied: charset-normalizer<4,>=2 in /opt/conda/lib/python3.10/site-packages (from requests->roboflow) (3.3.2)\n",
      "\u001b[33mWARNING: The candidate selected for download or install is a yanked version: 'opencv-python-headless' candidate (version 4.8.0.74 at https://files.pythonhosted.org/packages/76/02/f128517f3ade4bb5f71e2afd8461dba70e3f466ce745fa1fd1fade9ad1b7/opencv_python_headless-4.8.0.74-cp37-abi3-manylinux_2_17_x86_64.manylinux2014_x86_64.whl (from https://pypi.org/simple/opencv-python-headless/) (requires-python:>=3.6))\n",
      "Reason for being yanked: deprecated, use 4.8.0.76\u001b[0m\u001b[33m\n",
      "\u001b[0mDownloading roboflow-1.1.32-py3-none-any.whl (75 kB)\n",
      "\u001b[2K   \u001b[90m━━━━━━━━━━━━━━━━━━━━━━━━━━━━━━━━━━━━━━━━\u001b[0m \u001b[32m75.6/75.6 kB\u001b[0m \u001b[31m9.6 MB/s\u001b[0m eta \u001b[36m0:00:00\u001b[0m\n",
      "\u001b[?25hDownloading certifi-2023.7.22-py3-none-any.whl (158 kB)\n",
      "\u001b[2K   \u001b[90m━━━━━━━━━━━━━━━━━━━━━━━━━━━━━━━━━━━━━━━━\u001b[0m \u001b[32m158.3/158.3 kB\u001b[0m \u001b[31m14.7 MB/s\u001b[0m eta \u001b[36m0:00:00\u001b[0m\n",
      "\u001b[?25hDownloading chardet-4.0.0-py2.py3-none-any.whl (178 kB)\n",
      "\u001b[2K   \u001b[90m━━━━━━━━━━━━━━━━━━━━━━━━━━━━━━━━━━━━━━━━\u001b[0m \u001b[32m178.7/178.7 kB\u001b[0m \u001b[31m17.5 MB/s\u001b[0m eta \u001b[36m0:00:00\u001b[0m\n",
      "\u001b[?25hDownloading cycler-0.10.0-py2.py3-none-any.whl (6.5 kB)\n",
      "Downloading idna-2.10-py2.py3-none-any.whl (58 kB)\n",
      "\u001b[2K   \u001b[90m━━━━━━━━━━━━━━━━━━━━━━━━━━━━━━━━━━━━━━━━\u001b[0m \u001b[32m58.8/58.8 kB\u001b[0m \u001b[31m8.8 MB/s\u001b[0m eta \u001b[36m0:00:00\u001b[0m\n",
      "\u001b[?25hDownloading opencv_python_headless-4.8.0.74-cp37-abi3-manylinux_2_17_x86_64.manylinux2014_x86_64.whl (49.1 MB)\n",
      "\u001b[2K   \u001b[90m━━━━━━━━━━━━━━━━━━━━━━━━━━━━━━━━━━━━━━━━\u001b[0m \u001b[32m49.1/49.1 MB\u001b[0m \u001b[31m33.6 MB/s\u001b[0m eta \u001b[36m0:00:00\u001b[0m:00:01\u001b[0m00:01\u001b[0m\n",
      "\u001b[?25hDownloading python_dotenv-1.0.1-py3-none-any.whl (19 kB)\n",
      "Downloading python_magic-0.4.27-py2.py3-none-any.whl (13 kB)\n",
      "Downloading requests_toolbelt-1.0.0-py2.py3-none-any.whl (54 kB)\n",
      "\u001b[2K   \u001b[90m━━━━━━━━━━━━━━━━━━━━━━━━━━━━━━━━━━━━━━━━\u001b[0m \u001b[32m54.5/54.5 kB\u001b[0m \u001b[31m7.0 MB/s\u001b[0m eta \u001b[36m0:00:00\u001b[0m\n",
      "\u001b[?25hInstalling collected packages: python-magic, python-dotenv, opencv-python-headless, idna, cycler, chardet, certifi, requests-toolbelt, roboflow\n",
      "  Attempting uninstall: idna\n",
      "    Found existing installation: idna 3.7\n",
      "    Uninstalling idna-3.7:\n",
      "      Successfully uninstalled idna-3.7\n",
      "  Attempting uninstall: cycler\n",
      "    Found existing installation: cycler 0.12.1\n",
      "    Uninstalling cycler-0.12.1:\n",
      "      Successfully uninstalled cycler-0.12.1\n",
      "  Attempting uninstall: chardet\n",
      "    Found existing installation: chardet 5.2.0\n",
      "    Uninstalling chardet-5.2.0:\n",
      "      Successfully uninstalled chardet-5.2.0\n",
      "  Attempting uninstall: certifi\n",
      "    Found existing installation: certifi 2024.2.2\n",
      "    Uninstalling certifi-2024.2.2:\n",
      "      Successfully uninstalled certifi-2024.2.2\n",
      "\u001b[31mERROR: pip's dependency resolver does not currently take into account all the packages that are installed. This behaviour is the source of the following dependency conflicts.\n",
      "sparkmagic 0.21.0 requires pandas<2.0.0,>=0.17.1, but you have pandas 2.1.4 which is incompatible.\u001b[0m\u001b[31m\n",
      "\u001b[0mSuccessfully installed certifi-2023.7.22 chardet-4.0.0 cycler-0.10.0 idna-2.10 opencv-python-headless-4.8.0.74 python-dotenv-1.0.1 python-magic-0.4.27 requests-toolbelt-1.0.0 roboflow-1.1.32\n"
     ]
    }
   ],
   "source": [
    "# First Env. Download Data\n",
    "!pip install roboflow\n",
    "\n",
    "from roboflow import Roboflow\n",
    "import boto3\n",
    "import os\n",
    "from tqdm.notebook import tqdm\n",
    "\n",
    "prefix = \"fire-dataset-cl-1\""
   ]
  },
  {
   "cell_type": "code",
   "execution_count": 26,
   "id": "611e822e-a137-43ea-9edb-05383e533a6f",
   "metadata": {},
   "outputs": [
    {
     "name": "stdout",
     "output_type": "stream",
     "text": [
      "total 388M\n",
      "-rw-r--r-- 1 sagemaker-user users 388M Jun 13 08:53 archive.zip\n",
      "drwxr-xr-x 4 sagemaker-user users   48 Jun 13 08:55 fire_dataset\n",
      "-rw-r--r-- 1 sagemaker-user users 2.7K Jun 13 09:02 mj-first.ipynb\n"
     ]
    }
   ],
   "source": [
    "!ls -lh\n",
    "# !unzip -o fire_dataset/"
   ]
  },
  {
   "cell_type": "code",
   "execution_count": 29,
   "id": "056ba419-fae4-489e-8e09-cc57da5faa6b",
   "metadata": {},
   "outputs": [
    {
     "name": "stdout",
     "output_type": "stream",
     "text": [
      "Bucket fire-project-hs created in region eu-central-1\n"
     ]
    }
   ],
   "source": [
    "bucket = \"fire-project-hs\"\n",
    "\n",
    "\n",
    "def create_bucket(bucket_name):\n",
    "    session = boto3.Session()\n",
    "\n",
    "    s3_client = session.client('s3')\n",
    "    region = session.region_name\n",
    "\n",
    "    # Create the bucket\n",
    "    if region == 'us-east-1':\n",
    "        # Us-east-1 does not require a LocationConstraint\n",
    "        s3_client.create_bucket(Bucket=bucket_name)\n",
    "    else:\n",
    "        s3_client.create_bucket(\n",
    "            Bucket=bucket_name,\n",
    "            CreateBucketConfiguration={\n",
    "                'LocationConstraint': region\n",
    "            }\n",
    "        )\n",
    "\n",
    "    print(f\"Bucket {bucket_name} created in region {region}\")\n",
    "\n",
    "\n",
    "create_bucket(bucket)"
   ]
  },
  {
   "cell_type": "code",
   "execution_count": 32,
   "id": "56d518a5-dc1f-4525-937e-18908177780d",
   "metadata": {},
   "outputs": [
    {
     "data": {
      "application/vnd.jupyter.widget-view+json": {
       "model_id": "80a3f599f199479ea3bb878b1fe088ea",
       "version_major": 2,
       "version_minor": 0
      },
      "text/plain": [
       "fire_dataset: 0it [00:00, ?it/s]"
      ]
     },
     "metadata": {},
     "output_type": "display_data"
    },
    {
     "data": {
      "application/vnd.jupyter.widget-view+json": {
       "model_id": "7ec52ef6c883451f844684f669f680f5",
       "version_major": 2,
       "version_minor": 0
      },
      "text/plain": [
       "fire_dataset/fire_images:   0%|          | 0/755 [00:00<?, ?it/s]"
      ]
     },
     "metadata": {},
     "output_type": "display_data"
    },
    {
     "data": {
      "application/vnd.jupyter.widget-view+json": {
       "model_id": "9470b21b2d5844e28cd5c7b24e932462",
       "version_major": 2,
       "version_minor": 0
      },
      "text/plain": [
       "fire_dataset/non_fire_images:   0%|          | 0/244 [00:00<?, ?it/s]"
      ]
     },
     "metadata": {},
     "output_type": "display_data"
    }
   ],
   "source": [
    "def upload_folder_to_s3(bucket_name, prefix, local_folder):\n",
    "    s3_resource = boto3.Session().resource('s3')\n",
    "    bucket = s3_resource.Bucket(bucket_name)\n",
    "\n",
    "    for root, dirs, files in os.walk(local_folder):\n",
    "        for file in tqdm(files, root):\n",
    "            local_path = os.path.join(root, file)\n",
    "            relative_path = os.path.relpath(local_path, local_folder)\n",
    "            s3_path = os.path.join(prefix, relative_path).replace(\"\\\\\", \"/\")  # Ensure S3 uses forward slashes\n",
    "\n",
    "            bucket.Object(s3_path).upload_file(local_path)\n",
    "\n",
    "\n",
    "local_folder = 'fire_dataset'\n",
    "upload_folder_to_s3(bucket, prefix, local_folder)"
   ]
  },
  {
   "cell_type": "code",
   "execution_count": 34,
   "id": "7a8c9751-fd4c-4ad0-8766-99c66e8bc578",
   "metadata": {},
   "outputs": [
    {
     "name": "stdout",
     "output_type": "stream",
     "text": [
      "loading Roboflow workspace...\n",
      "loading Roboflow project...\n"
     ]
    },
    {
     "name": "stderr",
     "output_type": "stream",
     "text": [
      "Downloading Dataset Version Zip in fire-project-4 to multiclass:: 100%|██████████| 4982/4982 [00:01<00:00, 4797.78it/s]"
     ]
    },
    {
     "name": "stdout",
     "output_type": "stream",
     "text": [
      "\n"
     ]
    },
    {
     "name": "stderr",
     "output_type": "stream",
     "text": [
      "\n",
      "Extracting Dataset Version Zip to fire-project-4 in multiclass:: 100%|██████████| 486/486 [00:00<00:00, 3861.60it/s]\n"
     ]
    }
   ],
   "source": [
    "# ------------------------------\n",
    "rf = Roboflow(api_key=\"4R0rPPW6Fi14nje1oLu5\")\n",
    "project = rf.workspace(\"fire-iak32\").project(\"fire-project\")\n",
    "version = project.version(4)\n",
    "dataset = version.download(\"multiclass\")\n"
   ]
  },
  {
   "cell_type": "code",
   "execution_count": 37,
   "id": "a0ff3c2c-962b-4343-b58b-581a49b670cc",
   "metadata": {},
   "outputs": [
    {
     "data": {
      "application/vnd.jupyter.widget-view+json": {
       "model_id": "b8c96cfd9d234d318e03f9586c02d76d",
       "version_major": 2,
       "version_minor": 0
      },
      "text/plain": [
       "fire-project-4:   0%|          | 0/2 [00:00<?, ?it/s]"
      ]
     },
     "metadata": {},
     "output_type": "display_data"
    },
    {
     "data": {
      "application/vnd.jupyter.widget-view+json": {
       "model_id": "4f4d33342c7949fdbca75fff00f792c7",
       "version_major": 2,
       "version_minor": 0
      },
      "text/plain": [
       "fire-project-4/train:   0%|          | 0/483 [00:00<?, ?it/s]"
      ]
     },
     "metadata": {},
     "output_type": "display_data"
    }
   ],
   "source": [
    "# !ls fire-project-4/train\n",
    "\n",
    "local_folder = 'fire-project-4'\n",
    "upload_folder_to_s3(bucket, prefix, local_folder)"
   ]
  },
  {
   "cell_type": "code",
   "execution_count": 38,
   "id": "f6cfe6c2-23e0-41eb-8a60-aaa48986a321",
   "metadata": {},
   "outputs": [
    {
     "name": "stdout",
     "output_type": "stream",
     "text": [
      "loading Roboflow workspace...\n",
      "loading Roboflow project...\n"
     ]
    },
    {
     "name": "stderr",
     "output_type": "stream",
     "text": [
      "Downloading Dataset Version Zip in Fire-Detection-1 to multiclass:: 100%|██████████| 206968/206968 [00:08<00:00, 24447.17it/s]"
     ]
    },
    {
     "name": "stdout",
     "output_type": "stream",
     "text": [
      "\n"
     ]
    },
    {
     "name": "stderr",
     "output_type": "stream",
     "text": [
      "\n",
      "Extracting Dataset Version Zip to Fire-Detection-1 in multiclass:: 100%|██████████| 8943/8943 [00:01<00:00, 5749.62it/s]\n"
     ]
    }
   ],
   "source": [
    "# ----------------------------------\n",
    "project = rf.workspace(\"fire-dataset-tp9jt\").project(\"fire-detection-sejra\")\n",
    "version = project.version(1)\n",
    "dataset = version.download(\"multiclass\")\n"
   ]
  },
  {
   "cell_type": "code",
   "execution_count": 40,
   "id": "96aa2b21-4553-422f-aa09-b96b8ec7a99d",
   "metadata": {},
   "outputs": [
    {
     "data": {
      "application/vnd.jupyter.widget-view+json": {
       "model_id": "faf5b9565f9246b58258b332ab185c0e",
       "version_major": 2,
       "version_minor": 0
      },
      "text/plain": [
       "Fire-Detection-1:   0%|          | 0/2 [00:00<?, ?it/s]"
      ]
     },
     "metadata": {},
     "output_type": "display_data"
    },
    {
     "data": {
      "application/vnd.jupyter.widget-view+json": {
       "model_id": "2125c4f9130e43c09bc31e09cbfb978d",
       "version_major": 2,
       "version_minor": 0
      },
      "text/plain": [
       "Fire-Detection-1/train:   0%|          | 0/8940 [00:00<?, ?it/s]"
      ]
     },
     "metadata": {},
     "output_type": "display_data"
    }
   ],
   "source": [
    "local_folder = 'Fire-Detection-1'\n",
    "upload_folder_to_s3(bucket, prefix, local_folder)"
   ]
  }
 ],
 "metadata": {
  "kernelspec": {
   "display_name": "Python 3 (ipykernel)",
   "language": "python",
   "name": "python3"
  },
  "language_info": {
   "codemirror_mode": {
    "name": "ipython",
    "version": 3
   },
   "file_extension": ".py",
   "mimetype": "text/x-python",
   "name": "python",
   "nbconvert_exporter": "python",
   "pygments_lexer": "ipython3",
   "version": "3.10.14"
  }
 },
 "nbformat": 4,
 "nbformat_minor": 5
}
