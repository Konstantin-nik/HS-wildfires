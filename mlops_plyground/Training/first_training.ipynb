{
 "cells": [
  {
   "cell_type": "code",
   "execution_count": 89,
   "id": "1d033d7b-3898-4365-a240-741644661e3a",
   "metadata": {},
   "outputs": [],
   "source": [
    "import time\n",
    "import os\n",
    "import json\n",
    "import boto3\n",
    "import numpy as np\n",
    "import sagemaker\n",
    "import requests\n",
    "import torch\n",
    "import tqdm\n",
    "\n",
    "import torch.nn as nn\n",
    "import torch.optim as optim\n",
    "\n",
    "from PIL import Image\n",
    "from torchvision import models\n",
    "from torchvision import transforms\n",
    "from collections import defaultdict\n",
    "from torch.utils.data import Dataset, DataLoader\n",
    "from sklearn.model_selection import train_test_split\n",
    "from sagemaker.feature_store.feature_group import FeatureGroup\n"
   ]
  },
  {
   "cell_type": "code",
   "execution_count": 90,
   "id": "59d9f78c-2220-427f-8f60-18395104a3ba",
   "metadata": {},
   "outputs": [],
   "source": [
    "boto_session = boto3.Session()\n",
    "region = boto_session.region_name\n",
    "\n",
    "sm_session = sagemaker.Session()\n",
    "sm_client = boto_session.client(\"sagemaker\")\n",
    "sm_role = sagemaker.get_execution_role()\n",
    "\n",
    "s3_client = boto3.client('s3')\n",
    "\n",
    "# Define your feature group name and region\n",
    "feature_group_name = 'fire-image-feature-group'\n",
    "\n",
    "# Athena client\n",
    "athena_client = boto3.client('athena', region_name=region)"
   ]
  },
  {
   "cell_type": "markdown",
   "id": "ee236211-5995-44bf-ba44-aef5c64fb10d",
   "metadata": {},
   "source": [
    "**Taking Data from Feature Store**"
   ]
  },
  {
   "cell_type": "code",
   "execution_count": 91,
   "id": "0b9b9052-fde9-4a73-bfcc-3039dc4e599b",
   "metadata": {},
   "outputs": [],
   "source": [
    "# Initialize the feature group\n",
    "feature_group = FeatureGroup(name=feature_group_name, sagemaker_session=sm_session)"
   ]
  },
  {
   "cell_type": "code",
   "execution_count": 92,
   "id": "4dcee432-bafc-409a-b90c-160a01c5fa01",
   "metadata": {},
   "outputs": [
    {
     "data": {
      "text/plain": [
       "[[{'VarCharValue': 'bf2519ec-cf14-4fdd-a4ba-78c1d02e960d'},\n",
       "  {'VarCharValue': 's3://wildfires/fire_images/fire.400.png'},\n",
       "  {'VarCharValue': '1'},\n",
       "  {'VarCharValue': 'png'},\n",
       "  {'VarCharValue': '2024-06-18T07:28:48.591943Z'},\n",
       "  {'VarCharValue': '2024-06-18 07:33:49.904'},\n",
       "  {'VarCharValue': '2024-06-18 07:28:53.000'},\n",
       "  {'VarCharValue': 'false'}],\n",
       " [{'VarCharValue': '91cbb182-380d-42b7-9330-75a340a0695c'},\n",
       "  {'VarCharValue': 's3://wildfires/fire_images/fire.401.png'},\n",
       "  {'VarCharValue': '1'},\n",
       "  {'VarCharValue': 'png'},\n",
       "  {'VarCharValue': '2024-06-18T07:28:48.591950Z'},\n",
       "  {'VarCharValue': '2024-06-18 07:33:57.493'},\n",
       "  {'VarCharValue': '2024-06-18 07:28:53.000'},\n",
       "  {'VarCharValue': 'false'}],\n",
       " [{'VarCharValue': '61f7b2dc-a9b5-48f5-b537-b74917e8f81d'},\n",
       "  {'VarCharValue': 's3://wildfires/fire_images/fire.706.png'},\n",
       "  {'VarCharValue': '1'},\n",
       "  {'VarCharValue': 'png'},\n",
       "  {'VarCharValue': '2024-06-18T07:28:48.594656Z'},\n",
       "  {'VarCharValue': '2024-06-18 07:33:57.493'},\n",
       "  {'VarCharValue': '2024-06-18 07:28:53.000'},\n",
       "  {'VarCharValue': 'false'}],\n",
       " [{'VarCharValue': 'b1e78cd0-abaa-4598-bddf-98d89bffe5d2'},\n",
       "  {'VarCharValue': 's3://wildfires/fire_images/fire.720.png'},\n",
       "  {'VarCharValue': '1'},\n",
       "  {'VarCharValue': 'png'},\n",
       "  {'VarCharValue': '2024-06-18T07:28:48.594766Z'},\n",
       "  {'VarCharValue': '2024-06-18 07:33:57.493'},\n",
       "  {'VarCharValue': '2024-06-18 07:28:53.000'},\n",
       "  {'VarCharValue': 'false'}],\n",
       " [{'VarCharValue': '36d33d00-efea-42ad-a3dd-94f1ea6c06a5'},\n",
       "  {'VarCharValue': 's3://wildfires/fire_images/fire.420.png'},\n",
       "  {'VarCharValue': '1'},\n",
       "  {'VarCharValue': 'png'},\n",
       "  {'VarCharValue': '2024-06-18T07:28:48.592144Z'},\n",
       "  {'VarCharValue': '2024-06-18 07:33:57.493'},\n",
       "  {'VarCharValue': '2024-06-18 07:28:53.000'},\n",
       "  {'VarCharValue': 'false'}]]"
      ]
     },
     "execution_count": 92,
     "metadata": {},
     "output_type": "execute_result"
    }
   ],
   "source": [
    "# Query\n",
    "query = \"\"\"SELECT *\n",
    "FROM \"AwsDataCatalog\".\"sagemaker_featurestore\".\"fire_image_feature_group_1718694943\";\n",
    "\"\"\"\n",
    "\n",
    "# Run query\n",
    "response = athena_client.start_query_execution(\n",
    "    QueryString=query,\n",
    "    QueryExecutionContext={\n",
    "        'Database': 'sagemaker_featurestore'\n",
    "    },\n",
    "    ResultConfiguration={\n",
    "        'OutputLocation': 's3://wildfires/feature-store-output/'\n",
    "    }\n",
    ")\n",
    "\n",
    "# Get query execution ID\n",
    "query_execution_id = response['QueryExecutionId']\n",
    "\n",
    "# Wait for the query to complete\n",
    "status = 'RUNNING'\n",
    "while status != 'SUCCEEDED':\n",
    "    response = athena_client.get_query_execution(QueryExecutionId=query_execution_id)\n",
    "    status = response['QueryExecution']['Status']['State']\n",
    "\n",
    "# Get the results\n",
    "response = athena_client.get_query_results(QueryExecutionId=query_execution_id)\n",
    "\n",
    "# Process the results into a DataFrame\n",
    "rows = [row['Data'] for row in response['ResultSet']['Rows'][1:]]\n",
    "columns = [col['VarCharValue'] for col in response['ResultSet']['Rows'][0]['Data']]\n",
    "\n",
    "rows[:5]"
   ]
  },
  {
   "cell_type": "code",
   "execution_count": 93,
   "id": "73a51a35-04cf-422d-99a1-25d49eb5bc55",
   "metadata": {},
   "outputs": [
    {
     "name": "stdout",
     "output_type": "stream",
     "text": [
      "Finished!\n"
     ]
    }
   ],
   "source": [
    "def download_images(metadata, download_dir='images'):\n",
    "    if not os.path.exists(download_dir):\n",
    "        os.makedirs(download_dir)\n",
    "\n",
    "    for record in metadata:\n",
    "        image_location = record['image_location']\n",
    "        bucket, key = image_location.replace('s3://', '').split('/', 1)\n",
    "        local_path = os.path.join(download_dir, os.path.basename(key))\n",
    "\n",
    "        s3_client.download_file(bucket, key, local_path)\n",
    "\n",
    "        record['local_path'] = local_path  # Add the local path to the record\n",
    "\n",
    "    return metadata\n",
    "\n",
    "\n",
    "metadata = [\n",
    "    {\n",
    "        'image_id': row[0]['VarCharValue'],\n",
    "        'image_location': row[1]['VarCharValue'],\n",
    "        'label': int(row[2]['VarCharValue']),\n",
    "        'image_type': row[3]['VarCharValue'],\n",
    "        'event_time': row[4]['VarCharValue'],\n",
    "    } for row in rows\n",
    "]\n",
    "\n",
    "metadata = download_images(metadata)\n",
    "print(\"Finished!\")"
   ]
  },
  {
   "cell_type": "code",
   "execution_count": 94,
   "id": "1638d68c-9af2-4828-8041-da3567b5bf5e",
   "metadata": {},
   "outputs": [
    {
     "name": "stdout",
     "output_type": "stream",
     "text": [
      "Training samples: 599\n",
      "Validation samples: 200\n",
      "Test samples: 200\n"
     ]
    }
   ],
   "source": [
    "# Split the metadata into train, validation, and test sets\n",
    "train_metadata, test_metadata = train_test_split(metadata, test_size=0.2, stratify=[m['label'] for m in metadata], random_state=42)\n",
    "train_metadata, val_metadata = train_test_split(train_metadata, test_size=0.25, stratify=[m['label'] for m in train_metadata], random_state=42)\n",
    "\n",
    "print(f\"Training samples: {len(train_metadata)}\")\n",
    "print(f\"Validation samples: {len(val_metadata)}\")\n",
    "print(f\"Test samples: {len(test_metadata)}\")"
   ]
  },
  {
   "cell_type": "code",
   "execution_count": 95,
   "id": "9cdedcc9-246b-4987-b5ca-4bb5499ef5a4",
   "metadata": {},
   "outputs": [],
   "source": [
    "class FireDataset(Dataset):\n",
    "    def __init__(self, metadata, transform=None):\n",
    "        self.metadata = metadata\n",
    "        self.transform = transform\n",
    "\n",
    "    def __len__(self):\n",
    "        return len(self.metadata)\n",
    "\n",
    "    def __getitem__(self, idx):\n",
    "        img_path = self.metadata[idx]['local_path']\n",
    "        image = Image.open(img_path).convert('RGB')\n",
    "        label = self.metadata[idx]['label']\n",
    "\n",
    "        if self.transform:\n",
    "            image = self.transform(image)\n",
    "\n",
    "        return image, label\n"
   ]
  },
  {
   "cell_type": "code",
   "execution_count": 96,
   "id": "4c4b6c07-2c7c-4ebd-920b-087d68a7f514",
   "metadata": {},
   "outputs": [],
   "source": [
    "# Define transformations for training and validation/test datasets\n",
    "train_transform = transforms.Compose([\n",
    "    transforms.Resize((224, 224)),\n",
    "    transforms.RandomHorizontalFlip(),\n",
    "    transforms.ToTensor(),\n",
    "    transforms.Normalize(mean=[0.485, 0.456, 0.406], std=[0.229, 0.224, 0.225])\n",
    "])\n",
    "\n",
    "val_test_transform = transforms.Compose([\n",
    "    transforms.Resize((224, 224)),\n",
    "    transforms.ToTensor(),\n",
    "    transforms.Normalize(mean=[0.485, 0.456, 0.406], std=[0.229, 0.224, 0.225])\n",
    "])\n",
    "\n",
    "# Create datasets\n",
    "train_dataset = FireDataset(train_metadata, transform=train_transform)\n",
    "val_dataset = FireDataset(val_metadata, transform=val_test_transform)\n",
    "test_dataset = FireDataset(test_metadata, transform=val_test_transform)\n",
    "\n",
    "# Create dataloaders\n",
    "train_loader = DataLoader(train_dataset, batch_size=32, shuffle=True)\n",
    "val_loader = DataLoader(val_dataset, batch_size=32, shuffle=False)\n",
    "test_loader = DataLoader(test_dataset, batch_size=32, shuffle=False)\n"
   ]
  },
  {
   "cell_type": "markdown",
   "id": "07f3cb17-cd31-4d28-9327-635a81150eb2",
   "metadata": {},
   "source": [
    "**Training**"
   ]
  },
  {
   "cell_type": "code",
   "execution_count": 97,
   "id": "87594c81-2940-4756-a66d-9fa00f2d0413",
   "metadata": {},
   "outputs": [],
   "source": [
    "model = models.resnet18(weights='ResNet18_Weights.DEFAULT')"
   ]
  },
  {
   "cell_type": "code",
   "execution_count": 98,
   "id": "922749f5-c8f5-464c-a41d-2312531c15df",
   "metadata": {},
   "outputs": [
    {
     "data": {
      "text/plain": [
       "ResNet(\n",
       "  (conv1): Conv2d(3, 64, kernel_size=(7, 7), stride=(2, 2), padding=(3, 3), bias=False)\n",
       "  (bn1): BatchNorm2d(64, eps=1e-05, momentum=0.1, affine=True, track_running_stats=True)\n",
       "  (relu): ReLU(inplace=True)\n",
       "  (maxpool): MaxPool2d(kernel_size=3, stride=2, padding=1, dilation=1, ceil_mode=False)\n",
       "  (layer1): Sequential(\n",
       "    (0): BasicBlock(\n",
       "      (conv1): Conv2d(64, 64, kernel_size=(3, 3), stride=(1, 1), padding=(1, 1), bias=False)\n",
       "      (bn1): BatchNorm2d(64, eps=1e-05, momentum=0.1, affine=True, track_running_stats=True)\n",
       "      (relu): ReLU(inplace=True)\n",
       "      (conv2): Conv2d(64, 64, kernel_size=(3, 3), stride=(1, 1), padding=(1, 1), bias=False)\n",
       "      (bn2): BatchNorm2d(64, eps=1e-05, momentum=0.1, affine=True, track_running_stats=True)\n",
       "    )\n",
       "    (1): BasicBlock(\n",
       "      (conv1): Conv2d(64, 64, kernel_size=(3, 3), stride=(1, 1), padding=(1, 1), bias=False)\n",
       "      (bn1): BatchNorm2d(64, eps=1e-05, momentum=0.1, affine=True, track_running_stats=True)\n",
       "      (relu): ReLU(inplace=True)\n",
       "      (conv2): Conv2d(64, 64, kernel_size=(3, 3), stride=(1, 1), padding=(1, 1), bias=False)\n",
       "      (bn2): BatchNorm2d(64, eps=1e-05, momentum=0.1, affine=True, track_running_stats=True)\n",
       "    )\n",
       "  )\n",
       "  (layer2): Sequential(\n",
       "    (0): BasicBlock(\n",
       "      (conv1): Conv2d(64, 128, kernel_size=(3, 3), stride=(2, 2), padding=(1, 1), bias=False)\n",
       "      (bn1): BatchNorm2d(128, eps=1e-05, momentum=0.1, affine=True, track_running_stats=True)\n",
       "      (relu): ReLU(inplace=True)\n",
       "      (conv2): Conv2d(128, 128, kernel_size=(3, 3), stride=(1, 1), padding=(1, 1), bias=False)\n",
       "      (bn2): BatchNorm2d(128, eps=1e-05, momentum=0.1, affine=True, track_running_stats=True)\n",
       "      (downsample): Sequential(\n",
       "        (0): Conv2d(64, 128, kernel_size=(1, 1), stride=(2, 2), bias=False)\n",
       "        (1): BatchNorm2d(128, eps=1e-05, momentum=0.1, affine=True, track_running_stats=True)\n",
       "      )\n",
       "    )\n",
       "    (1): BasicBlock(\n",
       "      (conv1): Conv2d(128, 128, kernel_size=(3, 3), stride=(1, 1), padding=(1, 1), bias=False)\n",
       "      (bn1): BatchNorm2d(128, eps=1e-05, momentum=0.1, affine=True, track_running_stats=True)\n",
       "      (relu): ReLU(inplace=True)\n",
       "      (conv2): Conv2d(128, 128, kernel_size=(3, 3), stride=(1, 1), padding=(1, 1), bias=False)\n",
       "      (bn2): BatchNorm2d(128, eps=1e-05, momentum=0.1, affine=True, track_running_stats=True)\n",
       "    )\n",
       "  )\n",
       "  (layer3): Sequential(\n",
       "    (0): BasicBlock(\n",
       "      (conv1): Conv2d(128, 256, kernel_size=(3, 3), stride=(2, 2), padding=(1, 1), bias=False)\n",
       "      (bn1): BatchNorm2d(256, eps=1e-05, momentum=0.1, affine=True, track_running_stats=True)\n",
       "      (relu): ReLU(inplace=True)\n",
       "      (conv2): Conv2d(256, 256, kernel_size=(3, 3), stride=(1, 1), padding=(1, 1), bias=False)\n",
       "      (bn2): BatchNorm2d(256, eps=1e-05, momentum=0.1, affine=True, track_running_stats=True)\n",
       "      (downsample): Sequential(\n",
       "        (0): Conv2d(128, 256, kernel_size=(1, 1), stride=(2, 2), bias=False)\n",
       "        (1): BatchNorm2d(256, eps=1e-05, momentum=0.1, affine=True, track_running_stats=True)\n",
       "      )\n",
       "    )\n",
       "    (1): BasicBlock(\n",
       "      (conv1): Conv2d(256, 256, kernel_size=(3, 3), stride=(1, 1), padding=(1, 1), bias=False)\n",
       "      (bn1): BatchNorm2d(256, eps=1e-05, momentum=0.1, affine=True, track_running_stats=True)\n",
       "      (relu): ReLU(inplace=True)\n",
       "      (conv2): Conv2d(256, 256, kernel_size=(3, 3), stride=(1, 1), padding=(1, 1), bias=False)\n",
       "      (bn2): BatchNorm2d(256, eps=1e-05, momentum=0.1, affine=True, track_running_stats=True)\n",
       "    )\n",
       "  )\n",
       "  (layer4): Sequential(\n",
       "    (0): BasicBlock(\n",
       "      (conv1): Conv2d(256, 512, kernel_size=(3, 3), stride=(2, 2), padding=(1, 1), bias=False)\n",
       "      (bn1): BatchNorm2d(512, eps=1e-05, momentum=0.1, affine=True, track_running_stats=True)\n",
       "      (relu): ReLU(inplace=True)\n",
       "      (conv2): Conv2d(512, 512, kernel_size=(3, 3), stride=(1, 1), padding=(1, 1), bias=False)\n",
       "      (bn2): BatchNorm2d(512, eps=1e-05, momentum=0.1, affine=True, track_running_stats=True)\n",
       "      (downsample): Sequential(\n",
       "        (0): Conv2d(256, 512, kernel_size=(1, 1), stride=(2, 2), bias=False)\n",
       "        (1): BatchNorm2d(512, eps=1e-05, momentum=0.1, affine=True, track_running_stats=True)\n",
       "      )\n",
       "    )\n",
       "    (1): BasicBlock(\n",
       "      (conv1): Conv2d(512, 512, kernel_size=(3, 3), stride=(1, 1), padding=(1, 1), bias=False)\n",
       "      (bn1): BatchNorm2d(512, eps=1e-05, momentum=0.1, affine=True, track_running_stats=True)\n",
       "      (relu): ReLU(inplace=True)\n",
       "      (conv2): Conv2d(512, 512, kernel_size=(3, 3), stride=(1, 1), padding=(1, 1), bias=False)\n",
       "      (bn2): BatchNorm2d(512, eps=1e-05, momentum=0.1, affine=True, track_running_stats=True)\n",
       "    )\n",
       "  )\n",
       "  (avgpool): AdaptiveAvgPool2d(output_size=(1, 1))\n",
       "  (fc): Linear(in_features=512, out_features=1000, bias=True)\n",
       ")"
      ]
     },
     "execution_count": 98,
     "metadata": {},
     "output_type": "execute_result"
    }
   ],
   "source": [
    "model"
   ]
  },
  {
   "cell_type": "code",
   "execution_count": 99,
   "id": "a473109c-5703-4470-894d-a74549c3dfd3",
   "metadata": {},
   "outputs": [],
   "source": [
    "num_ftrs = model.fc.in_features\n",
    "model.fc = nn.Linear(num_ftrs, 2)"
   ]
  },
  {
   "cell_type": "code",
   "execution_count": 100,
   "id": "a40d7ac5-37e0-447b-8fda-53c79c0df87f",
   "metadata": {},
   "outputs": [],
   "source": [
    "device = torch.device(\"cuda:0\" if torch.cuda.is_available() else \"cpu\")\n",
    "model = model.to(device)"
   ]
  },
  {
   "cell_type": "code",
   "execution_count": 101,
   "id": "4980dcd6-bf1a-4dce-af39-75bf032c3169",
   "metadata": {},
   "outputs": [],
   "source": [
    "criterion = nn.CrossEntropyLoss()\n",
    "optimizer = optim.Adam(model.parameters(), lr=0.1)"
   ]
  },
  {
   "cell_type": "code",
   "execution_count": 102,
   "id": "20073bcf-0a49-4e8f-954f-ffff83c1fc52",
   "metadata": {},
   "outputs": [],
   "source": [
    "def train(model, train_loader, optimizer, loss_function, epoch, device):\n",
    "    model = model.to(device)\n",
    "    loss_function = loss_function.to(device)\n",
    "    model.train()\n",
    "    train_loss = 0\n",
    "    for batch_idx, (data, target) in enumerate(train_loader):\n",
    "        data = data.to(device)\n",
    "        target = target.to(device)\n",
    "        optimizer.zero_grad()\n",
    "        output = model(data)\n",
    "        loss = loss_function(output, target)\n",
    "        train_loss += loss.sum().item()\n",
    "        loss.backward()\n",
    "        optimizer.step()\n",
    "        # state = {\"model_state\": model.state_dict(),\n",
    "        #      \"optimizer_state\": optimizer.state_dict(),\n",
    "        #      \"epoch\": epoch}\n",
    "        # torch.save(state, f\"{checkpoint_dir}/epoch_{epoch}.pth\")\n",
    "        if batch_idx % 200 == 0:\n",
    "            print('Train Epoch: {} [{}/{} ({:.0f}%)]\\tLoss: {:.6f}'.format(\n",
    "                epoch, batch_idx * len(data), len(train_loader.dataset),\n",
    "                100. * batch_idx / len(train_loader), loss.item()))\n",
    "    train_loss /= len(train_loader.dataset)\n",
    "    # writer.add_scalar(\"train-loss\", train_loss, global_step=epoch)\n",
    "\n",
    "\n",
    "def test(model, test_loader, loss_function, epoch, device):\n",
    "    model = model.to(device)\n",
    "    loss_function = loss_function.to(device)\n",
    "    model.eval()\n",
    "    test_loss = 0\n",
    "    correct = 0\n",
    "    with torch.no_grad():\n",
    "        for data, target in test_loader:\n",
    "            data = data.to(device)\n",
    "            target = target.to(device)\n",
    "            output = model(data)\n",
    "            test_loss += loss_function(output, target).sum().item()\n",
    "            pred = output.argmax(dim=1, keepdim=True)\n",
    "            correct += pred.eq(target.view_as(pred)).sum().item()\n",
    "\n",
    "    test_loss /= len(test_loader.dataset)\n",
    "    # writer.add_scalar(\"test-loss\", test_loss, global_step=epoch)\n",
    "    # writer.add_scalar(\"test-accuracy\", 100. * correct / len(test_loader.dataset), global_step=epoch)\n",
    "    print('\\nTest set: Average loss: {:.4f}, Accuracy: {}/{} ({:.0f}%)\\n'.format(\n",
    "        test_loss, correct, len(test_loader.dataset),\n",
    "        100. * correct / len(test_loader.dataset)))"
   ]
  },
  {
   "cell_type": "code",
   "execution_count": 103,
   "id": "282fe26f-753d-4da5-8c9f-958c5b776ac6",
   "metadata": {},
   "outputs": [],
   "source": [
    "def train_test(model, optimizer, train_loader, test_loader, device, n_epochs=1, cv=5):\n",
    "    for i in range(cv):\n",
    "        for epoch in range(0, n_epochs):\n",
    "            train(model, train_loader, optimizer, criterion, epoch, device)\n",
    "            test(model, test_loader, criterion, epoch, device)"
   ]
  },
  {
   "cell_type": "code",
   "execution_count": 104,
   "id": "aac5b32e-6fed-4dee-9ab1-79acd9a195b1",
   "metadata": {},
   "outputs": [
    {
     "name": "stdout",
     "output_type": "stream",
     "text": [
      "Train Epoch: 0 [0/599 (0%)]\tLoss: 0.672890\n",
      "\n",
      "Test set: Average loss: 37.0479, Accuracy: 151/200 (76%)\n",
      "\n",
      "Train Epoch: 1 [0/599 (0%)]\tLoss: 0.780573\n",
      "\n",
      "Test set: Average loss: 0.0160, Accuracy: 143/200 (72%)\n",
      "\n",
      "Train Epoch: 2 [0/599 (0%)]\tLoss: 0.355112\n",
      "\n",
      "Test set: Average loss: 0.0136, Accuracy: 160/200 (80%)\n",
      "\n",
      "Train Epoch: 3 [0/599 (0%)]\tLoss: 0.259229\n",
      "\n",
      "Test set: Average loss: 0.0126, Accuracy: 163/200 (82%)\n",
      "\n",
      "Train Epoch: 4 [0/599 (0%)]\tLoss: 0.481354\n",
      "\n",
      "Test set: Average loss: 0.0112, Accuracy: 169/200 (84%)\n",
      "\n"
     ]
    }
   ],
   "source": [
    "train_test(model=model,\n",
    "           optimizer=optimizer,\n",
    "           train_loader=train_loader,\n",
    "           test_loader=test_loader,\n",
    "           device=device,\n",
    "           n_epochs=5\n",
    "           )"
   ]
  },
  {
   "cell_type": "markdown",
   "id": "8a00a356-c7f1-41ce-bc70-c965ab7e7d7d",
   "metadata": {},
   "source": [
    "**Upload Model Artifact to S3**"
   ]
  },
  {
   "cell_type": "code",
   "execution_count": 105,
   "id": "67f0a7d6-a975-4cb7-a5d6-f2b988a66e56",
   "metadata": {},
   "outputs": [],
   "source": [
    "model_filename = \"model_resnet18\"\n",
    "model_folder = \"models/model_resnet18\"\n",
    "\n",
    "# %mkdir -p models\n",
    "\n",
    "torch.save(model.state_dict(), f'{model_folder}/{model_filename}.pth')"
   ]
  },
  {
   "cell_type": "code",
   "execution_count": null,
   "id": "756747b4-a3ba-49aa-a675-ea3210609ff8",
   "metadata": {},
   "outputs": [],
   "source": [
    "bucket = 'wildfires'\n",
    "prefix = 'sagemaker/fire-image-classification'\n",
    "\n",
    "# Upload the training script to S3\n",
    "s3 = boto3.client('s3')\n",
    "s3.upload_file('/home/sagemaker-user/Training/models/model_resnet18/code/inference.py', bucket, f'{prefix}/inference.py')\n"
   ]
  },
  {
   "cell_type": "code",
   "execution_count": null,
   "id": "98542298-af46-44d1-a2b8-107398d66a08",
   "metadata": {},
   "outputs": [],
   "source": [
    "%cd models\n",
    "%cd model_resnet18\n",
    "!tar -czvf model_resnet18.tar.gz model_resnet18.pth code/"
   ]
  },
  {
   "cell_type": "code",
   "execution_count": null,
   "id": "d8b1308d-3b94-43e3-aec8-9b62c629a60d",
   "metadata": {},
   "outputs": [],
   "source": [
    "s3 = boto3.client('s3')\n",
    "\n",
    "BUCKET_NAME = 'wildfires'\n",
    "\n",
    "s3.upload_file(\n",
    "    f'{model_filename}.tar.gz',\n",
    "    BUCKET_NAME,\n",
    "    f\"models/{model_filename}.tar.gz\",\n",
    ")"
   ]
  },
  {
   "cell_type": "markdown",
   "id": "da72f8bd-c876-47a3-9866-09346418b0b4",
   "metadata": {},
   "source": [
    "**Continue with Deployment/deployment.ipynb or ModelRegistry/model_registry.ipynb**"
   ]
  },
  {
   "cell_type": "code",
   "execution_count": null,
   "id": "15920ea6-358e-4146-b360-223ce9a8e7a0",
   "metadata": {},
   "outputs": [],
   "source": []
  }
 ],
 "metadata": {
  "kernelspec": {
   "display_name": "Python 3 (ipykernel)",
   "language": "python",
   "name": "python3"
  },
  "language_info": {
   "codemirror_mode": {
    "name": "ipython",
    "version": 3
   },
   "file_extension": ".py",
   "mimetype": "text/x-python",
   "name": "python",
   "nbconvert_exporter": "python",
   "pygments_lexer": "ipython3",
   "version": "3.10.14"
  }
 },
 "nbformat": 4,
 "nbformat_minor": 5
}
